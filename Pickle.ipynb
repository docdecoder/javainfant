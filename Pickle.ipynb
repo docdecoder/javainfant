{
  "nbformat": 4,
  "nbformat_minor": 0,
  "metadata": {
    "colab": {
      "provenance": [],
      "authorship_tag": "ABX9TyMf0ATsqRVM/8+3mpPpwxna",
      "include_colab_link": true
    },
    "kernelspec": {
      "name": "python3",
      "display_name": "Python 3"
    },
    "language_info": {
      "name": "python"
    }
  },
  "cells": [
    {
      "cell_type": "markdown",
      "metadata": {
        "id": "view-in-github",
        "colab_type": "text"
      },
      "source": [
        "<a href=\"https://colab.research.google.com/github/docdecoder/javainfant/blob/master/Pickle.ipynb\" target=\"_parent\"><img src=\"https://colab.research.google.com/assets/colab-badge.svg\" alt=\"Open In Colab\"/></a>"
      ]
    },
    {
      "cell_type": "code",
      "execution_count": 2,
      "metadata": {
        "id": "kRCvoxKXBDiJ"
      },
      "outputs": [],
      "source": [
        "import pickle"
      ]
    },
    {
      "cell_type": "markdown",
      "source": [
        "This code imports the pickle module in Python, which is used for serializing and de-serializing Python objects.\n",
        "\n"
      ],
      "metadata": {
        "id": "RSQWNqx4kt7r"
      }
    },
    {
      "cell_type": "markdown",
      "source": [
        "# Serializing Python Data Structures with Pickle\n",
        "# Lists"
      ],
      "metadata": {
        "id": "9yia185zpd5T"
      }
    },
    {
      "cell_type": "code",
      "source": [
        "system_names= [ 'Cardiovascular System', 'Respiratory System', 'Digestive System', 'Neurological System', 'Lymphatic System', ' Endocrinological System','Immunological System','Skeletal System']"
      ],
      "metadata": {
        "id": "4FWFqJrpkxBU"
      },
      "execution_count": null,
      "outputs": []
    },
    {
      "cell_type": "markdown",
      "source": [
        "\n",
        "\n",
        "This code uses the Python pickle module to serialize a list of system names and save it to a file named \"system_file.pkl\".\n",
        "\n",
        "The with statement is used to open the file in binary write mode ('wb') and assign it to the variable f. This ensures that the file is properly closed after the block of code is executed, even if an error occurs.\n",
        "\n",
        "The pickle.dump() function is then used to serialize the system_names list and write it to the file f. Serialization is the process of converting an object into a format that can be stored or transmitted, in this case, a binary format.\n",
        "\n",
        "Overall, this code saves a list of system names to a file using the pickle module.\n",
        "\n"
      ],
      "metadata": {
        "id": "iPEVMPHZlyxT"
      }
    },
    {
      "cell_type": "code",
      "source": [
        "with open('system_file.pkl', 'wb') as f:  # open a text file\n",
        "    pickle.dump(system_names, f) # serialize the list"
      ],
      "metadata": {
        "id": "d-E3JfqeljjR"
      },
      "execution_count": null,
      "outputs": []
    },
    {
      "cell_type": "markdown",
      "source": [
        "The extension does not have to be .pkl. You can name this anything you’d like, and the file will still be created. However, it is good practice to use the .pkl extension so that you are reminded that this is a Pickle file.\n",
        "\n",
        "Also, notice that we opened the file in wb mode. This means that you are writing the file in binary mode so that the data is returned in a bytes object.\n",
        "\n",
        "Then, we use the dump() function to store the system_names list in the file.\n",
        "\n",
        "Finally, you can close the file with the following line of code:"
      ],
      "metadata": {
        "id": "qj68k5SBm0A9"
      }
    },
    {
      "cell_type": "code",
      "source": [
        "f.close()"
      ],
      "metadata": {
        "id": "KWdsAioHmuFY"
      },
      "execution_count": null,
      "outputs": []
    },
    {
      "cell_type": "markdown",
      "source": [
        "This code closes a file that was previously opened using the open() function in Python. The close() method is used to free up any system resources taken up by the file object. It is good practice to close files after they have been used to avoid any potential data loss or corruption."
      ],
      "metadata": {
        "id": "GkZmu_B9nVMu"
      }
    },
    {
      "cell_type": "code",
      "source": [
        "with open('system_file.pkl', 'rb') as f:\n",
        "\n",
        "    system_names_loaded = pickle.load(f) # deserialize using load()\n",
        "    print(system_names_loaded) # print student names"
      ],
      "metadata": {
        "colab": {
          "base_uri": "https://localhost:8080/"
        },
        "id": "_IIr2RSrnISA",
        "outputId": "01f94b3d-8680-4886-9229-14460a0ed863"
      },
      "execution_count": null,
      "outputs": [
        {
          "output_type": "stream",
          "name": "stdout",
          "text": [
            "['Cardiovascular System', 'Respiratory System', 'Digestive System', 'Neurological System', 'Lymphatic System', ' Endocrinological System', 'Immunological System', 'Skeletal System']\n"
          ]
        }
      ]
    },
    {
      "cell_type": "markdown",
      "source": [
        "This code is a Python list containing 8 strings: 'Cardiovascular System', 'Respiratory system'..'Skeletal system'. *Lists* are a type of data structure in Python that can *hold multiple values of different types.* In this case, the list holds strings, which are a type of data that represents text. The square brackets indicate that this is a list, and the commas separate the individual elements within the list.\n",
        "\n",
        "Notice that to deserialize the file, we need to use the rb mode, which stands for read binary. Then, we unpickle the object using the load() function, after which we can store the data in a different variable and use it as we see fit.Next, check type of the file just unpickled!"
      ],
      "metadata": {
        "id": "yF0elGV3n2TC"
      }
    },
    {
      "cell_type": "code",
      "source": [
        "type(system_names_loaded)"
      ],
      "metadata": {
        "colab": {
          "base_uri": "https://localhost:8080/"
        },
        "id": "xBBk4tQmoExi",
        "outputId": "4862a5e5-7a87-473f-c3c3-ff5c1b23f33d"
      },
      "execution_count": null,
      "outputs": [
        {
          "output_type": "execute_result",
          "data": {
            "text/plain": [
              "list"
            ]
          },
          "metadata": {},
          "execution_count": 8
        }
      ]
    },
    {
      "cell_type": "markdown",
      "source": [
        "Great! We have preserved the original state and data type of this list."
      ],
      "metadata": {
        "id": "kcga_nOqpK0C"
      }
    },
    {
      "cell_type": "markdown",
      "source": [
        "# Numpy arrays"
      ],
      "metadata": {
        "id": "2gLjXNC5pqx1"
      }
    },
    {
      "cell_type": "markdown",
      "source": [
        "Now we will create a 5 by 5 array of ones."
      ],
      "metadata": {
        "id": "xq_vt9tcp0ut"
      }
    },
    {
      "cell_type": "code",
      "source": [
        "import numpy as np\n",
        "numpy_array = np.ones((5,5)) # 5*5 array"
      ],
      "metadata": {
        "id": "YvQRAREFpAHf"
      },
      "execution_count": null,
      "outputs": []
    },
    {
      "cell_type": "markdown",
      "source": [
        "This code imports the NumPy library and creates a 15x5 NumPy array filled with ones using the np.ones() function. The np prefix is used to indicate that the function is part of the NumPy library. The ones() function takes a tuple as an argument that specifies the shape of the array. In this case, the tuple is (5,5) which creates a 5x5 array. The resulting array is assigned to the variable numpy_array."
      ],
      "metadata": {
        "id": "83It2eubqRyS"
      }
    },
    {
      "cell_type": "markdown",
      "source": [
        "Then, just like we did before, let’s call the dump() function to serialize this array to a file:"
      ],
      "metadata": {
        "id": "tXKc2v4pqr_p"
      }
    },
    {
      "cell_type": "code",
      "source": [
        "with open('my_array.pkl','wb') as f:\n",
        "    pickle.dump(numpy_array, f)"
      ],
      "metadata": {
        "id": "_IYlAp_-qf8U"
      },
      "execution_count": null,
      "outputs": []
    },
    {
      "cell_type": "markdown",
      "source": [
        "This code uses the Python pickle module to save a NumPy array to a file named my_array.pkl.\n",
        "\n",
        "The with statement is used to open the file in binary write mode ('wb') and assign it to the variable f. This ensures that the file is properly closed after the block of code is executed, even if an error occurs.\n",
        "\n",
        "The pickle.dump() function is then used to serialize the numpy_array object and write it to the file f. This allows the array to be saved in a format that can be easily loaded back into memory later.\n",
        "\n",
        "Overall, this code is a simple way to save a NumPy array to a file for later use.\n",
        "\n"
      ],
      "metadata": {
        "id": "jOBGnmtOq6y_"
      }
    },
    {
      "cell_type": "markdown",
      "source": [
        "Finally, let’s unpickle this array and check its shape and data type to ensure that it has retained its original state:"
      ],
      "metadata": {
        "id": "nx7p5sbyrOgZ"
      }
    },
    {
      "cell_type": "code",
      "source": [
        "with open('my_array.pkl','rb') as f:\n",
        "    unpickled_array = pickle.load(f)\n",
        "    print('Array shape: '+str(unpickled_array.shape))\n",
        "    print('Data type: '+str(type(unpickled_array)))"
      ],
      "metadata": {
        "colab": {
          "base_uri": "https://localhost:8080/"
        },
        "id": "MUQBLEolrHzb",
        "outputId": "0c0cf09c-6f1e-4e56-a4c8-4aa90618f2bd"
      },
      "execution_count": null,
      "outputs": [
        {
          "output_type": "stream",
          "name": "stdout",
          "text": [
            "Array shape: (5, 5)\n",
            "Data type: <class 'numpy.ndarray'>\n"
          ]
        }
      ]
    },
    {
      "cell_type": "markdown",
      "source": [
        ", which is of the same shape and data type as the object we just serialized."
      ],
      "metadata": {
        "id": "HIfuRcqhr8Wt"
      }
    },
    {
      "cell_type": "markdown",
      "source": [
        "# pandas DataFrames"
      ],
      "metadata": {
        "id": "z6waSWonsVgl"
      }
    },
    {
      "cell_type": "markdown",
      "source": [
        "A data frame is an object that data scientists work with daily. The most popular way to load and save a Pandas DataFrame is to read and write it as a CSV file. Learn more about importing data in our pandas read_csv() tutorial.\n",
        "\n",
        "However, this process is slower than serialization and can become extremely time-consuming if the data frame is large.\n",
        "\n",
        "Let's contrast the efficiency of saving and loading a pandas dataframe using Pickle versus CSV by comparing the respective time taken.\n",
        "\n",
        "First, let’s create a pandas dataframe with 100,000 rows of fake data:"
      ],
      "metadata": {
        "id": "vZpuCoPJskH7"
      }
    },
    {
      "cell_type": "code",
      "source": [
        "import pandas as pd\n",
        "import numpy as np\n",
        "\n",
        "# Set random seed\n",
        "np.random.seed(123)\n",
        "\n",
        "data = {'Column1': np.random.randint(0, 10, size=100000),\n",
        "        'Column2': np.random.choice(['A', 'B', 'C'], size=100000),\n",
        "        'Column3': np.random.rand(100000)}\n",
        "\n",
        "\n",
        "# Create Pandas dataframe\n",
        "df = pd.DataFrame(data)"
      ],
      "metadata": {
        "id": "dj6cAdvpsYMu"
      },
      "execution_count": null,
      "outputs": []
    },
    {
      "cell_type": "markdown",
      "source": [
        "This code imports the pandas and numpy libraries in Python. It then sets a random seed using numpy to ensure that the random numbers generated are reproducible.\n",
        "\n",
        "Next, it creates a dictionary called data with three keys: Column1, Column2, and Column3. The values for Column1 are generated using numpy's *randint function,* which *generates random integers between 0 and 10*\n",
        "\n",
        "---\n",
        "\n",
        "(exclusive) with a size of 100000. The values for Column2 are generated using numpy's* choice function,* which *randomly selects elements from the given array* (in this case, ['A', 'B', 'C']) with a size of 100000. The values for Column3 are generated using numpy's* rand function*, which *generates random floats between 0 and 1* with a size of 100000.\n",
        "\n",
        "Finally, the code creates a pandas dataframe called df using the pd.DataFrame() function and passing in the data dictionary as an argument. This creates a dataframe with three columns (Column1, Column2, and Column3) and 100000 rows.\n",
        "\n"
      ],
      "metadata": {
        "id": "xp7sK1HftQLt"
      }
    },
    {
      "cell_type": "markdown",
      "source": [
        "let’s calculate the amount of time taken to save this dataframe as a csv file:"
      ],
      "metadata": {
        "id": "lNhuPmoAurJ4"
      }
    },
    {
      "cell_type": "code",
      "source": [
        "import time\n",
        "\n",
        "start = time.time()\n",
        "\n",
        "df.to_csv('pandas_dataframe.csv')\n",
        "\n",
        "end = time.time()\n",
        "print(end - start)"
      ],
      "metadata": {
        "colab": {
          "base_uri": "https://localhost:8080/"
        },
        "id": "Cfo7IWE3udKD",
        "outputId": "dc2267f0-56c0-4c1d-d467-aa94dcab641d"
      },
      "execution_count": null,
      "outputs": [
        {
          "output_type": "stream",
          "name": "stdout",
          "text": [
            "0.29283785820007324\n"
          ]
        }
      ]
    },
    {
      "cell_type": "markdown",
      "source": [
        "This code imports the time module and uses it to measure the time it takes to execute the code between the start and end variables.\n",
        "\n",
        "The start variable is assigned the current time using the time.time() function. Then, the df DataFrame is exported to a CSV file named pandas_dataframe.csv using the to_csv() method.\n",
        "\n",
        "After the export is complete, the end variable is assigned the current time using time.time(). The difference between end and start is then printed to the console, which gives the total time it took to export the DataFrame to a CSV file.\n",
        "\n"
      ],
      "metadata": {
        "id": "D-fc7aCKu27k"
      }
    },
    {
      "cell_type": "markdown",
      "source": [
        "It took us 0.29 seconds to save a Pandas dataframe with three rows and 100,000 columns to a csv file.\n",
        "\n",
        "Let’s see if using Pickle can help improve performance. The pandas library has a method called to_pickle() that allows us to serialize dataframes to pickle files in just one line of code:"
      ],
      "metadata": {
        "id": "gQbZLUYEvXO1"
      }
    },
    {
      "cell_type": "code",
      "source": [
        "start = time.time()\n",
        "\n",
        "df.to_pickle(\"my_pandas_dataframe.pkl\")\n",
        "\n",
        "end = time.time()\n",
        "print(end - start)"
      ],
      "metadata": {
        "colab": {
          "base_uri": "https://localhost:8080/"
        },
        "id": "5HEfli9guxxr",
        "outputId": "5e900165-1099-433c-e378-ad0d6cc3033d"
      },
      "execution_count": null,
      "outputs": [
        {
          "output_type": "stream",
          "name": "stdout",
          "text": [
            "0.00867009162902832\n"
          ]
        }
      ]
    },
    {
      "cell_type": "markdown",
      "source": [
        "It only took us 8 milliseconds to save the same Pandas DataFrame to a Pickle file, which is a significant performance improvement when compared to saving it as a csv.\n",
        "\n",
        "Now, let’s read the file back to Pandas and see if loading a Pickle file offers any performance benefits as opposed to simply reading a csv file:"
      ],
      "metadata": {
        "id": "PRADxkJmv3_E"
      }
    },
    {
      "cell_type": "code",
      "source": [
        "# Reading the csv file into Pandas:\n",
        "start1 = time.time()\n",
        "# Save the DataFrame to a CSV file first\n",
        "df.to_csv(\"my_pandas_dataframe.csv\", index=False)  # Added this line to save to CSV\n",
        "df_csv = pd.read_csv(\"my_pandas_dataframe.csv\")\n",
        "end1 = time.time()\n",
        "print(\"Time taken to read the csv file: \" + str(end1 - start1) + \"\\n\")\n",
        "\n",
        "# Reading the Pickle file into Pandas:\n",
        "start2 = time.time()\n",
        "df_pkl = pd.read_pickle(\"my_pandas_dataframe.pkl\")\n",
        "end2 = time.time()\n",
        "print(\"Time taken to read the Pickle file: \" + str(end2 - start2))"
      ],
      "metadata": {
        "colab": {
          "base_uri": "https://localhost:8080/"
        },
        "id": "idsQiW8dwzrr",
        "outputId": "04c46d3e-5343-41c8-8dd8-7c1fb7abb944"
      },
      "execution_count": null,
      "outputs": [
        {
          "output_type": "stream",
          "name": "stdout",
          "text": [
            "Time taken to read the csv file: 0.2929713726043701\n",
            "\n",
            "Time taken to read the Pickle file: 0.005082368850708008\n"
          ]
        }
      ]
    },
    {
      "cell_type": "markdown",
      "source": [
        "Although this difference may appear minor, serializing large Pandas dataframes with Pickle can result in considerable time savings. Pickle will also help us preserve the data type of each column in every case and takes up less disk space than a CSV file"
      ],
      "metadata": {
        "id": "qd4UMYOQxH-V"
      }
    },
    {
      "cell_type": "markdown",
      "source": [
        "# Dictionaries"
      ],
      "metadata": {
        "id": "0yP2fqUi2LB4"
      }
    },
    {
      "cell_type": "code",
      "source": [
        "  Organs= {'Cardiovascular System':'Heart','Respiratory System':'Lung','Digestive System':'Stomach','Neurological System':'Brain','Lymphatic System':'Spleen','Endocrinological System':'Thyroid','Immunological System':'Thymus','Skeletal System':'Spine'}"
      ],
      "metadata": {
        "id": "H6QLRPpE6DRu"
      },
      "execution_count": null,
      "outputs": []
    },
    {
      "cell_type": "markdown",
      "source": [
        "\n",
        "This code creates a dictionary called students that contains information about Organs. Each system is represented by a key-value pair, where the key is a string representing the Systems's name  and the value is another dictionary containing the organ's name.\n",
        "\n",
        "For example, the first system is represented by the key 'Cardiovascular system' and the value {'Cardiovascular systen': 'Heart'}. This dictionary contains 1 key-value pairs.\n",
        "Similarly, the second and third systemss are represented by the keys, respectively, and their corresponding values contain their name information.\n",
        "\n",
        "Overall, this code creates a nested dictionary structure that can be used to store and access information about multiple systems"
      ],
      "metadata": {
        "id": "AuBvwzy96IgV"
      }
    },
    {
      "cell_type": "code",
      "source": [
        "# @title Default title text\n",
        "Organs= {\n",
        "    'Cardiovascular System':{'Name':'Heart','Tissues': 'Heart Tissue','Place':'Chest'},\n",
        "    'Respiratory System':{'Name': 'Lung', 'Tissues': 'Lung Tissue','Place':'Chest'},\n",
        "\n",
        "\n",
        "     'Digestive System':{'Name':'Stomach','Tissues':'Stomach Tissue','Place':'Abdomen'},\n",
        "\n",
        "      'Neurological System':{'Name':'Brain','Tissues':'Brain Tissue','Place':'Head'},\n",
        "\n",
        "    'Lymphatic System':{'Name':'Spleen', 'Tissues': 'Vascular Tissue','Place': 'Abdomen'},\n",
        "    'Endocrinological System':{'Name':'Thyroid','Tissues':'Thyroid Tissue','Place':'Neck'},\n",
        "    'Immunological System':{'Name':'Thymus','Tissues':'Thymus Tissue','Place':'Neck'},\n",
        "\n",
        "    'Skeletal System':{'Name': 'Spine', 'Tissues': 'Neuronal Tissues','Place':\n",
        "                       ' Back'}\n",
        "}\n",
        "# serialize the dictionary to a pickle file\n",
        "with open(\"Organs_dict.pkl\", \"wb\") as f:\n",
        "    # Changed 'students' to 'Organs' to pickle the existing dictionary\n",
        "    pickle.dump(Organs, f)\n",
        "\n",
        "# deserialize the dictionary and print it out\n",
        "with open(\"Organs_dict.pkl\", \"rb\") as f:\n",
        "    deserialized_dict = pickle.load(f)\n",
        "    print(deserialized_dict)\n"
      ],
      "metadata": {
        "colab": {
          "base_uri": "https://localhost:8080/"
        },
        "id": "Z_z_oROz7Z9g",
        "outputId": "1dc22a8b-bcf1-467c-d9f0-5e563db6e54a"
      },
      "execution_count": 7,
      "outputs": [
        {
          "output_type": "stream",
          "name": "stdout",
          "text": [
            "{'Cardiovascular System': {'Name': 'Heart', 'Tissues': 'Heart Tissue', 'Place': 'Chest'}, 'Respiratory System': {'Name': 'Lung', 'Tissues': 'Lung Tissue', 'Place': 'Chest'}, 'Digestive System': {'Name': 'Stomach', 'Tissues': 'Stomach Tissue', 'Place': 'Abdomen'}, 'Neurological System': {'Name': 'Brain', 'Tissues': 'Brain Tissue', 'Place': 'Head'}, 'Lymphatic System': {'Name': 'Spleen', 'Tissues': 'Vascular Tissue', 'Place': 'Abdomen'}, 'Endocrinological System': {'Name': 'Thyroid', 'Tissues': 'Thyroid Tissue', 'Place': 'Neck'}, 'Immunological System': {'Name': 'Thymus', 'Tissues': 'Thymus Tissue', 'Place': 'Neck'}, 'Skeletal System': {'Name': 'Spine', 'Tissues': 'Neuronal Tissues', 'Place': ' Back'}}\n"
          ]
        }
      ]
    },
    {
      "cell_type": "code",
      "source": [
        "type(deserialized_dict)"
      ],
      "metadata": {
        "colab": {
          "base_uri": "https://localhost:8080/"
        },
        "id": "rypCX56b-CRA",
        "outputId": "c4e8e4bb-e719-4c8d-8170-89056b1649d7"
      },
      "execution_count": 8,
      "outputs": [
        {
          "output_type": "execute_result",
          "data": {
            "text/plain": [
              "dict"
            ]
          },
          "metadata": {},
          "execution_count": 8
        }
      ]
    },
    {
      "cell_type": "code",
      "source": [
        "print(\n",
        "    \"The first organ's name is \"\n",
        "    + deserialized_dict[\"Cardiovascular System\"][\"Name\"]\n",
        "    + \" and its tissue is \"\n",
        "    + (str(deserialized_dict[\"Cardiovascular System\"][\"Tissues\"]))\n",
        "    +\",\"\n",
        "    + \" and place of the organ is in the \"\n",
        "    + (str(deserialized_dict[\"Cardiovascular System\"][\"Place\"]))\n",
        "    +\".\"\n",
        ")"
      ],
      "metadata": {
        "colab": {
          "base_uri": "https://localhost:8080/"
        },
        "id": "C3cYlq4w-l-q",
        "outputId": "f6b3d0ef-080a-4c83-b8ec-15923db04a41"
      },
      "execution_count": 20,
      "outputs": [
        {
          "output_type": "stream",
          "name": "stdout",
          "text": [
            "The first organ's name is Heart and its tissue is Heart Tissue, and place of the organ is in the Chest.\n"
          ]
        }
      ]
    },
    {
      "cell_type": "markdown",
      "source": [
        "Errors made1:\n",
        "deserialized_dict is structured in such a way that \"Tissues\" is a key within the nested dictionary under each system, such as \"Cardiovascular System\", \"Respiratory System\", etc. You're directly trying to access \"Tissues\" from the top-level dictionary deserialized_dict, where it doesn't exist. You need to specify the System first, and then access 'Tissues' and then the specific tissue type.\n",
        "used suugested code:\n",
        "print(\n",
        "    \"The first system's name is \"\n",
        "    + deserialized_dict[\"Cardiovascular System\"][\"Name\"]\n",
        "    + \" and tissue is \"\n",
        "    + (str(deserialized_dict[\"Cardiovascular System\"][\"Tissues\"]))  # Access Tissues within \"Cardiovascular System\"\n",
        "    + \" place of the organ is in the \"  # Added a space for better readability\n",
        "    + (str(deserialized_dict[\"Cardiovascular System\"][\"Place\"]))  # Access Place within \"Cardiovascular System\"\n",
        ")\n",
        "\n",
        "Error2:\n",
        "\n",
        "KeyError:'Tissues '\n",
        "The error message KeyError: 'Tissues ' indicates that the key 'Tissues ' is not found in the nested dictionary deserialized_dict[\"Cardiovascular System\"]. This is likely due to a typo in the key name. When the dictionary Organs was created, the key for the tissue type was defined as 'Tissues' (without a trailing space). However, in the print statement, you are trying to access the value using the key 'Tissues ' (with a trailing space). This extra space in the key name is causing the KeyError because the dictionary doesn't contain a key with that exact name.\n",
        "used suggested code:\n",
        "print(\n",
        "    \"The first system's name is \"\n",
        "    + deserialized_dict[\"Cardiovascular System\"][\"Name\"]\n",
        "    + \" and tissue is \"\n",
        "    + (str(deserialized_dict[\"Cardiovascular System\"][\"Tissues\"])) # Removed the extra space in \"Tissues \"\n",
        "    + \" place of the organ is in the \"\n",
        "    + (str(deserialized_dict[\"Cardiovascular System\"][\"Place\"]))\n",
        ")\n",
        "\n",
        "\n",
        "Error 3:\n",
        "TypeError: bad operand type for unary +: 'str'\n",
        "The error \"TypeError: bad operand type for unary +: 'str'\" is happening because you're trying to use the + operator with a string and the result of an expression in a way that's not allowed. Specifically, you have a comma after (str(deserialized_dict[\"Cardiovascular System\"][\"Tissues\"])), which makes Python think it is two different print statements. The second print statement starts with + \"and place of the organ is in the \", which is the unary + operator followed by a string, which is an invalid operation.\n",
        "used suggested code:\n",
        "\n",
        "print(\n",
        "    \"The first organ's name is \"\n",
        "    + deserialized_dict[\"Cardiovascular System\"][\"Name\"]\n",
        "    + \" and its tissue is \"\n",
        "    + (str(deserialized_dict[\"Cardiovascular System\"][\"Tissues\"]))\n",
        "    + \" and place of the organ is in the \"\n",
        "    + (str(deserialized_dict[\"Cardiovascular System\"][\"Place\"]))\n",
        ")\n",
        "\n",
        "\n",
        "Explanation of Changes:\n",
        "    Removed the comma after (str(deserialized_dict[\"Cardiovascular System\"][\"Tissues\"]))): This ensures the entire expression is part of a single print statement, avoiding the unintended use of the unary + operator.\n",
        "    Combined all strings into a single print statement: This ensures that Python is appending string to string rather than to any other datatypes.\n",
        "\n",
        "\n"
      ],
      "metadata": {
        "id": "pnRA7AaPG0cj"
      }
    },
    {
      "cell_type": "markdown",
      "source": [
        "Great! The dictionary retained all its original properties and can be accessed just like it was before serialization."
      ],
      "metadata": {
        "id": "nbAzWBl6JuBX"
      }
    },
    {
      "cell_type": "markdown",
      "source": [
        "# Serializing Machine Learning Models with Pickle"
      ],
      "metadata": {
        "id": "PsBfDViGSAeO"
      }
    },
    {
      "cell_type": "markdown",
      "source": [
        "\n",
        "Pickle allows you to serialize machine learning models in their existing state, making it possible to use them again as needed.\n",
        "\n",
        " First generate some fake data and build a linear regression model with the Scikit-Learn library:\n",
        "\n"
      ],
      "metadata": {
        "id": "kJrN0k3XSWTe"
      }
    },
    {
      "cell_type": "code",
      "source": [
        "from sklearn.linear_model import LinearRegression\n",
        "from sklearn.datasets import make_regression\n",
        "\n",
        "# generate regression dataset\n",
        "X, y = make_regression(n_samples=5000, n_features=5, noise=0.3, random_state=101)\n",
        "\n",
        "# train regression model\n",
        "linear_model = LinearRegression()\n",
        "linear_model.fit(X, y)"
      ],
      "metadata": {
        "colab": {
          "base_uri": "https://localhost:8080/",
          "height": 80
        },
        "id": "dorwc-rzSAFp",
        "outputId": "6c2ef83b-6139-408b-e9dc-4c3d506674a8"
      },
      "execution_count": 21,
      "outputs": [
        {
          "output_type": "execute_result",
          "data": {
            "text/plain": [
              "LinearRegression()"
            ],
            "text/html": [
              "<style>#sk-container-id-1 {\n",
              "  /* Definition of color scheme common for light and dark mode */\n",
              "  --sklearn-color-text: #000;\n",
              "  --sklearn-color-text-muted: #666;\n",
              "  --sklearn-color-line: gray;\n",
              "  /* Definition of color scheme for unfitted estimators */\n",
              "  --sklearn-color-unfitted-level-0: #fff5e6;\n",
              "  --sklearn-color-unfitted-level-1: #f6e4d2;\n",
              "  --sklearn-color-unfitted-level-2: #ffe0b3;\n",
              "  --sklearn-color-unfitted-level-3: chocolate;\n",
              "  /* Definition of color scheme for fitted estimators */\n",
              "  --sklearn-color-fitted-level-0: #f0f8ff;\n",
              "  --sklearn-color-fitted-level-1: #d4ebff;\n",
              "  --sklearn-color-fitted-level-2: #b3dbfd;\n",
              "  --sklearn-color-fitted-level-3: cornflowerblue;\n",
              "\n",
              "  /* Specific color for light theme */\n",
              "  --sklearn-color-text-on-default-background: var(--sg-text-color, var(--theme-code-foreground, var(--jp-content-font-color1, black)));\n",
              "  --sklearn-color-background: var(--sg-background-color, var(--theme-background, var(--jp-layout-color0, white)));\n",
              "  --sklearn-color-border-box: var(--sg-text-color, var(--theme-code-foreground, var(--jp-content-font-color1, black)));\n",
              "  --sklearn-color-icon: #696969;\n",
              "\n",
              "  @media (prefers-color-scheme: dark) {\n",
              "    /* Redefinition of color scheme for dark theme */\n",
              "    --sklearn-color-text-on-default-background: var(--sg-text-color, var(--theme-code-foreground, var(--jp-content-font-color1, white)));\n",
              "    --sklearn-color-background: var(--sg-background-color, var(--theme-background, var(--jp-layout-color0, #111)));\n",
              "    --sklearn-color-border-box: var(--sg-text-color, var(--theme-code-foreground, var(--jp-content-font-color1, white)));\n",
              "    --sklearn-color-icon: #878787;\n",
              "  }\n",
              "}\n",
              "\n",
              "#sk-container-id-1 {\n",
              "  color: var(--sklearn-color-text);\n",
              "}\n",
              "\n",
              "#sk-container-id-1 pre {\n",
              "  padding: 0;\n",
              "}\n",
              "\n",
              "#sk-container-id-1 input.sk-hidden--visually {\n",
              "  border: 0;\n",
              "  clip: rect(1px 1px 1px 1px);\n",
              "  clip: rect(1px, 1px, 1px, 1px);\n",
              "  height: 1px;\n",
              "  margin: -1px;\n",
              "  overflow: hidden;\n",
              "  padding: 0;\n",
              "  position: absolute;\n",
              "  width: 1px;\n",
              "}\n",
              "\n",
              "#sk-container-id-1 div.sk-dashed-wrapped {\n",
              "  border: 1px dashed var(--sklearn-color-line);\n",
              "  margin: 0 0.4em 0.5em 0.4em;\n",
              "  box-sizing: border-box;\n",
              "  padding-bottom: 0.4em;\n",
              "  background-color: var(--sklearn-color-background);\n",
              "}\n",
              "\n",
              "#sk-container-id-1 div.sk-container {\n",
              "  /* jupyter's `normalize.less` sets `[hidden] { display: none; }`\n",
              "     but bootstrap.min.css set `[hidden] { display: none !important; }`\n",
              "     so we also need the `!important` here to be able to override the\n",
              "     default hidden behavior on the sphinx rendered scikit-learn.org.\n",
              "     See: https://github.com/scikit-learn/scikit-learn/issues/21755 */\n",
              "  display: inline-block !important;\n",
              "  position: relative;\n",
              "}\n",
              "\n",
              "#sk-container-id-1 div.sk-text-repr-fallback {\n",
              "  display: none;\n",
              "}\n",
              "\n",
              "div.sk-parallel-item,\n",
              "div.sk-serial,\n",
              "div.sk-item {\n",
              "  /* draw centered vertical line to link estimators */\n",
              "  background-image: linear-gradient(var(--sklearn-color-text-on-default-background), var(--sklearn-color-text-on-default-background));\n",
              "  background-size: 2px 100%;\n",
              "  background-repeat: no-repeat;\n",
              "  background-position: center center;\n",
              "}\n",
              "\n",
              "/* Parallel-specific style estimator block */\n",
              "\n",
              "#sk-container-id-1 div.sk-parallel-item::after {\n",
              "  content: \"\";\n",
              "  width: 100%;\n",
              "  border-bottom: 2px solid var(--sklearn-color-text-on-default-background);\n",
              "  flex-grow: 1;\n",
              "}\n",
              "\n",
              "#sk-container-id-1 div.sk-parallel {\n",
              "  display: flex;\n",
              "  align-items: stretch;\n",
              "  justify-content: center;\n",
              "  background-color: var(--sklearn-color-background);\n",
              "  position: relative;\n",
              "}\n",
              "\n",
              "#sk-container-id-1 div.sk-parallel-item {\n",
              "  display: flex;\n",
              "  flex-direction: column;\n",
              "}\n",
              "\n",
              "#sk-container-id-1 div.sk-parallel-item:first-child::after {\n",
              "  align-self: flex-end;\n",
              "  width: 50%;\n",
              "}\n",
              "\n",
              "#sk-container-id-1 div.sk-parallel-item:last-child::after {\n",
              "  align-self: flex-start;\n",
              "  width: 50%;\n",
              "}\n",
              "\n",
              "#sk-container-id-1 div.sk-parallel-item:only-child::after {\n",
              "  width: 0;\n",
              "}\n",
              "\n",
              "/* Serial-specific style estimator block */\n",
              "\n",
              "#sk-container-id-1 div.sk-serial {\n",
              "  display: flex;\n",
              "  flex-direction: column;\n",
              "  align-items: center;\n",
              "  background-color: var(--sklearn-color-background);\n",
              "  padding-right: 1em;\n",
              "  padding-left: 1em;\n",
              "}\n",
              "\n",
              "\n",
              "/* Toggleable style: style used for estimator/Pipeline/ColumnTransformer box that is\n",
              "clickable and can be expanded/collapsed.\n",
              "- Pipeline and ColumnTransformer use this feature and define the default style\n",
              "- Estimators will overwrite some part of the style using the `sk-estimator` class\n",
              "*/\n",
              "\n",
              "/* Pipeline and ColumnTransformer style (default) */\n",
              "\n",
              "#sk-container-id-1 div.sk-toggleable {\n",
              "  /* Default theme specific background. It is overwritten whether we have a\n",
              "  specific estimator or a Pipeline/ColumnTransformer */\n",
              "  background-color: var(--sklearn-color-background);\n",
              "}\n",
              "\n",
              "/* Toggleable label */\n",
              "#sk-container-id-1 label.sk-toggleable__label {\n",
              "  cursor: pointer;\n",
              "  display: flex;\n",
              "  width: 100%;\n",
              "  margin-bottom: 0;\n",
              "  padding: 0.5em;\n",
              "  box-sizing: border-box;\n",
              "  text-align: center;\n",
              "  align-items: start;\n",
              "  justify-content: space-between;\n",
              "  gap: 0.5em;\n",
              "}\n",
              "\n",
              "#sk-container-id-1 label.sk-toggleable__label .caption {\n",
              "  font-size: 0.6rem;\n",
              "  font-weight: lighter;\n",
              "  color: var(--sklearn-color-text-muted);\n",
              "}\n",
              "\n",
              "#sk-container-id-1 label.sk-toggleable__label-arrow:before {\n",
              "  /* Arrow on the left of the label */\n",
              "  content: \"▸\";\n",
              "  float: left;\n",
              "  margin-right: 0.25em;\n",
              "  color: var(--sklearn-color-icon);\n",
              "}\n",
              "\n",
              "#sk-container-id-1 label.sk-toggleable__label-arrow:hover:before {\n",
              "  color: var(--sklearn-color-text);\n",
              "}\n",
              "\n",
              "/* Toggleable content - dropdown */\n",
              "\n",
              "#sk-container-id-1 div.sk-toggleable__content {\n",
              "  max-height: 0;\n",
              "  max-width: 0;\n",
              "  overflow: hidden;\n",
              "  text-align: left;\n",
              "  /* unfitted */\n",
              "  background-color: var(--sklearn-color-unfitted-level-0);\n",
              "}\n",
              "\n",
              "#sk-container-id-1 div.sk-toggleable__content.fitted {\n",
              "  /* fitted */\n",
              "  background-color: var(--sklearn-color-fitted-level-0);\n",
              "}\n",
              "\n",
              "#sk-container-id-1 div.sk-toggleable__content pre {\n",
              "  margin: 0.2em;\n",
              "  border-radius: 0.25em;\n",
              "  color: var(--sklearn-color-text);\n",
              "  /* unfitted */\n",
              "  background-color: var(--sklearn-color-unfitted-level-0);\n",
              "}\n",
              "\n",
              "#sk-container-id-1 div.sk-toggleable__content.fitted pre {\n",
              "  /* unfitted */\n",
              "  background-color: var(--sklearn-color-fitted-level-0);\n",
              "}\n",
              "\n",
              "#sk-container-id-1 input.sk-toggleable__control:checked~div.sk-toggleable__content {\n",
              "  /* Expand drop-down */\n",
              "  max-height: 200px;\n",
              "  max-width: 100%;\n",
              "  overflow: auto;\n",
              "}\n",
              "\n",
              "#sk-container-id-1 input.sk-toggleable__control:checked~label.sk-toggleable__label-arrow:before {\n",
              "  content: \"▾\";\n",
              "}\n",
              "\n",
              "/* Pipeline/ColumnTransformer-specific style */\n",
              "\n",
              "#sk-container-id-1 div.sk-label input.sk-toggleable__control:checked~label.sk-toggleable__label {\n",
              "  color: var(--sklearn-color-text);\n",
              "  background-color: var(--sklearn-color-unfitted-level-2);\n",
              "}\n",
              "\n",
              "#sk-container-id-1 div.sk-label.fitted input.sk-toggleable__control:checked~label.sk-toggleable__label {\n",
              "  background-color: var(--sklearn-color-fitted-level-2);\n",
              "}\n",
              "\n",
              "/* Estimator-specific style */\n",
              "\n",
              "/* Colorize estimator box */\n",
              "#sk-container-id-1 div.sk-estimator input.sk-toggleable__control:checked~label.sk-toggleable__label {\n",
              "  /* unfitted */\n",
              "  background-color: var(--sklearn-color-unfitted-level-2);\n",
              "}\n",
              "\n",
              "#sk-container-id-1 div.sk-estimator.fitted input.sk-toggleable__control:checked~label.sk-toggleable__label {\n",
              "  /* fitted */\n",
              "  background-color: var(--sklearn-color-fitted-level-2);\n",
              "}\n",
              "\n",
              "#sk-container-id-1 div.sk-label label.sk-toggleable__label,\n",
              "#sk-container-id-1 div.sk-label label {\n",
              "  /* The background is the default theme color */\n",
              "  color: var(--sklearn-color-text-on-default-background);\n",
              "}\n",
              "\n",
              "/* On hover, darken the color of the background */\n",
              "#sk-container-id-1 div.sk-label:hover label.sk-toggleable__label {\n",
              "  color: var(--sklearn-color-text);\n",
              "  background-color: var(--sklearn-color-unfitted-level-2);\n",
              "}\n",
              "\n",
              "/* Label box, darken color on hover, fitted */\n",
              "#sk-container-id-1 div.sk-label.fitted:hover label.sk-toggleable__label.fitted {\n",
              "  color: var(--sklearn-color-text);\n",
              "  background-color: var(--sklearn-color-fitted-level-2);\n",
              "}\n",
              "\n",
              "/* Estimator label */\n",
              "\n",
              "#sk-container-id-1 div.sk-label label {\n",
              "  font-family: monospace;\n",
              "  font-weight: bold;\n",
              "  display: inline-block;\n",
              "  line-height: 1.2em;\n",
              "}\n",
              "\n",
              "#sk-container-id-1 div.sk-label-container {\n",
              "  text-align: center;\n",
              "}\n",
              "\n",
              "/* Estimator-specific */\n",
              "#sk-container-id-1 div.sk-estimator {\n",
              "  font-family: monospace;\n",
              "  border: 1px dotted var(--sklearn-color-border-box);\n",
              "  border-radius: 0.25em;\n",
              "  box-sizing: border-box;\n",
              "  margin-bottom: 0.5em;\n",
              "  /* unfitted */\n",
              "  background-color: var(--sklearn-color-unfitted-level-0);\n",
              "}\n",
              "\n",
              "#sk-container-id-1 div.sk-estimator.fitted {\n",
              "  /* fitted */\n",
              "  background-color: var(--sklearn-color-fitted-level-0);\n",
              "}\n",
              "\n",
              "/* on hover */\n",
              "#sk-container-id-1 div.sk-estimator:hover {\n",
              "  /* unfitted */\n",
              "  background-color: var(--sklearn-color-unfitted-level-2);\n",
              "}\n",
              "\n",
              "#sk-container-id-1 div.sk-estimator.fitted:hover {\n",
              "  /* fitted */\n",
              "  background-color: var(--sklearn-color-fitted-level-2);\n",
              "}\n",
              "\n",
              "/* Specification for estimator info (e.g. \"i\" and \"?\") */\n",
              "\n",
              "/* Common style for \"i\" and \"?\" */\n",
              "\n",
              ".sk-estimator-doc-link,\n",
              "a:link.sk-estimator-doc-link,\n",
              "a:visited.sk-estimator-doc-link {\n",
              "  float: right;\n",
              "  font-size: smaller;\n",
              "  line-height: 1em;\n",
              "  font-family: monospace;\n",
              "  background-color: var(--sklearn-color-background);\n",
              "  border-radius: 1em;\n",
              "  height: 1em;\n",
              "  width: 1em;\n",
              "  text-decoration: none !important;\n",
              "  margin-left: 0.5em;\n",
              "  text-align: center;\n",
              "  /* unfitted */\n",
              "  border: var(--sklearn-color-unfitted-level-1) 1pt solid;\n",
              "  color: var(--sklearn-color-unfitted-level-1);\n",
              "}\n",
              "\n",
              ".sk-estimator-doc-link.fitted,\n",
              "a:link.sk-estimator-doc-link.fitted,\n",
              "a:visited.sk-estimator-doc-link.fitted {\n",
              "  /* fitted */\n",
              "  border: var(--sklearn-color-fitted-level-1) 1pt solid;\n",
              "  color: var(--sklearn-color-fitted-level-1);\n",
              "}\n",
              "\n",
              "/* On hover */\n",
              "div.sk-estimator:hover .sk-estimator-doc-link:hover,\n",
              ".sk-estimator-doc-link:hover,\n",
              "div.sk-label-container:hover .sk-estimator-doc-link:hover,\n",
              ".sk-estimator-doc-link:hover {\n",
              "  /* unfitted */\n",
              "  background-color: var(--sklearn-color-unfitted-level-3);\n",
              "  color: var(--sklearn-color-background);\n",
              "  text-decoration: none;\n",
              "}\n",
              "\n",
              "div.sk-estimator.fitted:hover .sk-estimator-doc-link.fitted:hover,\n",
              ".sk-estimator-doc-link.fitted:hover,\n",
              "div.sk-label-container:hover .sk-estimator-doc-link.fitted:hover,\n",
              ".sk-estimator-doc-link.fitted:hover {\n",
              "  /* fitted */\n",
              "  background-color: var(--sklearn-color-fitted-level-3);\n",
              "  color: var(--sklearn-color-background);\n",
              "  text-decoration: none;\n",
              "}\n",
              "\n",
              "/* Span, style for the box shown on hovering the info icon */\n",
              ".sk-estimator-doc-link span {\n",
              "  display: none;\n",
              "  z-index: 9999;\n",
              "  position: relative;\n",
              "  font-weight: normal;\n",
              "  right: .2ex;\n",
              "  padding: .5ex;\n",
              "  margin: .5ex;\n",
              "  width: min-content;\n",
              "  min-width: 20ex;\n",
              "  max-width: 50ex;\n",
              "  color: var(--sklearn-color-text);\n",
              "  box-shadow: 2pt 2pt 4pt #999;\n",
              "  /* unfitted */\n",
              "  background: var(--sklearn-color-unfitted-level-0);\n",
              "  border: .5pt solid var(--sklearn-color-unfitted-level-3);\n",
              "}\n",
              "\n",
              ".sk-estimator-doc-link.fitted span {\n",
              "  /* fitted */\n",
              "  background: var(--sklearn-color-fitted-level-0);\n",
              "  border: var(--sklearn-color-fitted-level-3);\n",
              "}\n",
              "\n",
              ".sk-estimator-doc-link:hover span {\n",
              "  display: block;\n",
              "}\n",
              "\n",
              "/* \"?\"-specific style due to the `<a>` HTML tag */\n",
              "\n",
              "#sk-container-id-1 a.estimator_doc_link {\n",
              "  float: right;\n",
              "  font-size: 1rem;\n",
              "  line-height: 1em;\n",
              "  font-family: monospace;\n",
              "  background-color: var(--sklearn-color-background);\n",
              "  border-radius: 1rem;\n",
              "  height: 1rem;\n",
              "  width: 1rem;\n",
              "  text-decoration: none;\n",
              "  /* unfitted */\n",
              "  color: var(--sklearn-color-unfitted-level-1);\n",
              "  border: var(--sklearn-color-unfitted-level-1) 1pt solid;\n",
              "}\n",
              "\n",
              "#sk-container-id-1 a.estimator_doc_link.fitted {\n",
              "  /* fitted */\n",
              "  border: var(--sklearn-color-fitted-level-1) 1pt solid;\n",
              "  color: var(--sklearn-color-fitted-level-1);\n",
              "}\n",
              "\n",
              "/* On hover */\n",
              "#sk-container-id-1 a.estimator_doc_link:hover {\n",
              "  /* unfitted */\n",
              "  background-color: var(--sklearn-color-unfitted-level-3);\n",
              "  color: var(--sklearn-color-background);\n",
              "  text-decoration: none;\n",
              "}\n",
              "\n",
              "#sk-container-id-1 a.estimator_doc_link.fitted:hover {\n",
              "  /* fitted */\n",
              "  background-color: var(--sklearn-color-fitted-level-3);\n",
              "}\n",
              "</style><div id=\"sk-container-id-1\" class=\"sk-top-container\"><div class=\"sk-text-repr-fallback\"><pre>LinearRegression()</pre><b>In a Jupyter environment, please rerun this cell to show the HTML representation or trust the notebook. <br />On GitHub, the HTML representation is unable to render, please try loading this page with nbviewer.org.</b></div><div class=\"sk-container\" hidden><div class=\"sk-item\"><div class=\"sk-estimator fitted sk-toggleable\"><input class=\"sk-toggleable__control sk-hidden--visually\" id=\"sk-estimator-id-1\" type=\"checkbox\" checked><label for=\"sk-estimator-id-1\" class=\"sk-toggleable__label fitted sk-toggleable__label-arrow\"><div><div>LinearRegression</div></div><div><a class=\"sk-estimator-doc-link fitted\" rel=\"noreferrer\" target=\"_blank\" href=\"https://scikit-learn.org/1.6/modules/generated/sklearn.linear_model.LinearRegression.html\">?<span>Documentation for LinearRegression</span></a><span class=\"sk-estimator-doc-link fitted\">i<span>Fitted</span></span></div></label><div class=\"sk-toggleable__content fitted\"><pre>LinearRegression()</pre></div> </div></div></div></div>"
            ]
          },
          "metadata": {},
          "execution_count": 21
        }
      ]
    },
    {
      "cell_type": "markdown",
      "source": [
        "This code imports the LinearRegression class from the sklearn.linear_model module and the make_regression function from the sklearn.datasets module.\n",
        "\n",
        "The make_regression function is used to generate a synthetic regression dataset with 5000 samples, 5features, and a noise level of 0.3. The random_state parameter is set to 101 to ensure reproducibility.\n",
        "\n",
        "The generated dataset is then split into two arrays, X and y, where X contains the input features and y contains the corresponding target values.\n",
        "\n",
        "Finally, a LinearRegression object is created and trained on the generated dataset using the fit method. This trains the model to learn the relationship between the input features and the target values, so that it can make predictions on new data.\n",
        "\n"
      ],
      "metadata": {
        "id": "FulNOe3RTKx2"
      }
    },
    {
      "cell_type": "code",
      "source": [
        "# summary of the model\n",
        "print('Model intercept :', linear_model.intercept_)\n",
        "print('Model coefficients : ', linear_model.coef_)\n",
        "print('Model score : ', linear_model.score(X, y))"
      ],
      "metadata": {
        "colab": {
          "base_uri": "https://localhost:8080/"
        },
        "id": "9Tq44zUeTr-v",
        "outputId": "1b40361f-b88c-4d9e-aa0f-fcb46d756f78"
      },
      "execution_count": 22,
      "outputs": [
        {
          "output_type": "stream",
          "name": "stdout",
          "text": [
            "Model intercept : 0.0026360037414828175\n",
            "Model coefficients :  [ 7.79640942 33.43726819 57.51459187 64.4743176   7.76001334]\n",
            "Model score :  0.9999896250777828\n"
          ]
        }
      ]
    },
    {
      "cell_type": "markdown",
      "source": [
        "This code snippet prints out a summary of a linear regression model.\n",
        "\n",
        "The first line prints out the **intercept of the model, which is the value of the dependent variable (y) when all independent variables (x) are equal to zero.**\n",
        "\n",
        "The second line prints out the **coefficients of the model, which represent the change in the dependent variable (y) for a one-unit change in each independent variable.**\n",
        "\n",
        "The third line prints out the score of the model, which is the coefficient of determination (R-squared) that measures the **proportion of the variance in the dependent variable that is explained by the independent variables.**\n",
        "\n",
        "The variables X and y are assumed to be previously defined as the independent and dependent variables, respectively, used to fit the linear regression model. The linear_model object is also assumed to be previously defined as the fitted linear regression model.\n",
        "\n"
      ],
      "metadata": {
        "id": "2V_bxVonULhN"
      }
    },
    {
      "cell_type": "code",
      "source": [
        "with open(\"linear_regression.pkl\", \"wb\") as f:\n",
        "    pickle.dump(linear_model, f)"
      ],
      "metadata": {
        "id": "UOVJESzWktvs"
      },
      "execution_count": 23,
      "outputs": []
    },
    {
      "cell_type": "markdown",
      "source": [
        "This code uses python pickle module to save trained linear regression model to a file named 'linear_regression.pkl'\n",
        "\n",
        "'with' statement isused to write file in the 'wb' write binary mode and assign it to a variable f.\n",
        "\n",
        "pickle.dump function is then used to serialize 'lnear_model' object and write to a file f.\n",
        "\n",
        "By saving model to a file, it can be Loaded used later, without retraining it from the scratch.\n",
        "\n",
        "The model is now saved to a pickle file. It can be deserailized using the load function."
      ],
      "metadata": {
        "id": "x9_Cg84KlPRy"
      }
    },
    {
      "cell_type": "code",
      "source": [
        "with open(\"linear_regression.pkl\", \"rb\") as f:\n",
        "    unpickled_linear_model = pickle.load(f)"
      ],
      "metadata": {
        "id": "HwAy1yJSnE9V"
      },
      "execution_count": 25,
      "outputs": []
    },
    {
      "cell_type": "markdown",
      "source": [
        "This code uses the open() function in Python to open a file named \"linear_regression.pkl\" in binary mode with the \"rb\" argument. The with statement is used to ensure that the file is properly closed after it is used.\n",
        "\n",
        "Once the file is opened, the pickle.load() function is used to load the contents of the file into a variable named unpickled_linear_model. This function is used to deserialize a Python object hierarchy from a file.\n",
        "\n",
        "Overall, this code is used to load a previously saved linear regression model from a file"
      ],
      "metadata": {
        "id": "5uKm-a2unoOp"
      }
    },
    {
      "cell_type": "markdown",
      "source": [
        "The deserailized model is now loaded into a variable called 'unpickled_linear_model'. Check model's parameters to see if its same as the original file we serailized."
      ],
      "metadata": {
        "id": "_t7ki267oSzv"
      }
    },
    {
      "cell_type": "code",
      "source": [
        "# summary of the model\n",
        "print('Model intercept :', unpickled_linear_model.intercept_)\n",
        "print('Model coefficients : ', unpickled_linear_model.coef_)\n",
        "print('Model score : ', unpickled_linear_model.score(X, y))"
      ],
      "metadata": {
        "colab": {
          "base_uri": "https://localhost:8080/"
        },
        "id": "y-rHYZksoIPB",
        "outputId": "c8e866d0-2d92-47ac-c83a-97fcfda6c096"
      },
      "execution_count": 26,
      "outputs": [
        {
          "output_type": "stream",
          "name": "stdout",
          "text": [
            "Model intercept : 0.0026360037414828175\n",
            "Model coefficients :  [ 7.79640942 33.43726819 57.51459187 64.4743176   7.76001334]\n",
            "Model score :  0.9999896250777828\n"
          ]
        }
      ]
    },
    {
      "cell_type": "markdown",
      "source": [
        "This code snippet prints out a summary of a linear regression model.\n",
        "\n",
        "The first line prints out the intercept of the model, which is the value of the dependent variable when all independent variables are equal to zero.\n",
        "\n",
        "The second line prints out the coefficients of the model, which represent the change in the dependent variable for a one-unit change in each independent variable.\n",
        "\n",
        "The third line prints out the R-squared score of the model, which is a measure of how well the model fits the data. The score ranges from 0 to 1, with higher values indicating a better fit.\n",
        "\n",
        "The unpickled_linear_model object is assumed to be a trained linear regression model that has been previously saved and loaded using the pickle module. The X and y variables are assumed to be the independent and dependent variables used to train the model, respectively"
      ],
      "metadata": {
        "id": "57zhRHmGpjVQ"
      }
    },
    {
      "cell_type": "markdown",
      "source": [
        "\n",
        "Great! The parameters of the model we just unpickled are the same as the one we initially created.\n",
        "\n",
        "We can now proceed to use this model to make predictions on a test dataset, train on top of it, or transfer it to a different environment."
      ],
      "metadata": {
        "id": "_Moxyjgvp1JM"
      }
    },
    {
      "cell_type": "markdown",
      "source": [
        "# Increasing Python Pickle Performance For Large Objects"
      ],
      "metadata": {
        "id": "E6Or7MqyqJh_"
      }
    },
    {
      "cell_type": "markdown",
      "source": [
        "Pickle is an efficient serialization format that has often proved to be faster than JSON, XML, and HDF5 in various benchmarks.\n",
        "\n",
        "When dealing with extremely large data structures or huge machine learning models, however, Pickle can slow down considerably, and serialization can become a bottleneck in your workflow.\n",
        "\n",
        "Here are some ways you can reduce the time taken to save and load Pickle files:\n",
        "\n"
      ],
      "metadata": {
        "id": "eT6ZiZYfqUbk"
      }
    },
    {
      "cell_type": "markdown",
      "source": [
        "# Use the PROTOCOL argument\n",
        "The** default protocol** used when saving and loading Pickle files is **currently 4,** which **is the most compatible protocol** with different Python versions.\n",
        "\n",
        "However, if you want **to speed up your workflow**, you can **use the HIGHEST_PROTOCOL argument,** which is Pickle’s fastest available protocol.\n",
        "\n",
        "To compare the performance difference between Pickle’s most compatible protocol and the default protocol, let’s first serialize a Pandas DataFrame using the default protocol. This is the protocol version that Pickle uses if no specific protocol is explicitly stated."
      ],
      "metadata": {
        "id": "SGWYpyGfqc6f"
      }
    },
    {
      "cell_type": "code",
      "source": [
        "import pickle\n",
        "import time\n",
        "import numpy as np\n",
        "\n",
        "# Set random seed\n",
        "np.random.seed(1008)\n",
        "\n",
        "data = {'Column1': np.random.randint(0, 10, size=500000),\n",
        "        'Column2': np.random.choice(['A', 'B', 'C'], size=500000),\n",
        "        'Column3': np.random.rand(500000)}\n",
        "\n",
        "# serialize to a file\n",
        "\n",
        "start = time.time()\n",
        "\n",
        "with open(\"df1.pkl\", \"wb\") as f:\n",
        "    pickle.dump(data, f)\n",
        "\n",
        "end = time.time()\n",
        "print(end - start)"
      ],
      "metadata": {
        "colab": {
          "base_uri": "https://localhost:8080/"
        },
        "id": "Sj1WexMYqe8I",
        "outputId": "b695f4ab-59f0-410b-91d5-d58e0a30e8ed"
      },
      "execution_count": 27,
      "outputs": [
        {
          "output_type": "stream",
          "name": "stdout",
          "text": [
            "0.023430585861206055\n"
          ]
        }
      ]
    },
    {
      "cell_type": "markdown",
      "source": [
        "\n",
        "\n",
        "> pickle.dump(obj, file, protocol=None, *, fix_imports=True, buffer_callback=None)\n",
        "\n",
        "\n",
        "\n",
        "Write a pickled representation of obj to the open file object file.\n",
        "\n",
        "This is equivalent to Pickler(file, protocol).dump(obj), but may\n",
        "be more efficient.\n",
        "\n",
        "The optional *protocol* argument tells the pickler to use the given\n",
        "protocol; supported protocols are 0, 1, 2, 3, 4 and 5.  The default\n",
        "protocol is 4. It was introduced in Python 3.4, and is incompatible\n",
        "with previous versions.\n",
        "\n",
        "Specifying a negative protocol version selects the highest protocol\n",
        "version supported.  The higher the protocol used, the more recent the\n",
        "version of Python needed to read the pickle produced.\n",
        "\n",
        "The *file* argument must have a write() method that accepts a single\n",
        "bytes argument.  It can thus be a file object opened for binary\n",
        "writing, an io.BytesIO instance, or any other custom object that meets\n",
        "this interface.\n",
        "\n",
        "If *fix_imports* is True and protocol is less than 3, pickle will try\n",
        "to map the new Python 3 names to the old module names used in Python\n",
        "2, so that the pickle data stream is readable with Python 2.\n",
        "\n",
        "If *buffer_callback* is None (the default), buffer views are serialized\n",
        "into *file* as part of the pickle stream.  It is an error if\n",
        "*buffer_callback* is not None and *protocol* is None or smaller than 5."
      ],
      "metadata": {
        "id": "uvG9h9FfsnHN"
      }
    },
    {
      "cell_type": "markdown",
      "source": [
        " It took around 2 milliseconds for us to serialize the DataFrame using Pickle’s default protocol.\n",
        "\n",
        "Now, let’s pickle the DataFrame using the highest protocol:"
      ],
      "metadata": {
        "id": "5fIagCH8uaWB"
      }
    },
    {
      "cell_type": "code",
      "source": [
        "start = time.time()\n",
        "\n",
        "with open(\"df2.pkl\", \"wb\") as f:\n",
        "    pickle.dump(data, f, protocol=pickle.HIGHEST_PROTOCOL)\n",
        "\n",
        "end = time.time()\n",
        "print(end - start)"
      ],
      "metadata": {
        "colab": {
          "base_uri": "https://localhost:8080/"
        },
        "id": "Y4pbiviuuF3u",
        "outputId": "cec9a6cb-ba9a-4279-9622-03c8b174eb52"
      },
      "execution_count": 28,
      "outputs": [
        {
          "output_type": "stream",
          "name": "stdout",
          "text": [
            "0.01298069953918457\n"
          ]
        }
      ]
    },
    {
      "cell_type": "markdown",
      "source": [
        "With the highest protocol, we managed to serialize the DataFrame in half the amount of time."
      ],
      "metadata": {
        "id": "isoY1Xgwuw-R"
      }
    },
    {
      "cell_type": "markdown",
      "source": [
        "# Use cPickle instead of Pickle\n",
        "\n",
        "The cPickle module is a faster version of Pickle that is written in C. This makes it faster than the Pickle library, which is implemented purely in Python.\n",
        "\n",
        "Note that in Python3, cPickle has been renamed to _pickle, which is the library that we will be importing.\n",
        "\n"
      ],
      "metadata": {
        "id": "KPNhwyrHu6yz"
      }
    },
    {
      "cell_type": "code",
      "source": [
        "import _pickle as cPickle\n",
        "\n",
        "start = time.time()\n",
        "\n",
        "with open(\"df3.pkl\", \"wb\") as f:\n",
        "    cPickle.dump(data, f)\n",
        "\n",
        "end = time.time()\n",
        "\n",
        "print(end-start)"
      ],
      "metadata": {
        "colab": {
          "base_uri": "https://localhost:8080/"
        },
        "id": "LgFG8WiTu1o6",
        "outputId": "bf0c3d27-c799-4514-c121-9c0558e350e6"
      },
      "execution_count": 29,
      "outputs": [
        {
          "output_type": "stream",
          "name": "stdout",
          "text": [
            "0.02864813804626465\n"
          ]
        }
      ]
    },
    {
      "cell_type": "markdown",
      "source": [
        "This code imports the _pickle module as cPickle. The _pickle module is used for serializing and de-serializing Python objects.\n",
        "\n",
        "The code then starts a timer using the time module.\n",
        "\n",
        "Next, the code opens a file named \"df3.pkl\" in write binary mode using the with statement. The cPickle.dump() method is used to serialize the data object and write it to the file.\n",
        "\n",
        "After the serialization is complete, the file is closed automatically due to the 'with' statement.\n",
        "\n",
        "The timer is stopped and the elapsed time is printed to the console. This can be useful for measuring the time it takes to serialize and write the data to the file.\n",
        "\n"
      ],
      "metadata": {
        "id": "GoxznOGLvm7G"
      }
    },
    {
      "cell_type": "markdown",
      "source": [
        "Serialization with cPickle took approximately 2 milliseconds, which represents a substantial improvement over the Pickle Python module."
      ],
      "metadata": {
        "id": "tZsVkgovwP3L"
      }
    },
    {
      "cell_type": "code",
      "source": [],
      "metadata": {
        "id": "k-BYsBHCwI2a"
      },
      "execution_count": null,
      "outputs": []
    },
    {
      "cell_type": "markdown",
      "source": [
        "Even with workarounds to make serialization faster, the process can still be very slow for large objects.\n",
        "\n",
        "To improve performance, you can break the data structure down and only serialize necessary subsets.\n",
        "\n",
        "When working with dictionaries, for instance, you can specify key-value pairs that you want to access again. Reduce the size of the dictionary before serializing it since this will cut down the object’s complexity and speed up the process significantly"
      ],
      "metadata": {
        "id": "BVaLo9u3weoG"
      }
    },
    {
      "cell_type": "markdown",
      "source": [],
      "metadata": {
        "id": "RARM4py9wiFg"
      }
    }
  ]
}