{
  "nbformat": 4,
  "nbformat_minor": 0,
  "metadata": {
    "colab": {
      "provenance": [],
      "include_colab_link": true
    },
    "kernelspec": {
      "name": "python3",
      "display_name": "Python 3"
    },
    "language_info": {
      "name": "python"
    },
    "gpuClass": "standard"
  },
  "cells": [
    {
      "cell_type": "markdown",
      "metadata": {
        "id": "view-in-github",
        "colab_type": "text"
      },
      "source": [
        "<a href=\"https://colab.research.google.com/github/docdecoder/javainfant/blob/master/Copy_of_DHAI_B7_M3_AST_01_Basic_Probability_C.ipynb\" target=\"_parent\"><img src=\"https://colab.research.google.com/assets/colab-badge.svg\" alt=\"Open In Colab\"/></a>"
      ]
    },
    {
      "cell_type": "markdown",
      "metadata": {
        "id": "timuV6PR5zOW"
      },
      "source": [
        "# Digital Health and Imaging\n",
        "## A program by IISc and TalentSprint\n",
        "### Assignment 1: Probability basics"
      ]
    },
    {
      "cell_type": "markdown",
      "metadata": {
        "id": "Gxx6U-UOap7k"
      },
      "source": [
        "## Learning Objectives"
      ]
    },
    {
      "cell_type": "markdown",
      "metadata": {
        "id": "xxBNbT2kbDJq"
      },
      "source": [
        "   \n",
        "  At the end of the experiment, you will be able to understand about:\n",
        "  * Conditional probability and chain rule\n",
        "  * Bayes theorem\n",
        "  * Maximum Likelihood Estimation\n"
      ]
    },
    {
      "cell_type": "markdown",
      "source": [
        "## Assignment walkthrough video(Introduction to notebook)\n",
        "\n",
        "[Please click here](https://cdn.exec.talentsprint.com/content/DHAI_B5_M3_AST_01_Basic_Probability_C_ipynb_Colaboratory_and_1_more_page_Personal_Microsoft_Edge_2022_12_11_17_14_23.mp4)"
      ],
      "metadata": {
        "id": "KMV-x490tgVU"
      }
    },
    {
      "cell_type": "markdown",
      "metadata": {
        "id": "BNLA8HiKxQhc"
      },
      "source": [
        "### Setup Steps:"
      ]
    },
    {
      "cell_type": "code",
      "metadata": {
        "id": "2YzfoPvJDiTX"
      },
      "source": [
        "#@title Please enter your registration id to start: { run: \"auto\", display-mode: \"form\" }\n",
        "Id = \"2302804\" #@param {type:\"string\"}"
      ],
      "execution_count": null,
      "outputs": []
    },
    {
      "cell_type": "code",
      "metadata": {
        "id": "AjoZJWGErxGf"
      },
      "source": [
        "#@title Please enter your password (your registered phone number) to continue: { run: \"auto\", display-mode: \"form\" }\n",
        "password = \"7022093019\" #@param {type:\"string\"}"
      ],
      "execution_count": null,
      "outputs": []
    },
    {
      "cell_type": "code",
      "metadata": {
        "id": "IgJeRHdAqH9F",
        "cellView": "form",
        "colab": {
          "base_uri": "https://localhost:8080/",
          "height": 35
        },
        "outputId": "f27fb3e7-a4a0-4e89-8d76-68e12c181784"
      },
      "source": [
        "#@title Run this cell to complete the setup for this Notebook\n",
        "from IPython import get_ipython\n",
        "\n",
        "ipython = get_ipython()\n",
        "\n",
        "notebook= \"DHAI_B7_M3_AST_01_Basic_Probability_C.\" #name of the notebook\n",
        "\n",
        "def setup():\n",
        "#  ipython.magic(\"sx pip3 install torch\")\n",
        "    from IPython.display import HTML, display\n",
        "    display(HTML('<script src=\"https://dashboard.talentsprint.com/aiml/record_ip.html?traineeId={0}&recordId={1}\"></script>'.format(getId(),submission_id)))\n",
        "    print(\"Setup completed successfully\")\n",
        "    return\n",
        "\n",
        "def submit_notebook():\n",
        "    ipython.magic(\"notebook -e \"+ notebook + \".ipynb\")\n",
        "\n",
        "    import requests, json, base64, datetime\n",
        "\n",
        "    url = \"https://dashboard.talentsprint.com/xp/app/save_notebook_attempts\"\n",
        "    if not submission_id:\n",
        "      data = {\"id\" : getId(), \"notebook\" : notebook, \"mobile\" : getPassword()}\n",
        "      r = requests.post(url, data = data)\n",
        "      r = json.loads(r.text)\n",
        "\n",
        "      if r[\"status\"] == \"Success\":\n",
        "          return r[\"record_id\"]\n",
        "      elif \"err\" in r:\n",
        "        print(r[\"err\"])\n",
        "        return None\n",
        "      else:\n",
        "        print (\"Something is wrong, the notebook will not be submitted for grading\")\n",
        "        return None\n",
        "\n",
        "    elif getAnswer() and getComplexity() and getAdditional() and getConcepts() and getComments() and getMentorSupport():\n",
        "      f = open(notebook + \".ipynb\", \"rb\")\n",
        "      file_hash = base64.b64encode(f.read())\n",
        "\n",
        "      data = {\"complexity\" : Complexity, \"additional\" :Additional,\n",
        "              \"concepts\" : Concepts, \"record_id\" : submission_id,\n",
        "              \"answer\" : Answer, \"id\" : Id, \"file_hash\" : file_hash,\n",
        "              \"notebook\" : notebook,\n",
        "              \"feedback_experiments_input\" : Comments,\n",
        "              \"feedback_mentor_support\": Mentor_support}\n",
        "      r = requests.post(url, data = data)\n",
        "      r = json.loads(r.text)\n",
        "      if \"err\" in r:\n",
        "        print(r[\"err\"])\n",
        "        return None\n",
        "      else:\n",
        "        print(\"Your submission is successful.\")\n",
        "        print(\"Ref Id:\", submission_id)\n",
        "        print(\"Date of submission: \", r[\"date\"])\n",
        "        print(\"Time of submission: \", r[\"time\"])\n",
        "        print(\"View your submissions: https://dhai-iisc.talentsprint.com/notebook_submissions\")\n",
        "        #print(\"For any queries/discrepancies, please connect with mentors through the chat icon in LMS dashboard.\")\n",
        "        return submission_id\n",
        "    else: submission_id\n",
        "\n",
        "\n",
        "def getAdditional():\n",
        "  try:\n",
        "    if not Additional:\n",
        "      raise NameError\n",
        "    else:\n",
        "      return Additional\n",
        "  except NameError:\n",
        "    print (\"Please answer Additional Question\")\n",
        "    return None\n",
        "\n",
        "def getComplexity():\n",
        "  try:\n",
        "    if not Complexity:\n",
        "      raise NameError\n",
        "    else:\n",
        "      return Complexity\n",
        "  except NameError:\n",
        "    print (\"Please answer Complexity Question\")\n",
        "    return None\n",
        "\n",
        "def getConcepts():\n",
        "  try:\n",
        "    if not Concepts:\n",
        "      raise NameError\n",
        "    else:\n",
        "      return Concepts\n",
        "  except NameError:\n",
        "    print (\"Please answer Concepts Question\")\n",
        "    return None\n",
        "\n",
        "\n",
        "# def getWalkthrough():\n",
        "#   try:\n",
        "#     if not Walkthrough:\n",
        "#       raise NameError\n",
        "#     else:\n",
        "#       return Walkthrough\n",
        "#   except NameError:\n",
        "#     print (\"Please answer Walkthrough Question\")\n",
        "#     return None\n",
        "\n",
        "def getComments():\n",
        "  try:\n",
        "    if not Comments:\n",
        "      raise NameError\n",
        "    else:\n",
        "      return Comments\n",
        "  except NameError:\n",
        "    print (\"Please answer Comments Question\")\n",
        "    return None\n",
        "\n",
        "\n",
        "def getMentorSupport():\n",
        "  try:\n",
        "    if not Mentor_support:\n",
        "      raise NameError\n",
        "    else:\n",
        "      return Mentor_support\n",
        "  except NameError:\n",
        "    print (\"Please answer Mentor support Question\")\n",
        "    return None\n",
        "\n",
        "def getAnswer():\n",
        "  try:\n",
        "    if not Answer:\n",
        "      raise NameError\n",
        "    else:\n",
        "      return Answer\n",
        "  except NameError:\n",
        "    print (\"Please answer Question\")\n",
        "    return None\n",
        "\n",
        "\n",
        "def getId():\n",
        "  try:\n",
        "    return Id if Id else None\n",
        "  except NameError:\n",
        "    return None\n",
        "\n",
        "def getPassword():\n",
        "  try:\n",
        "    return password if password else None\n",
        "  except NameError:\n",
        "    return None\n",
        "\n",
        "submission_id = None\n",
        "### Setup\n",
        "if getPassword() and getId():\n",
        "  submission_id = submit_notebook()\n",
        "  if submission_id:\n",
        "    setup()\n",
        "else:\n",
        "  print (\"Please complete Id and Password cells before running setup\")\n",
        "\n"
      ],
      "execution_count": null,
      "outputs": [
        {
          "output_type": "display_data",
          "data": {
            "text/plain": [
              "<IPython.core.display.HTML object>"
            ],
            "text/html": [
              "<script src=\"https://dashboard.talentsprint.com/aiml/record_ip.html?traineeId=2302804&recordId=575\"></script>"
            ]
          },
          "metadata": {}
        },
        {
          "output_type": "stream",
          "name": "stdout",
          "text": [
            "Setup completed successfully\n"
          ]
        }
      ]
    },
    {
      "cell_type": "markdown",
      "metadata": {
        "id": "gYmaR2DMuv21"
      },
      "source": [
        "### Conditional Probability"
      ]
    },
    {
      "cell_type": "markdown",
      "metadata": {
        "id": "mB7lR-PBwdD3"
      },
      "source": [
        "The probability of the occurence of an event A given a condition that event B occurs is known as conditional probability.\n",
        "\n",
        "This can be written as : P(A | B) or P(A given B)\n",
        "\n",
        "Furthermore, the conditional probability for events A given event B is calculated as follows:\n",
        "\n",
        "$P(A | B)$ = $\\frac{P(A \\cap B)}{P(B)}$ , where $P(B)\\neq0$\n",
        "\n",
        "**Special Cases of Conditional Probability**\n",
        "\n",
        "1. A and B are disjoint: Here $A \\cap B = \\Phi $, this denotes that A and B cannot occur at the same time.\n",
        "\n",
        "  $P(A|B) = \\frac{P(A \\cap B)} {P(B)}= 0$\n",
        "\n",
        "\n",
        "\n",
        "2. B is a subset of A: If B is a subset of A, then whenever B happens, definitely A must have happened too. Therefore, $A \\cap B = B$\n",
        "\n",
        "  $P(A|B) = \\frac{P(A \\cap B)} {P(B)}$\n",
        "\n",
        "  $P(A|B) = \\frac{P(B)} {P(B)} = 1$, since $A \\cap B = B$\n",
        "\n",
        "\n",
        "3. A is a subset of B: Here, $A \\cap B = A$\n",
        "\n",
        "  $P(A|B) = \\frac{P(A \\cap B)} {P(B)}$\n",
        "\n",
        "  $P(A|B) = \\frac{P(A)} {P(B)} $, since $A \\cap B = A$\n"
      ]
    },
    {
      "cell_type": "markdown",
      "metadata": {
        "id": "qguVOVGIBpdB"
      },
      "source": [
        "1. A fair die is rolled. Assume, A is an event that the outcome is an even number, i.e., A={2,4,6}. Next, let B be the event where the outcome is greater than or equal to 4, i.e., B={4,5,6}. Find the following:\n",
        "\n",
        "  a. Probability of A\n",
        "  \n",
        "  b. Probability of A given B"
      ]
    },
    {
      "cell_type": "markdown",
      "metadata": {
        "id": "VR6l7m3t9dxy"
      },
      "source": [
        "  Calculating probability of occurence of event A i.e.$P(A)$"
      ]
    },
    {
      "cell_type": "code",
      "metadata": {
        "id": "aYNC4chFuyb-",
        "colab": {
          "base_uri": "https://localhost:8080/"
        },
        "outputId": "19af34a6-4b4d-4254-9eac-35e593d03a79"
      },
      "source": [
        "# Total number of outcomes of a die is 6\n",
        "S = 6\n",
        "# Total number of outcomes of event A having even numbers i.e. A = {2, 4, 6} is 3.\n",
        "A = 3\n",
        "# Probability of getting an even number when a die is rolled\n",
        "P_A = A/S\n",
        "print(P_A)"
      ],
      "execution_count": null,
      "outputs": [
        {
          "output_type": "stream",
          "name": "stdout",
          "text": [
            "0.5\n"
          ]
        }
      ]
    },
    {
      "cell_type": "markdown",
      "metadata": {
        "id": "8xZZRTON_Wxz"
      },
      "source": [
        "Calculating probability of event A given B i.e. $P(A|B)$\n",
        "\n",
        "To calculate conditional probability we can use the formula as $P(A | B)$ = $\\frac{\\left | A \\cap B \\right |}{\\left | B \\right |}$      \n",
        "\n",
        "Further, as event B has already occured, the outcome of B is {4,5,6}. Also, event A's outcome is {2,4,6}. Therefore, the outcome of the event A when B has already occured will be $A \\cap B$ which is {4,6}"
      ]
    },
    {
      "cell_type": "code",
      "metadata": {
        "id": "BfXeqKWY_XM6",
        "colab": {
          "base_uri": "https://localhost:8080/"
        },
        "outputId": "0a51fbcc-928f-4b11-c72f-0273cec4f15e"
      },
      "source": [
        "# Declaring number of events of |A intersection B|=2 as A_B\n",
        "A_B = 2\n",
        "# Declaring number of events of |B| = 3\n",
        "B = 3\n",
        "# Probability of event A given B is calculated as follows\n",
        "P_AB = (A_B)/B\n",
        "print(P_AB)"
      ],
      "execution_count": null,
      "outputs": [
        {
          "output_type": "stream",
          "name": "stdout",
          "text": [
            "0.6666666666666666\n"
          ]
        }
      ]
    },
    {
      "cell_type": "markdown",
      "metadata": {
        "id": "MuSckHwquyxe"
      },
      "source": [
        "### Chain Rule of Conditional Probabilities"
      ]
    },
    {
      "cell_type": "markdown",
      "metadata": {
        "id": "PqtW6DAnwd-C"
      },
      "source": [
        "By now, we know about conditional probability. Further, what if we are interested in knowing the probability of intersections like $A \\cap B$ or $A_{1} \\cap A_{2} \\cap A_{3} \\cap,....,A_{n}$. For this, let us take the formula of conditional probability to derive \"**chain rule of conditional probability**\".\n",
        "\n",
        "Rewriting Conditional Probability in the below format:\n",
        "\n",
        "  $P(A \\cap B)=P(A)P(B|A)=P(B)P(A|B)$.........................(1)\n",
        "\n",
        "  Above formula for three events will be:\n",
        "\n",
        "  $P(A \\cap B \\cap C)= P(A \\cap (B \\cap C))= P(A)P(B \\cap C |A)$\n",
        "\n",
        "  Now, as we know $P(B \\cap C) = P(B)P(C|B)$  (from equation 1)\n",
        "\n",
        "  Apply the condition A on both the sides, we get\n",
        "\n",
        "  $P(B \\cap C|A)=P(B|A)P(C|A,B)$...............................(2)\n",
        "\n",
        "  From equation 1 and 2, we get\n",
        "\n",
        "  $P(A \\cap B \\cap C)=P(A)P(B|A)P(C|A,B)$\n",
        "\n",
        "\n",
        "\n"
      ]
    },
    {
      "cell_type": "markdown",
      "metadata": {
        "id": "DhI8I1mgbiAh"
      },
      "source": [
        "\n",
        "  Finally, the general formula for n events will be\n",
        "\n",
        "  $P(A_{1} \\cap A_{2} \\cap....\\cap A_{n}) = P(A_{1})P(A_{2}|A_{1})P(A_{3}|A_{2}A_{1}).....P(A_{n}|A_{n-1}A_{n-2}....A_{1})$\n"
      ]
    },
    {
      "cell_type": "markdown",
      "metadata": {
        "id": "6LrJ2QJ_DmdS"
      },
      "source": [
        "1. There is a tyre manufacturing factory that produces 250 units per month, 17 of which are defective. We pick 3 units out of 250 units at random. What is the probability that none of them are defective?\n",
        "\n",
        "  **Explanation**: Here, we are picking up 3 units at random. This can be considered as 3 events $A_{1}$, $A_{2}$, and $A_{3}$ of picking up non-defective units. Thus, we have to find the $P(A_{1} \\cap A_{2} \\cap A_{3})$."
      ]
    },
    {
      "cell_type": "markdown",
      "source": [
        "A=3,4,5,6\n",
        "B=2,4,6\n",
        "C=4,5,6(Hey 3>"
      ],
      "metadata": {
        "id": "nGU3nOeVPJN3"
      }
    },
    {
      "cell_type": "code",
      "metadata": {
        "id": "oDY_27Gvu4gi"
      },
      "source": [
        "# Declaring units of production, total number of non-defective units, and number of defective units\n",
        "total_units = 250\n",
        "defec_u = 17\n",
        "n_defec = total_units - defec_u # There are 233 not defective units\n",
        "# Probability of picking up the non-defective units for the first time (Event A1)\n",
        "P1 = n_defec/total_units\n",
        "P1"
      ],
      "execution_count": null,
      "outputs": []
    },
    {
      "cell_type": "markdown",
      "metadata": {
        "id": "TcwlagAthg2Z"
      },
      "source": [
        "Now, the next item will be chosen from 232 not defective units and 17 defective units. This means we have to calculate $P(A_{2}|A_{1})$"
      ]
    },
    {
      "cell_type": "code",
      "metadata": {
        "id": "dJacbIOqifqG"
      },
      "source": [
        "# The non-defective units will be 1 less than the previous one as we have already picked up one unit\n",
        "n_defec_2 = n_defec - 1\n",
        "# Probability of picking up the non-defective units for the second time (Event A2)\n",
        "P2 = n_defec_2 / (total_units-1)\n",
        "P2"
      ],
      "execution_count": null,
      "outputs": []
    },
    {
      "cell_type": "markdown",
      "metadata": {
        "id": "vaHGjXNUj-xL"
      },
      "source": [
        "Further, given that $A_{1}$ and $A_{2}$ has occured, we have to find the probability of chosing the 3rd unit.\n",
        "\n",
        "The third unit will be chosen from 231 not defective units and 17 defective units."
      ]
    },
    {
      "cell_type": "code",
      "metadata": {
        "id": "oYZMMlZFTl2a"
      },
      "source": [
        "# Again, the non-defective units will be 1 less than the previous one (Event A2)\n",
        "n_defec_3 = n_defec_2 - 1\n",
        "P3 = n_defec_3/(total_units-2)\n",
        "P3"
      ],
      "execution_count": null,
      "outputs": []
    },
    {
      "cell_type": "markdown",
      "metadata": {
        "id": "Zmw4OLUYUoxW"
      },
      "source": [
        "The final probability will be calculated as per the below formula:\n",
        "\n",
        " $P(A_{1} \\cap A_{2} \\cap A_{3})$ = $P(A_{1})P(A_{2}|A_{1})P(A_{3}|A_{2},A_{1})$"
      ]
    },
    {
      "cell_type": "code",
      "metadata": {
        "id": "OZqjWbE5VaUG"
      },
      "source": [
        "# Final probability as per the condition\n",
        "p_final = P1*P2*P3\n",
        "p_final"
      ],
      "execution_count": null,
      "outputs": []
    },
    {
      "cell_type": "markdown",
      "metadata": {
        "id": "ycL6Vpz_vdxx"
      },
      "source": [
        "### Bayes Theorem"
      ]
    },
    {
      "cell_type": "markdown",
      "metadata": {
        "id": "IdYC5ueBwhJ3"
      },
      "source": [
        "By now, we already know about conditional probability and how to calculate it. Further, suppose that we know P(A|B), but we are interested in the probability P(B|A). We can calculate it using the below formula derived for Bayes Theorem:\n",
        "\n",
        "$P(B|A) = \\frac {P(A|B)P(B)}{P(A)}$ where $P(A)\\neq0$\n",
        "\n",
        "It can also be written as:\n",
        "\n",
        "$P(B_{j}|A) = \\frac {P(A|B_{j})P(B_{j})}{\\sum_{i} P(A|B_{i})P(B_{i})}$\n",
        "\n",
        "where $B_{1},B_{2},...,B_{n}$ form a partition of the sample space.\n",
        "\n"
      ]
    },
    {
      "cell_type": "markdown",
      "metadata": {
        "id": "-avfAxTbtm4L"
      },
      "source": [
        "1. Suppose there are three bags where each bag contains 100 marbles:\n",
        "\n",
        "  a). Bag 1 has 75 red and 25 blue marbles\n",
        "\n",
        "  b). Bag 2 has 60 red and 40 blue marbles\n",
        "\n",
        "  c). Bag 3 has 45 red and 55 blue marbles\n",
        "\n",
        "  We choose one of the bags at random and then pick a random marble from the chosen bag. Further, we observe that the chosen marble is red. What is the probability that the bag chosen was Bag 1?\n",
        "\n"
      ]
    },
    {
      "cell_type": "code",
      "metadata": {
        "id": "Aa2LAbC2vkdG",
        "colab": {
          "base_uri": "https://localhost:8080/"
        },
        "outputId": "e50281a6-b80e-4f00-8282-6e03de2280bd"
      },
      "source": [
        "# Probability of picking up the marbles from Bag 1, Bag 2, and Bag 3\n",
        "P_B1 = 1/3\n",
        "P_B2 = 1/3\n",
        "P_B3 = 1/3\n",
        "# Probability of picking up the red marbles from Bag 1, Bag 2, and Bag 3\n",
        "PR_B1 = 0.75\n",
        "PR_B2 = 0.60\n",
        "PR_B3 = 0.45\n",
        "\n",
        "# Probability of the event where chosen marble is red\n",
        "P_Red = PR_B1*P_B1 + PR_B2*P_B2 + PR_B3*P_B3\n",
        "P_Red"
      ],
      "execution_count": 1,
      "outputs": [
        {
          "output_type": "execute_result",
          "data": {
            "text/plain": [
              "0.6"
            ]
          },
          "metadata": {},
          "execution_count": 1
        }
      ]
    },
    {
      "cell_type": "markdown",
      "metadata": {
        "id": "hy2kJCyPxqlQ"
      },
      "source": [
        "Here, we know $P(R|B_{i})$, but, to calculate the probability that Bag 1 was chosen $P(B_{1}|R)$ we will follow the **Bayes rule**.\n",
        "\n",
        "$P(B_{1}|R) = \\frac{P(R|B_{1})P(B_{1})}{P(R)}$"
      ]
    },
    {
      "cell_type": "code",
      "metadata": {
        "id": "ZL1SL5TRwd6e"
      },
      "source": [
        "# Probability that Bag 1 was chosen\n",
        "P_B1R = (PR_B1*P_B1)/P_Red\n",
        "P_B1R"
      ],
      "execution_count": null,
      "outputs": []
    },
    {
      "cell_type": "markdown",
      "metadata": {
        "id": "l6ZMBUuEN_zf"
      },
      "source": [
        "### Maximum Likelihood Estimation"
      ]
    },
    {
      "cell_type": "markdown",
      "metadata": {
        "id": "VjGSs8O9OBwc"
      },
      "source": [
        "**Maximum Likelihood Estimation:** Maximum likelihood estimation is a method that determines maximum values for the parameter of a model."
      ]
    },
    {
      "cell_type": "markdown",
      "metadata": {
        "id": "ZZz5fFwOOEdp"
      },
      "source": [
        "9. Build 1000 data points from the normal distribution with  mean = 1 and standard deviation = 5. Estimate their maximum likelihood of mean, variance, and standard deviation from the data."
      ]
    },
    {
      "cell_type": "code",
      "source": [
        "import numpy as np\n",
        "import seaborn as sns"
      ],
      "metadata": {
        "id": "QDOHXURW2nol"
      },
      "execution_count": null,
      "outputs": []
    },
    {
      "cell_type": "code",
      "metadata": {
        "id": "WNLcwPvYOGdS"
      },
      "source": [
        "# Building the distributed data from mean and standard deviation\n",
        "mean = 1\n",
        "std = 5\n",
        "N_points = 1000\n",
        "\n",
        "#  Finding the random normal distributed data\n",
        "data = np.random.normal(mean, std, N_points)\n",
        "sns.histplot(data, kde=True, color=\"red\", stat=\"density\", linewidth=0);"
      ],
      "execution_count": null,
      "outputs": []
    },
    {
      "cell_type": "code",
      "metadata": {
        "id": "Inp5af9gOIau"
      },
      "source": [
        "# Printing the original mean and variance\n",
        "print('Original mean is '+str(mean) + ', variance is ' + str(std**2),\" and standard deviation is \" +str(std))"
      ],
      "execution_count": null,
      "outputs": []
    },
    {
      "cell_type": "code",
      "metadata": {
        "id": "JAxlMkzvONuV"
      },
      "source": [
        "# Calculating the mean from the data\n",
        "mu_ML = 1/N_points * sum(data)\n",
        "print('Maximum likelihood estimation of mean from the normal distributed data is '+str(mu_ML))"
      ],
      "execution_count": null,
      "outputs": []
    },
    {
      "cell_type": "code",
      "metadata": {
        "id": "frylF700OPSA"
      },
      "source": [
        "# Calculating the variance from the data\n",
        "var_ML = (1/(N_points-1)) * sum([(x-mu_ML) ** 2 for x in data])\n",
        "print('Maximum likelihood estimation of variance from the normal distributed data is ' + str(var_ML))"
      ],
      "execution_count": null,
      "outputs": []
    },
    {
      "cell_type": "code",
      "metadata": {
        "id": "CyJ8_Yi6ORds"
      },
      "source": [
        "import math\n",
        "# Calculating the standard deviation from the data\n",
        "std_ML = math.sqrt(var_ML)\n",
        "print(\"Maximum likelihood estimation of standard deviation from the normal distributed data is  \"+str(std_ML))"
      ],
      "execution_count": null,
      "outputs": []
    },
    {
      "cell_type": "markdown",
      "metadata": {
        "id": "oBGn2dPCapoZ"
      },
      "source": [
        "### Bayesian inference"
      ]
    },
    {
      "cell_type": "markdown",
      "metadata": {
        "id": "jLsEzKdcar0Q"
      },
      "source": [
        "**Bayesian inference :**- Bayesian inference is a method of statistical inference in which Baye's theorem is used to update the probability for a hypothesis as more evidence or information becomes available. Bayesian inference is an important technique in statistics, and especially in mathematical statistics.\n",
        "\n",
        "The core of Bayesian Inference is to combine two different distributions (likelihood and prior) into one “smarter” distribution (posterior). Posterior is **“smarter” in the sense that the classic maximum likelihood estimation (MLE) doesn’t take into account a prior**. Once we calculate the posterior, we use it to find the “best” parameters and the **“best” is in terms of maximizing the posterior probability**, given the data. This process is called Maximum A Posteriori (MAP).\n",
        "\n",
        "Bayesian Inference has three steps.\n",
        "\n",
        "Step 1. **[Prior] Choose a PDF to model your parameter θ**, aka the prior distribution **P(θ)**. This is **your best guess** about parameters **before** seeing the data **X**.\n",
        "\n",
        "Step 2. **[Likelihood] Choose a PDF for $P(X|θ)$**. Basically you are modeling how the data **$X$** will look like given the parameter **$θ$**.\n",
        "\n",
        "Step 3. **[Posterior] Calculate the posterior** distribution **$P(θ|X)$** and pick the **$θ$ that has the highest $P(θ|X)$**.\n",
        "\n",
        "And the posterior becomes the new prior. Repeat step 3 as you get more data.\n",
        "\n",
        "\n",
        "**Formula for calculating Posterior**\n",
        "\n",
        "$P(θ|X) = \\frac{P(X|θ).P(θ)}{\\int P(X|θ).P(θ).dθ}$\n",
        "\n",
        "where, $P(θ|X)$ = Posterior, $P(X|θ)$ = Sampling, $P(θ)$ = Prior, $dθ$ = Normalizing constant\n",
        "\n"
      ]
    },
    {
      "cell_type": "markdown",
      "metadata": {
        "id": "LeqpePDLaveP"
      },
      "source": [
        "10. Bob is selecting one marble from two bowls of marbles. The first bowl has 75 red marbles and 25 blue marbles. The second bowl has 50 red marbles and 50 blue marbles. Given that Bob is equally likely to choose from either bowl and does not discriminate between the marbles themselves, Bob in fact chooses a red marble. What is the probability Bob picked the marble from bowl 1 and bowl 2?"
      ]
    },
    {
      "cell_type": "code",
      "metadata": {
        "id": "g6-fP5raayPb",
        "colab": {
          "base_uri": "https://localhost:8080/"
        },
        "outputId": "b037b882-4035-4bd6-ce7a-55703c080853"
      },
      "source": [
        "# Probability of fetching the marble from bowl\n",
        "P_H_1 = P_H_2 = 0.5\n",
        "\n",
        "# Probability of fetching the red marble from first bowl\n",
        "P_E_H_1 = 75/100\n",
        "\n",
        "# Probability of fetching the marble from second bowl\n",
        "P_E_H_2 = 50/100\n",
        "\n",
        "# Applying the Bayesian formula to pick the red marble from first bowl\n",
        "P_H_1_E = (P_E_H_1*P_H_1)/((P_E_H_1*P_H_1)+(P_E_H_2*P_H_2))\n",
        "P_H_2_E = (P_E_H_2*P_H_2)/((P_E_H_1*P_H_1)+(P_E_H_2*P_H_2))\n",
        "print(\"The probability of fetching the red marble from bowl 1 is \"+str(P_H_1_E)+ \" and from bowl 2 is \"+str(P_H_2_E))"
      ],
      "execution_count": 2,
      "outputs": [
        {
          "output_type": "stream",
          "name": "stdout",
          "text": [
            "The probability of fetching the red marble from bowl 1 is 0.6 and from bowl 2 is 0.4\n"
          ]
        }
      ]
    },
    {
      "cell_type": "markdown",
      "metadata": {
        "id": "qGINkj8QsJwW"
      },
      "source": [
        "### Please answer the questions below to complete the experiment:\n",
        "\n",
        "\n"
      ]
    },
    {
      "cell_type": "markdown",
      "source": [],
      "metadata": {
        "id": "9kAA03hXVhTg"
      }
    },
    {
      "cell_type": "code",
      "metadata": {
        "id": "VR6uKwcEsJwd"
      },
      "source": [
        "# @title    A man is known to speak truth 5 out of 8 times. He throws a die and reports that it is a four. Find the probability that it is actually a four. { run: \"auto\", form-width: \"500px\", display-mode: \"form\" }\n",
        "Answer = \"\" #@param [\"\",\"1/8\",\"3/8\", \"1/4\",\"3/4\"]"
      ],
      "execution_count": null,
      "outputs": []
    },
    {
      "cell_type": "code",
      "metadata": {
        "id": "DQPGR7qUrvGF"
      },
      "source": [
        "#@title How was the experiment? { run: \"auto\", form-width: \"500px\", display-mode: \"form\" }\n",
        "Complexity = \"\" #@param [\"\",\"Too Simple, I am wasting time\", \"Good, But Not Challenging for me\", \"Good and Challenging for me\", \"Was Tough, but I did it\", \"Too Difficult for me\"]\n"
      ],
      "execution_count": null,
      "outputs": []
    },
    {
      "cell_type": "code",
      "metadata": {
        "id": "9l4xZxEmrvGH"
      },
      "source": [
        "#@title If it was too easy, what more would you have liked to be added? If it was very difficult, what would you have liked to have been removed? { run: \"auto\", display-mode: \"form\" }\n",
        "Additional = \"\" #@param {type:\"string\"}\n"
      ],
      "execution_count": null,
      "outputs": []
    },
    {
      "cell_type": "code",
      "metadata": {
        "id": "erZK8CV6rvGI"
      },
      "source": [
        "#@title Can you identify the concepts from the lecture which this experiment covered? { run: \"auto\", vertical-output: true, display-mode: \"form\" }\n",
        "Concepts = \"\" #@param [\"\",\"Yes\", \"No\"]\n"
      ],
      "execution_count": null,
      "outputs": []
    },
    {
      "cell_type": "code",
      "metadata": {
        "id": "T8-XFcUSrvGI"
      },
      "source": [
        "#@title  Text and image description/explanation and code comments within the experiment: { run: \"auto\", vertical-output: true, display-mode: \"form\" }\n",
        "Comments = \"\" #@param [\"\",\"Very Useful\", \"Somewhat Useful\", \"Not Useful\", \"Didn't use\"]\n"
      ],
      "execution_count": null,
      "outputs": []
    },
    {
      "cell_type": "code",
      "metadata": {
        "id": "Yta-SGMRrvGI"
      },
      "source": [
        "#@title Mentor Support: { run: \"auto\", vertical-output: true, display-mode: \"form\" }\n",
        "Mentor_support = \"\" #@param [\"\",\"Very Useful\", \"Somewhat Useful\", \"Not Useful\", \"Didn't use\"]\n"
      ],
      "execution_count": null,
      "outputs": []
    },
    {
      "cell_type": "code",
      "metadata": {
        "cellView": "form",
        "id": "ePGMEj8PrvGI"
      },
      "source": [
        "#@title Run this cell to submit your notebook for grading { vertical-output: true }\n",
        "try:\n",
        "  if submission_id:\n",
        "      return_id = submit_notebook()\n",
        "      if return_id : submission_id = return_id\n",
        "  else:\n",
        "      print(\"Please complete the setup first.\")\n",
        "except NameError:\n",
        "  print (\"Please complete the setup first.\")"
      ],
      "execution_count": null,
      "outputs": []
    }
  ]
}