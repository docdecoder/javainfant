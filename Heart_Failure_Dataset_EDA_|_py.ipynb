{
  "metadata": {
    "kernelspec": {
      "language": "python",
      "display_name": "Python 3",
      "name": "python3"
    },
    "language_info": {
      "pygments_lexer": "ipython3",
      "nbconvert_exporter": "python",
      "version": "3.6.4",
      "file_extension": ".py",
      "codemirror_mode": {
        "name": "ipython",
        "version": 3
      },
      "name": "python",
      "mimetype": "text/x-python"
    },
    "colab": {
      "name": "Heart Failure Dataset EDA. | py",
      "provenance": []
    }
  },
  "nbformat_minor": 0,
  "nbformat": 4,
  "cells": [
    {
      "source": [
        "\n",
        "# IMPORTANT: RUN THIS CELL IN ORDER TO IMPORT YOUR KAGGLE DATA SOURCES\n",
        "# TO THE CORRECT LOCATION (/kaggle/input) IN YOUR NOTEBOOK,\n",
        "# THEN FEEL FREE TO DELETE THIS CELL.\n",
        "# NOTE: THIS NOTEBOOK ENVIRONMENT DIFFERS FROM KAGGLE'S PYTHON\n",
        "# ENVIRONMENT SO THERE MAY BE MISSING LIBRARIES USED BY YOUR\n",
        "# NOTEBOOK.\n",
        "\n",
        "import os\n",
        "import sys\n",
        "from tempfile import NamedTemporaryFile\n",
        "from urllib.request import urlopen\n",
        "from urllib.parse import unquote, urlparse\n",
        "from urllib.error import HTTPError\n",
        "from zipfile import ZipFile\n",
        "import tarfile\n",
        "import shutil\n",
        "\n",
        "CHUNK_SIZE = 40960\n",
        "DATA_SOURCE_MAPPING = 'heart-failure-prediction:https%3A%2F%2Fstorage.googleapis.com%2Fkaggle-data-sets%2F1582403%2F2603715%2Fbundle%2Farchive.zip%3FX-Goog-Algorithm%3DGOOG4-RSA-SHA256%26X-Goog-Credential%3Dgcp-kaggle-com%2540kaggle-161607.iam.gserviceaccount.com%252F20240821%252Fauto%252Fstorage%252Fgoog4_request%26X-Goog-Date%3D20240821T124623Z%26X-Goog-Expires%3D259200%26X-Goog-SignedHeaders%3Dhost%26X-Goog-Signature%3D8de8f07d5298adc5696b57ca834f9f61f763e418c66c9e2c3c499d02d385347712c5658e34dadd2edd8046fe0dc0cbf271327f80871fa9318a683cc753427053b54d67950c7b3e71e09966deec1e89556b2f0760be9c91bd09b20564508f73474e6a3cfbb5260b3a3a52f551d24acd0acc23543c15a6f105254fc72c4d240694b2b5b0c25f0f3412f1563fa03a68e33a61549132ef2d57637d6f25d44a2d897cc6910e3229052cf5367afd69c4be8cbe72c8baf96681d94328dd464446f229e9a4e2cb9933f977ae8e0310538e3511816329ebe6894b8dda28b95ad37c978819b750c79cc4b5df076c042ac21d9cb5737b30c4ab82118111bb003cb90616d746'\n",
        "\n",
        "KAGGLE_INPUT_PATH='/kaggle/input'\n",
        "KAGGLE_WORKING_PATH='/kaggle/working'\n",
        "KAGGLE_SYMLINK='kaggle'\n",
        "\n",
        "!umount /kaggle/input/ 2> /dev/null\n",
        "shutil.rmtree('/kaggle/input', ignore_errors=True)\n",
        "os.makedirs(KAGGLE_INPUT_PATH, 0o777, exist_ok=True)\n",
        "os.makedirs(KAGGLE_WORKING_PATH, 0o777, exist_ok=True)\n",
        "\n",
        "try:\n",
        "  os.symlink(KAGGLE_INPUT_PATH, os.path.join(\"..\", 'input'), target_is_directory=True)\n",
        "except FileExistsError:\n",
        "  pass\n",
        "try:\n",
        "  os.symlink(KAGGLE_WORKING_PATH, os.path.join(\"..\", 'working'), target_is_directory=True)\n",
        "except FileExistsError:\n",
        "  pass\n",
        "\n",
        "for data_source_mapping in DATA_SOURCE_MAPPING.split(','):\n",
        "    directory, download_url_encoded = data_source_mapping.split(':')\n",
        "    download_url = unquote(download_url_encoded)\n",
        "    filename = urlparse(download_url).path\n",
        "    destination_path = os.path.join(KAGGLE_INPUT_PATH, directory)\n",
        "    try:\n",
        "        with urlopen(download_url) as fileres, NamedTemporaryFile() as tfile:\n",
        "            total_length = fileres.headers['content-length']\n",
        "            print(f'Downloading {directory}, {total_length} bytes compressed')\n",
        "            dl = 0\n",
        "            data = fileres.read(CHUNK_SIZE)\n",
        "            while len(data) > 0:\n",
        "                dl += len(data)\n",
        "                tfile.write(data)\n",
        "                done = int(50 * dl / int(total_length))\n",
        "                sys.stdout.write(f\"\\r[{'=' * done}{' ' * (50-done)}] {dl} bytes downloaded\")\n",
        "                sys.stdout.flush()\n",
        "                data = fileres.read(CHUNK_SIZE)\n",
        "            if filename.endswith('.zip'):\n",
        "              with ZipFile(tfile) as zfile:\n",
        "                zfile.extractall(destination_path)\n",
        "            else:\n",
        "              with tarfile.open(tfile.name) as tarfile:\n",
        "                tarfile.extractall(destination_path)\n",
        "            print(f'\\nDownloaded and uncompressed: {directory}')\n",
        "    except HTTPError as e:\n",
        "        print(f'Failed to load (likely expired) {download_url} to path {destination_path}')\n",
        "        continue\n",
        "    except OSError as e:\n",
        "        print(f'Failed to load {download_url} to path {destination_path}')\n",
        "        continue\n",
        "\n",
        "print('Data source import complete.')\n"
      ],
      "metadata": {
        "id": "hcbBm3bd-eP6"
      },
      "cell_type": "code",
      "outputs": [],
      "execution_count": null
    },
    {
      "cell_type": "markdown",
      "source": [
        "#### Kheirallah Samaha\n",
        "\n",
        "#### 07-Dec-2022\n",
        "\n",
        "### About the Dataset (according to the dataset's publisher in kaggle):\n",
        "\n",
        "#### Context:\n",
        "\n",
        "Cardiovascular diseases (CVDs) are the number 1 cause of death globally, taking an estimated 17.9 million lives each year, which accounts for 31% of all deaths worldwide. Four out of 5CVD deaths are due to heart attacks and strokes, and one-third of these deaths occur prematurely in people under 70 years of age. Heart failure is a common event caused by CVDs and this dataset contains 11 features that can be used to predict a possible heart disease.\n",
        "\n",
        "People with cardiovascular disease or who are at high cardiovascular risk (due to the presence of one or more risk factors such as hypertension, diabetes, hyperlipidaemia or already established disease) need early detection and management wherein a machine learning model can be of great help.\n",
        "\n",
        "#### Attribute Information:\n",
        "\n",
        "Age: age of the patient [years]\n",
        "\n",
        "Sex: sex of the patient [M: Male, F: Female]\n",
        "\n",
        "ChestPainType: chest pain type [TA: Typical Angina, ATA: Atypical Angina, NAP: Non-Anginal Pain, ASY: Asymptomatic]\n",
        "\n",
        "RestingBP: resting blood pressure [mm Hg]\n",
        "\n",
        "Cholesterol: serum cholesterol [mm/dl]\n",
        "\n",
        "FastingBS: fasting blood sugar [1: if FastingBS > 120 mg/dl, 0: otherwise]\n",
        "\n",
        "RestingECG: resting electrocardiogram results [Normal: Normal, ST: having ST-T wave abnormality (T wave inversions and/or ST elevation or depression of > 0.05 mV), LVH: showing probable or definite left ventricular hypertrophy by Estes' criteria]\n",
        "\n",
        "MaxHR: maximum heart rate achieved [Numeric value between 60 and 202]\n",
        "\n",
        "ExerciseAngina: exercise-induced angina [Y: Yes, N: No]\n",
        "\n",
        "Oldpeak: oldpeak = ST [Numeric value measured in depression]\n",
        "\n",
        "ST_Slope: the slope of the peak exercise ST segment [Up: upsloping, Flat: flat, Down: downsloping]\n",
        "\n",
        "HeartDisease: output class [1: heart disease, 0: Normal]\n"
      ],
      "metadata": {
        "_uuid": "8f2839f25d086af736a60e9eeb907d3b93b6e0e5",
        "_cell_guid": "b1076dfc-b9ad-4769-8c92-a6c4dae69d19",
        "execution": {
          "iopub.status.busy": "2022-12-07T06:44:08.001551Z",
          "iopub.execute_input": "2022-12-07T06:44:08.002056Z",
          "iopub.status.idle": "2022-12-07T06:44:08.046157Z",
          "shell.execute_reply.started": "2022-12-07T06:44:08.001958Z",
          "shell.execute_reply": "2022-12-07T06:44:08.044194Z"
        },
        "id": "wGfj6y6m-eP8"
      }
    },
    {
      "cell_type": "markdown",
      "source": [
        "## Load Packages"
      ],
      "metadata": {
        "id": "YYW4ji_z-eP-"
      }
    },
    {
      "cell_type": "code",
      "source": [
        "\n",
        "import pandas as pd\n",
        "import numpy as np\n",
        "import matplotlib.pyplot as plt\n",
        "import seaborn as sns\n",
        "\n",
        "plt.style.use(\"fivethirtyeight\")"
      ],
      "metadata": {
        "execution": {
          "iopub.status.busy": "2023-01-12T04:33:54.432681Z",
          "iopub.execute_input": "2023-01-12T04:33:54.433495Z",
          "iopub.status.idle": "2023-01-12T04:33:55.686068Z",
          "shell.execute_reply.started": "2023-01-12T04:33:54.433386Z",
          "shell.execute_reply": "2023-01-12T04:33:55.684796Z"
        },
        "trusted": true,
        "id": "b3NIYcTs-eP_"
      },
      "execution_count": null,
      "outputs": []
    },
    {
      "cell_type": "markdown",
      "source": [
        "Check pandas version¶"
      ],
      "metadata": {
        "id": "Xcn-U_70-eP_"
      }
    },
    {
      "cell_type": "code",
      "source": [
        "pd.__version__"
      ],
      "metadata": {
        "execution": {
          "iopub.status.busy": "2023-01-12T04:33:55.688493Z",
          "iopub.execute_input": "2023-01-12T04:33:55.689576Z",
          "iopub.status.idle": "2023-01-12T04:33:55.7005Z",
          "shell.execute_reply.started": "2023-01-12T04:33:55.68953Z",
          "shell.execute_reply": "2023-01-12T04:33:55.698995Z"
        },
        "trusted": true,
        "id": "wnkY04aU-eQA"
      },
      "execution_count": null,
      "outputs": []
    },
    {
      "cell_type": "markdown",
      "source": [
        "## Import Data"
      ],
      "metadata": {
        "id": "Ir4aFEF3-eQA"
      }
    },
    {
      "cell_type": "code",
      "source": [
        "heart_dft = pd.read_csv(\"/kaggle/input/heart-failure-prediction/heart.csv\")\n",
        "heart_dft.head(), heart_dft.shape"
      ],
      "metadata": {
        "execution": {
          "iopub.status.busy": "2023-01-12T04:33:55.702421Z",
          "iopub.execute_input": "2023-01-12T04:33:55.70293Z",
          "iopub.status.idle": "2023-01-12T04:33:55.745816Z",
          "shell.execute_reply.started": "2023-01-12T04:33:55.702864Z",
          "shell.execute_reply": "2023-01-12T04:33:55.744548Z"
        },
        "trusted": true,
        "id": "zTo8CsPj-eQB"
      },
      "execution_count": null,
      "outputs": []
    },
    {
      "cell_type": "markdown",
      "source": [
        "Observations:\n",
        "\n",
        "* We have a dataset with 12 variables and 918 rows\n",
        "* We have different data types"
      ],
      "metadata": {
        "id": "7qfU3Cbv-eQB"
      }
    },
    {
      "cell_type": "markdown",
      "source": [
        "## Get the dataset's informatio"
      ],
      "metadata": {
        "id": "qugvEVCb-eQD"
      }
    },
    {
      "cell_type": "code",
      "source": [
        "heart_dft.info()"
      ],
      "metadata": {
        "execution": {
          "iopub.status.busy": "2023-01-12T04:33:55.749114Z",
          "iopub.execute_input": "2023-01-12T04:33:55.750158Z",
          "iopub.status.idle": "2023-01-12T04:33:55.779058Z",
          "shell.execute_reply.started": "2023-01-12T04:33:55.750117Z",
          "shell.execute_reply": "2023-01-12T04:33:55.777697Z"
        },
        "trusted": true,
        "id": "d4dOw-F4-eQE"
      },
      "execution_count": null,
      "outputs": []
    },
    {
      "cell_type": "markdown",
      "source": [
        "Observations:\n",
        "\n",
        "* Seven(7) numeric variables and five(5) variables type object\n",
        "* No missing data in this Dataset\n",
        "* Variables names in Pascal Case, I will keep it like that.\n",
        "* will convert object variables to category data type"
      ],
      "metadata": {
        "id": "h7gR_lwC-eQE"
      }
    },
    {
      "cell_type": "markdown",
      "source": [
        "### Convert object vars and \"FastingBS\" var to Categorical data type"
      ],
      "metadata": {
        "id": "vjsWuIVD-eQE"
      }
    },
    {
      "cell_type": "code",
      "source": [
        "heart_dft[\n",
        "    [\n",
        "        \"ChestPainType\",\n",
        "        \"Sex\",\n",
        "        \"FastingBS\",\n",
        "        \"RestingECG\",\n",
        "        \"ExerciseAngina\",\n",
        "        \"ST_Slope\",\n",
        "        \"HeartDisease\",\n",
        "    ]\n",
        "] = heart_dft[\n",
        "    [\n",
        "        \"ChestPainType\",\n",
        "        \"Sex\",\n",
        "        \"FastingBS\",\n",
        "        \"RestingECG\",\n",
        "        \"ExerciseAngina\",\n",
        "        \"ST_Slope\",\n",
        "        \"HeartDisease\",\n",
        "    ]\n",
        "].astype(\n",
        "    \"category\"\n",
        ")"
      ],
      "metadata": {
        "_kg_hide-input": false,
        "execution": {
          "iopub.status.busy": "2023-01-12T04:33:55.78095Z",
          "iopub.execute_input": "2023-01-12T04:33:55.781415Z",
          "iopub.status.idle": "2023-01-12T04:33:55.800261Z",
          "shell.execute_reply.started": "2023-01-12T04:33:55.78137Z",
          "shell.execute_reply": "2023-01-12T04:33:55.798992Z"
        },
        "trusted": true,
        "id": "X7V1xrqT-eQF"
      },
      "execution_count": null,
      "outputs": []
    },
    {
      "cell_type": "markdown",
      "source": [
        "### Replace \"M\" with Male and \"F\" with Female and HeartDisease to Yes and No."
      ],
      "metadata": {
        "id": "_7365A9d-eQG"
      }
    },
    {
      "cell_type": "code",
      "source": [
        "heart_dft[\"Sex\"] = heart_dft[\"Sex\"].map({\"M\": \"Male\", \"F\": \"Female\"})\n",
        "heart_dft[\"Sex\"]\n",
        "heart_dft[\"HeartDisease\"] = heart_dft[\"HeartDisease\"].map({0: \"No\", 1: \"Yes\"})\n",
        "heart_dft.info()"
      ],
      "metadata": {
        "_kg_hide-input": false,
        "execution": {
          "iopub.status.busy": "2023-01-12T04:33:55.801834Z",
          "iopub.execute_input": "2023-01-12T04:33:55.802233Z",
          "iopub.status.idle": "2023-01-12T04:33:55.829427Z",
          "shell.execute_reply.started": "2023-01-12T04:33:55.802198Z",
          "shell.execute_reply": "2023-01-12T04:33:55.828164Z"
        },
        "trusted": true,
        "id": "D8lGuitE-eQG"
      },
      "execution_count": null,
      "outputs": []
    },
    {
      "cell_type": "markdown",
      "source": [
        "lets use describe() for summary statistics!"
      ],
      "metadata": {
        "id": "HE--ut17-eQG"
      }
    },
    {
      "cell_type": "code",
      "source": [
        "heart_dft.describe().round()"
      ],
      "metadata": {
        "execution": {
          "iopub.status.busy": "2023-01-12T04:33:55.832107Z",
          "iopub.execute_input": "2023-01-12T04:33:55.832645Z",
          "iopub.status.idle": "2023-01-12T04:33:55.885663Z",
          "shell.execute_reply.started": "2023-01-12T04:33:55.832592Z",
          "shell.execute_reply": "2023-01-12T04:33:55.884286Z"
        },
        "trusted": true,
        "id": "O7snZ1Ck-eQG"
      },
      "execution_count": null,
      "outputs": []
    },
    {
      "cell_type": "markdown",
      "source": [
        "### Counts of each Calegorical Vars (\"ChestPainType\", \"Sex\", \"RestingECG\", \"ExerciseAngina\", \"ST_Slope\")"
      ],
      "metadata": {
        "id": "8uSfr2f7-eQI"
      }
    },
    {
      "cell_type": "markdown",
      "source": [
        "#### Sex Var"
      ],
      "metadata": {
        "id": "lUO6X9_t-eQI"
      }
    },
    {
      "cell_type": "code",
      "source": [
        "sex_counts = heart_dft[\"Sex\"].value_counts(normalize=True).round(2) * 100\n",
        "sex_counts = sex_counts.reset_index().rename(columns={\"Sex\": \"Pct\", \"index\": \"Sex\"})\n",
        "sex_counts"
      ],
      "metadata": {
        "execution": {
          "iopub.status.busy": "2023-01-12T04:33:55.887223Z",
          "iopub.execute_input": "2023-01-12T04:33:55.887697Z",
          "iopub.status.idle": "2023-01-12T04:33:55.909135Z",
          "shell.execute_reply.started": "2023-01-12T04:33:55.887654Z",
          "shell.execute_reply": "2023-01-12T04:33:55.907427Z"
        },
        "trusted": true,
        "id": "KL8egRmW-eQI"
      },
      "execution_count": null,
      "outputs": []
    },
    {
      "cell_type": "code",
      "source": [
        "plt.figure(figsize=(7, 5))\n",
        "sns.set_context(\"paper\")\n",
        "\n",
        "sex_color = dict({\"Male\": \"#2986cc\", \"Female\": \"#c90076\"})\n",
        "\n",
        "ax1 = sns.barplot(\n",
        "    data=sex_counts,\n",
        "    x=\"Sex\",\n",
        "    #errorbar=None,\n",
        "    y=\"Pct\",\n",
        "    palette=sex_color,\n",
        "    linewidth=0.5,\n",
        "    edgecolor=\"black\",\n",
        "    alpha=0.7,\n",
        ")\n",
        "\n",
        "values1 = ax1.containers[0].datavalues\n",
        "labels = [\"{:g}%\".format(val) for val in values1]\n",
        "ax1.bar_label(ax1.containers[0], labels=labels)\n",
        "\n",
        "ax1.set_ylabel(\"Percent\")\n",
        "ax1.set_xlabel(\"\")\n",
        "ax1.set_title(\n",
        "    \"Almost 80% percent of the gender category are Males, ~21% Females\", fontsize=10\n",
        ")\n",
        "\n",
        "\n",
        "plt.show()"
      ],
      "metadata": {
        "execution": {
          "iopub.status.busy": "2023-01-12T04:33:55.910753Z",
          "iopub.execute_input": "2023-01-12T04:33:55.911297Z",
          "iopub.status.idle": "2023-01-12T04:33:56.165793Z",
          "shell.execute_reply.started": "2023-01-12T04:33:55.91125Z",
          "shell.execute_reply": "2023-01-12T04:33:56.164377Z"
        },
        "trusted": true,
        "id": "miflxwja-eQI"
      },
      "execution_count": null,
      "outputs": []
    },
    {
      "cell_type": "markdown",
      "source": [
        "Observations:\n",
        "\n",
        "* Imbalanced data in terms of the Sex variable"
      ],
      "metadata": {
        "id": "tQeLk2tV-eQJ"
      }
    },
    {
      "cell_type": "markdown",
      "source": [
        "#### ChestPainType Vs Sex"
      ],
      "metadata": {
        "id": "9lMSSeZN-eQJ"
      }
    },
    {
      "cell_type": "code",
      "source": [
        "ChestPainType_vs_Sex = (\n",
        "    heart_dft[[\"ChestPainType\", \"Sex\"]]\n",
        "    .value_counts(normalize=True)\n",
        "    .reset_index(name=\"Pct\")\n",
        "    .sort_values(by=\"ChestPainType\")\n",
        ")\n",
        "ChestPainType_vs_Sex[\"Pct\"] = ChestPainType_vs_Sex[\"Pct\"].round(2) * 100\n",
        "ChestPainType_vs_Sex"
      ],
      "metadata": {
        "execution": {
          "iopub.status.busy": "2023-01-12T04:33:56.171254Z",
          "iopub.execute_input": "2023-01-12T04:33:56.171771Z",
          "iopub.status.idle": "2023-01-12T04:33:56.196127Z",
          "shell.execute_reply.started": "2023-01-12T04:33:56.171729Z",
          "shell.execute_reply": "2023-01-12T04:33:56.194957Z"
        },
        "trusted": true,
        "id": "2_mBT7LC-eQJ"
      },
      "execution_count": null,
      "outputs": []
    },
    {
      "cell_type": "markdown",
      "source": [
        "### RestingECG"
      ],
      "metadata": {
        "id": "G4qE55qH-eQJ"
      }
    },
    {
      "cell_type": "code",
      "source": [
        "RestingECG_vs_Sex = (\n",
        "    heart_dft[[\"RestingECG\", \"Sex\"]]\n",
        "    .value_counts(normalize=True)\n",
        "    .reset_index(name=\"Pct\")\n",
        "    .sort_values(by=\"RestingECG\")\n",
        ")\n",
        "RestingECG_vs_Sex[\"Pct\"] = RestingECG_vs_Sex[\"Pct\"].round(2) * 100\n",
        "RestingECG_vs_Sex.sort_values(by=\"Pct\", ascending=False)"
      ],
      "metadata": {
        "execution": {
          "iopub.status.busy": "2023-01-12T04:33:56.197451Z",
          "iopub.execute_input": "2023-01-12T04:33:56.197813Z",
          "iopub.status.idle": "2023-01-12T04:33:56.228516Z",
          "shell.execute_reply.started": "2023-01-12T04:33:56.197779Z",
          "shell.execute_reply": "2023-01-12T04:33:56.227268Z"
        },
        "trusted": true,
        "id": "JMTC40le-eQJ"
      },
      "execution_count": null,
      "outputs": []
    },
    {
      "cell_type": "code",
      "source": [
        "fig, ax = plt.subplots(1, 2, figsize=(12, 5), sharey=True)\n",
        "\n",
        "palette4 = {\"ASY\": \"#1b85b8\", \"ATA\": \"#5a5255\", \"NAP\": \"#559e83\", \"TA\": \"#ae5a41\"}\n",
        "\n",
        "palette5 = {\"LVH\": \"#2dc937\", \"Normal\": \"#e7b416\", \"ST\": \"#cc3232\"}\n",
        "\n",
        "sns.barplot(\n",
        "    data=ChestPainType_vs_Sex,\n",
        "    x=\"Sex\",\n",
        "    hue=\"ChestPainType\",\n",
        "    #errorbar=None,\n",
        "    y=\"Pct\",\n",
        "    palette=palette4,\n",
        "    linewidth=0.5,\n",
        "    edgecolor=\"black\",\n",
        "    alpha=0.8,\n",
        "    ax=ax[0],\n",
        ")\n",
        "\n",
        "for ax1 in [ax[0]]:\n",
        "    for container in ax1.containers:\n",
        "        values2 = container.datavalues\n",
        "        labels = [\"{:g}%\".format(val) for val in values2]\n",
        "        ax1.bar_label(container, labels=labels)\n",
        "\n",
        "ax[0].set_ylabel(\"Percent\")\n",
        "ax[0].set_xlabel(\"\")\n",
        "ax[0].set_title(\n",
        "    \"Regardless of the proportion of Males and Females,\\n Men have high ASY compared with Women, and the pattern is different.\",\n",
        "    fontsize=10,\n",
        ")\n",
        "\n",
        "\n",
        "sns.barplot(\n",
        "    data=RestingECG_vs_Sex,\n",
        "    x=\"Sex\",\n",
        "    hue=\"RestingECG\",\n",
        "    #errorbar=None,\n",
        "    y=\"Pct\",\n",
        "    palette=palette5,\n",
        "    linewidth=0.5,\n",
        "    edgecolor=\"black\",\n",
        "    alpha=0.8,\n",
        "    ax=ax[1],\n",
        ")\n",
        "\n",
        "for ax2 in [ax[1]]:\n",
        "    for container in ax2.containers:\n",
        "        values3 = container.datavalues\n",
        "        labels = [\"{:g}%\".format(val) for val in values3]\n",
        "        ax2.bar_label(container, labels=labels)\n",
        "\n",
        "ax[1].set_ylabel(\"\")\n",
        "ax[1].set_xlabel(\"\")\n",
        "ax[1].set_title(\"Men and Women have somehow same pattern of RestingECG\", fontsize=10)\n",
        "\n",
        "\n",
        "plt.tight_layout()\n",
        "plt.show()"
      ],
      "metadata": {
        "execution": {
          "iopub.status.busy": "2023-01-12T04:33:56.23066Z",
          "iopub.execute_input": "2023-01-12T04:33:56.235253Z",
          "iopub.status.idle": "2023-01-12T04:33:56.84125Z",
          "shell.execute_reply.started": "2023-01-12T04:33:56.2352Z",
          "shell.execute_reply": "2023-01-12T04:33:56.840055Z"
        },
        "trusted": true,
        "id": "OI6mlyyw-eQK"
      },
      "execution_count": null,
      "outputs": []
    },
    {
      "cell_type": "markdown",
      "source": [
        "Observations:\n",
        "\n",
        "* ChestPainType: chest pain type [TA: Typical Angina, ATA: Atypical Angina, NAP: Non-Anginal Pain, ASY: Asymptomatic]\n",
        "\n",
        "The majority 46% of the Male participants are in ASY category\n",
        "\n",
        "* RestingBP: resting blood pressure taking a rest for min five(5) minutes before blood pressure measurement\n",
        "\n",
        "The majority of the participants are in the Normal category\n",
        "\n",
        "Note: The percentage is calculated using all participants, NOT within each group of Sex"
      ],
      "metadata": {
        "id": "geUQLkrh-eQK"
      }
    },
    {
      "cell_type": "markdown",
      "source": [
        "### ExerciseAngina and ST_Slope"
      ],
      "metadata": {
        "id": "cZ7YnR1z-eQK"
      }
    },
    {
      "cell_type": "code",
      "source": [
        "ExerciseAngina_vs_Sex = (\n",
        "    heart_dft[[\"ExerciseAngina\", \"Sex\"]]\n",
        "    .value_counts(normalize=True)\n",
        "    .reset_index(name=\"Pct\")\n",
        "    .sort_values(by=\"ExerciseAngina\")\n",
        ")\n",
        "ExerciseAngina_vs_Sex[\"Pct\"] = ExerciseAngina_vs_Sex[\"Pct\"].round(2) * 100\n",
        "\n",
        "\n",
        "ST_Slope_vs_Sex = (\n",
        "    heart_dft[[\"ST_Slope\", \"Sex\"]]\n",
        "    .value_counts(normalize=True)\n",
        "    .reset_index(name=\"Pct\")\n",
        "    .sort_values(by=\"ST_Slope\")\n",
        ")\n",
        "ST_Slope_vs_Sex[\"Pct\"] = ST_Slope_vs_Sex[\"Pct\"].round(2) * 100"
      ],
      "metadata": {
        "execution": {
          "iopub.status.busy": "2023-01-12T04:33:56.842565Z",
          "iopub.execute_input": "2023-01-12T04:33:56.843158Z",
          "iopub.status.idle": "2023-01-12T04:33:56.865175Z",
          "shell.execute_reply.started": "2023-01-12T04:33:56.843122Z",
          "shell.execute_reply": "2023-01-12T04:33:56.863379Z"
        },
        "trusted": true,
        "id": "sj4tMVZu-eQM"
      },
      "execution_count": null,
      "outputs": []
    },
    {
      "cell_type": "code",
      "source": [
        "fig, ax = plt.subplots(1, 2, figsize=(12, 5), sharey=True)\n",
        "\n",
        "palette6 = {\n",
        "    \"Y\": \"#000000\",\n",
        "    \"N\": \"#009900\",\n",
        "}\n",
        "\n",
        "palette7 = {\"Down\": \"#b2d8d8\", \"Flat\": \"#66b2b2\", \"Up\": \"#004c4c\"}\n",
        "\n",
        "sns.barplot(\n",
        "    data=ExerciseAngina_vs_Sex,\n",
        "    x=\"Sex\",\n",
        "    hue=\"ExerciseAngina\",\n",
        "    #errorbar=None,\n",
        "    y=\"Pct\",\n",
        "    palette=palette6,\n",
        "    linewidth=0.5,\n",
        "    edgecolor=\"black\",\n",
        "    alpha=0.8,\n",
        "    ax=ax[0],\n",
        ")\n",
        "\n",
        "for ax3 in [ax[0]]:\n",
        "    for container in ax3.containers:\n",
        "        values2 = container.datavalues\n",
        "        labels = [\"{:g}%\".format(val) for val in values2]\n",
        "        ax3.bar_label(container, labels=labels)\n",
        "\n",
        "ax[0].set_ylabel(\"Percent\")\n",
        "ax[0].set_xlabel(\"\")\n",
        "ax[0].set_title(\n",
        "    \"Almost a similar pattern between Men and Women. (ExerciseAngina)\", fontsize=10\n",
        ")\n",
        "\n",
        "\n",
        "sns.barplot(\n",
        "    data=ST_Slope_vs_Sex,\n",
        "    x=\"Sex\",\n",
        "    hue=\"ST_Slope\",\n",
        "    #errorbar=None,\n",
        "    y=\"Pct\",\n",
        "    palette=palette7,\n",
        "    linewidth=0.5,\n",
        "    edgecolor=\"black\",\n",
        "    alpha=0.8,\n",
        "    ax=ax[1],\n",
        ")\n",
        "\n",
        "for ax4 in [ax[1]]:\n",
        "    for container in ax4.containers:\n",
        "        values3 = container.datavalues\n",
        "        labels = [\"{:g}%\".format(val) for val in values3]\n",
        "        ax4.bar_label(container, labels=labels)\n",
        "\n",
        "ax[1].set_ylabel(\"\")\n",
        "ax[1].set_xlabel(\"\")\n",
        "ax[1].set_title(\n",
        "    \"A different pattern between Men and Women (ExerciseAngina)\", fontsize=10\n",
        ")\n",
        "\n",
        "\n",
        "plt.tight_layout()\n",
        "plt.show()"
      ],
      "metadata": {
        "execution": {
          "iopub.status.busy": "2023-01-12T04:33:56.867132Z",
          "iopub.execute_input": "2023-01-12T04:33:56.868495Z",
          "iopub.status.idle": "2023-01-12T04:33:57.315207Z",
          "shell.execute_reply.started": "2023-01-12T04:33:56.868443Z",
          "shell.execute_reply": "2023-01-12T04:33:57.313796Z"
        },
        "trusted": true,
        "id": "TGEdfLCv-eQN"
      },
      "execution_count": null,
      "outputs": []
    },
    {
      "cell_type": "markdown",
      "source": [
        "Note:\n",
        "\n",
        "* ExerciseAngina: exercise-induced angina [Y: Yes, N: No]\n",
        "Angina is a type of chest pain caused by reduced blood flow to the heart\n",
        "\n",
        "* ST_Slope: the slope of the peak exercise ST segment [Up: upsloping, Flat: flat, Down: downsloping]\n",
        "Mainly Flat in (Males) and relatively Up in (Females)"
      ],
      "metadata": {
        "id": "sJq7LqMY-eQN"
      }
    },
    {
      "cell_type": "markdown",
      "source": [
        "### Numeric Vars (\"Age\", \"Cholesterol\", \"MaxHR\", \"Oldpeak\")"
      ],
      "metadata": {
        "id": "BaqYB4ar-eQN"
      }
    },
    {
      "cell_type": "code",
      "source": [
        "filtheart_dft = heart_dft[\"Cholesterol\"] > 0\n",
        "heart_dft_chol_n0 = heart_dft[filtheart_dft]\n",
        "\n",
        "sns.JointGrid(\n",
        "    data=heart_dft, x=\"Age\", y=\"Cholesterol\", hue=\"Sex\", palette=sex_color\n",
        ").plot(sns.scatterplot, sns.histplot)\n",
        "plt.show()"
      ],
      "metadata": {
        "execution": {
          "iopub.status.busy": "2023-01-12T04:33:57.317137Z",
          "iopub.execute_input": "2023-01-12T04:33:57.317641Z",
          "iopub.status.idle": "2023-01-12T04:33:58.18393Z",
          "shell.execute_reply.started": "2023-01-12T04:33:57.317596Z",
          "shell.execute_reply": "2023-01-12T04:33:58.182615Z"
        },
        "trusted": true,
        "id": "eKA4jFoT-eQN"
      },
      "execution_count": null,
      "outputs": []
    },
    {
      "cell_type": "markdown",
      "source": [
        "Observations:\n",
        "\n",
        "* It is somehow the same pattern for Male and Female relative to their counts!\n",
        "* We have many of 0 values in the Cholesterol var!!"
      ],
      "metadata": {
        "id": "x_ONgj7t-eQO"
      }
    },
    {
      "cell_type": "markdown",
      "source": [
        "* Let's use lmplot to see the regression line of each group.\n",
        "* I think we have to remove the 0 values in the Cholesterol var and check again!"
      ],
      "metadata": {
        "id": "ecr6om-8-eQO"
      }
    },
    {
      "cell_type": "code",
      "source": [
        "sns.lmplot(\n",
        "    data=heart_dft_chol_n0,\n",
        "    x=\"Age\",\n",
        "    y=\"Cholesterol\",\n",
        "    hue=\"Sex\",\n",
        "    palette=sex_color,\n",
        ").set(ylabel=\"Cholesterol\", xlabel=\"Age\", title=\"\")\n",
        "plt.show()"
      ],
      "metadata": {
        "execution": {
          "iopub.status.busy": "2023-01-12T04:33:58.185273Z",
          "iopub.execute_input": "2023-01-12T04:33:58.186454Z",
          "iopub.status.idle": "2023-01-12T04:33:58.896839Z",
          "shell.execute_reply.started": "2023-01-12T04:33:58.186416Z",
          "shell.execute_reply": "2023-01-12T04:33:58.895659Z"
        },
        "trusted": true,
        "id": "3NR4Zm69-eQO"
      },
      "execution_count": null,
      "outputs": []
    },
    {
      "cell_type": "markdown",
      "source": [
        "* We may need to do some t-test to check whether the true means difference is equal to 0 or Not. we can scipy package to do that, but for now, let's move on..."
      ],
      "metadata": {
        "id": "QbxhkCaj-eQO"
      }
    },
    {
      "cell_type": "markdown",
      "source": [
        "### Find the mean Cholesterol by Sex"
      ],
      "metadata": {
        "id": "OgD2cmHI-eQO"
      }
    },
    {
      "cell_type": "code",
      "source": [
        "Chol_mean_f = (\n",
        "    heart_dft_chol_n0[[\"Sex\", \"Cholesterol\"]]\n",
        "    .groupby([\"Sex\"])\n",
        "    .mean(\"Cholesterol\")\n",
        "    .loc[\"Female\", \"Cholesterol\"]\n",
        ").round()\n",
        "Chol_mean_m = (\n",
        "    heart_dft_chol_n0[[\"Sex\", \"Cholesterol\"]]\n",
        "    .groupby([\"Sex\"])\n",
        "    .mean(\"Cholesterol\")\n",
        "    .loc[\"Male\", \"Cholesterol\"]\n",
        ").round()\n",
        "\n",
        "print(\"for Female =\", Chol_mean_f, \"for Male =\", Chol_mean_m)"
      ],
      "metadata": {
        "execution": {
          "iopub.status.busy": "2023-01-12T04:33:58.898711Z",
          "iopub.execute_input": "2023-01-12T04:33:58.899488Z",
          "iopub.status.idle": "2023-01-12T04:33:58.918656Z",
          "shell.execute_reply.started": "2023-01-12T04:33:58.899441Z",
          "shell.execute_reply": "2023-01-12T04:33:58.917094Z"
        },
        "trusted": true,
        "id": "3mCyWCN_-eQP"
      },
      "execution_count": null,
      "outputs": []
    },
    {
      "cell_type": "markdown",
      "source": [
        "* Somehow Same mean\n",
        "\n",
        "let's try to plot the result!"
      ],
      "metadata": {
        "id": "yrzdXXwY-eQP"
      }
    },
    {
      "cell_type": "markdown",
      "source": [
        "### Cholesterol var, density distribution, Male VS Female"
      ],
      "metadata": {
        "id": "XctDAwhe-eQP"
      }
    },
    {
      "cell_type": "code",
      "source": [
        "plt.figure(figsize=(10, 5))\n",
        "sns.set_context(\"paper\")\n",
        "\n",
        "kdeplt = sns.kdeplot(\n",
        "    data=heart_dft_chol_n0,\n",
        "    x=\"Cholesterol\",\n",
        "    hue=\"Sex\",\n",
        "    palette=sex_color,\n",
        "    alpha=0.7,\n",
        "    lw=2,\n",
        ")\n",
        "kdeplt.set_title(\"Cholesterol values distribution\\n Male VS Female\", fontsize=12)\n",
        "kdeplt.set_xlabel(\"Cholesterol\", fontsize=12)\n",
        "\n",
        "\n",
        "plt.axvline(x=Chol_mean_f, color=\"#c90076\", ls=\"--\", lw=1.3)\n",
        "plt.axvline(x=Chol_mean_m, color=\"#2986cc\", ls=\"--\", lw=1.3)\n",
        "plt.text(108, 0.00612, \"Mean Cholesterol / Male\", fontsize=10, color=\"#2986cc\")\n",
        "plt.text(260, 0.006, \"Mean Cholesterol / Female\", fontsize=10, color=\"#c90076\")\n",
        "\n",
        "\n",
        "plt.show()"
      ],
      "metadata": {
        "execution": {
          "iopub.status.busy": "2023-01-12T04:33:58.920965Z",
          "iopub.execute_input": "2023-01-12T04:33:58.921633Z",
          "iopub.status.idle": "2023-01-12T04:33:59.211793Z",
          "shell.execute_reply.started": "2023-01-12T04:33:58.921595Z",
          "shell.execute_reply": "2023-01-12T04:33:59.21078Z"
        },
        "trusted": true,
        "id": "hsoQ2iAQ-eQP"
      },
      "execution_count": null,
      "outputs": []
    },
    {
      "cell_type": "markdown",
      "source": [
        "* Indeed, they are similar, regardless of the sample size of females.\n",
        "* Again, to make a sufficient result, we have to do t-test or linear regression."
      ],
      "metadata": {
        "id": "VGspqA9m-eQP"
      }
    },
    {
      "cell_type": "code",
      "source": [
        "heart_dft.info()"
      ],
      "metadata": {
        "execution": {
          "iopub.status.busy": "2023-01-12T04:33:59.212954Z",
          "iopub.execute_input": "2023-01-12T04:33:59.214076Z",
          "iopub.status.idle": "2023-01-12T04:33:59.22971Z",
          "shell.execute_reply.started": "2023-01-12T04:33:59.214039Z",
          "shell.execute_reply": "2023-01-12T04:33:59.228368Z"
        },
        "trusted": true,
        "id": "cfmX-pSN-eQQ"
      },
      "execution_count": null,
      "outputs": []
    },
    {
      "cell_type": "markdown",
      "source": [
        "### Target Variable - HeartDisease"
      ],
      "metadata": {
        "id": "eAK9FLiC-eQQ"
      }
    },
    {
      "cell_type": "markdown",
      "source": [
        "#### Counts"
      ],
      "metadata": {
        "id": "OlJVVLzK-eQQ"
      }
    },
    {
      "cell_type": "code",
      "source": [
        "HeartDisease_counts = (\n",
        "    heart_dft[[\"HeartDisease\"]]\n",
        "    .value_counts(normalize=True)\n",
        "    .reset_index(name=\"Pct\")\n",
        "    .sort_values(by=\"HeartDisease\")\n",
        ")\n",
        "HeartDisease_counts[\"Pct\"] = HeartDisease_counts[\"Pct\"].round(2) * 100\n",
        "HeartDisease_counts"
      ],
      "metadata": {
        "execution": {
          "iopub.status.busy": "2023-01-12T04:33:59.231346Z",
          "iopub.execute_input": "2023-01-12T04:33:59.232125Z",
          "iopub.status.idle": "2023-01-12T04:33:59.24986Z",
          "shell.execute_reply.started": "2023-01-12T04:33:59.232088Z",
          "shell.execute_reply": "2023-01-12T04:33:59.248609Z"
        },
        "trusted": true,
        "id": "wkXwCS3a-eQQ"
      },
      "execution_count": null,
      "outputs": []
    },
    {
      "cell_type": "markdown",
      "source": [
        "* Somehow balanced"
      ],
      "metadata": {
        "id": "h_RIZwxY-eQR"
      }
    },
    {
      "cell_type": "code",
      "source": [
        "HeartDisease_colors = {\"Yes\": \"#d62d20\", \"No\": \"#008744\"}\n",
        "hplt = sns.barplot(\n",
        "    data=HeartDisease_counts,\n",
        "    x=\"Pct\",\n",
        "    #errorbar=None,\n",
        "    y=\"HeartDisease\",\n",
        "    palette=HeartDisease_colors,\n",
        "    linewidth=0.5,\n",
        "    edgecolor=\"black\",\n",
        "    alpha=0.7,\n",
        ")\n",
        "\n",
        "hplt.set_ylabel(\"HeartDisease\", rotation=45)\n",
        "hplt.set_xlabel(\"Percent\")\n",
        "hplt.set_title(\"Acceptably balanced target variable \", fontsize=10)\n",
        "plt.show()"
      ],
      "metadata": {
        "execution": {
          "iopub.status.busy": "2023-01-12T04:33:59.251511Z",
          "iopub.execute_input": "2023-01-12T04:33:59.251914Z",
          "iopub.status.idle": "2023-01-12T04:33:59.420833Z",
          "shell.execute_reply.started": "2023-01-12T04:33:59.251861Z",
          "shell.execute_reply": "2023-01-12T04:33:59.419972Z"
        },
        "trusted": true,
        "id": "WV0EJadA-eQR"
      },
      "execution_count": null,
      "outputs": []
    },
    {
      "cell_type": "markdown",
      "source": [
        "### Pairplot"
      ],
      "metadata": {
        "id": "acMqiESL-eQR"
      }
    },
    {
      "cell_type": "markdown",
      "source": [
        "#### Removing zeros from Oldpeak and Cholesterol vars"
      ],
      "metadata": {
        "id": "zl2L1fF--eQR"
      }
    },
    {
      "cell_type": "code",
      "source": [
        "filtered_for_pairplot = heart_dft.loc[\n",
        "    (heart_dft[\"Oldpeak\"] > 0) & (heart_dft[\"Cholesterol\"] > 0)\n",
        "]"
      ],
      "metadata": {
        "execution": {
          "iopub.status.busy": "2023-01-12T04:33:59.422023Z",
          "iopub.execute_input": "2023-01-12T04:33:59.422999Z",
          "iopub.status.idle": "2023-01-12T04:33:59.430056Z",
          "shell.execute_reply.started": "2023-01-12T04:33:59.42296Z",
          "shell.execute_reply": "2023-01-12T04:33:59.428809Z"
        },
        "trusted": true,
        "id": "Jjf7n1lR-eQS"
      },
      "execution_count": null,
      "outputs": []
    },
    {
      "cell_type": "markdown",
      "source": [
        "#### Creats a sample of 150 to speed up the ploting process"
      ],
      "metadata": {
        "id": "Scj21BXY-eQS"
      }
    },
    {
      "cell_type": "code",
      "source": [
        "pairplot_df = (\n",
        "    filtered_for_pairplot.groupby([\"Sex\"])  # Stratify by \"Sex\"\n",
        "    .apply(lambda x: x.sample(75))  # 75 for each Sex\n",
        "    .reset_index(drop=True)  # int64 index type, back to default!\n",
        ")"
      ],
      "metadata": {
        "execution": {
          "iopub.status.busy": "2023-01-12T04:33:59.431397Z",
          "iopub.execute_input": "2023-01-12T04:33:59.431799Z",
          "iopub.status.idle": "2023-01-12T04:33:59.45155Z",
          "shell.execute_reply.started": "2023-01-12T04:33:59.431766Z",
          "shell.execute_reply": "2023-01-12T04:33:59.449996Z"
        },
        "trusted": true,
        "id": "tIbbm5YQ-eQS"
      },
      "execution_count": null,
      "outputs": []
    },
    {
      "cell_type": "code",
      "source": [
        "sns.pairplot(\n",
        "    pairplot_df,\n",
        "    hue=\"HeartDisease\",\n",
        "    kind=\"scatter\",\n",
        "    diag_kind=\"kde\",\n",
        "    palette=HeartDisease_colors,\n",
        "    height=1.5,\n",
        "    aspect=1,\n",
        "    plot_kws=dict(s=5),\n",
        ")\n",
        "plt.show()"
      ],
      "metadata": {
        "execution": {
          "iopub.status.busy": "2023-01-12T04:33:59.453229Z",
          "iopub.execute_input": "2023-01-12T04:33:59.454217Z",
          "iopub.status.idle": "2023-01-12T04:34:05.451367Z",
          "shell.execute_reply.started": "2023-01-12T04:33:59.454155Z",
          "shell.execute_reply": "2023-01-12T04:34:05.450126Z"
        },
        "trusted": true,
        "id": "DIH1TNpY-eQS"
      },
      "execution_count": null,
      "outputs": []
    },
    {
      "cell_type": "markdown",
      "source": [
        "Observations:\n",
        "\n",
        "* In general, there is no big difference in the diagonal plot, Oldpeak and cholesterol however, have some extreme data points"
      ],
      "metadata": {
        "id": "w3LSzqS2-eQT"
      }
    },
    {
      "cell_type": "code",
      "source": [
        "HeartDisease_by_Sex = (\n",
        "    heart_dft.groupby([\"Sex\"])[\"HeartDisease\"]\n",
        "    .value_counts(normalize=True)\n",
        "    .reset_index(name=\"Pct\")\n",
        ").rename(columns={\"level_1\": \"HeartDisease\"})\n",
        "\n",
        "HeartDisease_by_Sex[\"Pct\"] = HeartDisease_by_Sex[\"Pct\"].round(2) * 100\n",
        "\n",
        "HeartDisease_by_Sex"
      ],
      "metadata": {
        "execution": {
          "iopub.status.busy": "2023-01-12T04:34:05.453199Z",
          "iopub.execute_input": "2023-01-12T04:34:05.453955Z",
          "iopub.status.idle": "2023-01-12T04:34:05.477743Z",
          "shell.execute_reply.started": "2023-01-12T04:34:05.453887Z",
          "shell.execute_reply": "2023-01-12T04:34:05.476495Z"
        },
        "trusted": true,
        "id": "FEF7yQdF-eQT"
      },
      "execution_count": null,
      "outputs": []
    },
    {
      "cell_type": "code",
      "source": [
        "fig, ax = plt.subplots(1, 1, figsize=(12, 5))\n",
        "\n",
        "hplt = sns.barplot(\n",
        "    data=HeartDisease_by_Sex,\n",
        "    x=\"Sex\",\n",
        "    #errorbar=None,\n",
        "    y=\"Pct\",\n",
        "    hue=\"HeartDisease\",\n",
        "    linewidth=0.5,\n",
        "    edgecolor=\"black\",\n",
        "    palette=HeartDisease_colors,\n",
        "    alpha=0.6,\n",
        "    ax=ax,\n",
        ")\n",
        "\n",
        "for axhs in [ax]:\n",
        "    for container in axhs.containers:\n",
        "        values_hs = container.datavalues\n",
        "        labels = [\"{:g}%\".format(val) for val in values_hs]\n",
        "        axhs.bar_label(container, labels=labels)\n",
        "\n",
        "ax.set_ylabel(\"\")\n",
        "ax.set_xlabel(\"\")\n",
        "ax.set_title(\"\", fontsize=10)\n",
        "\n",
        "\n",
        "plt.tight_layout()\n",
        "plt.show()\n",
        "\n",
        "plt.show()"
      ],
      "metadata": {
        "execution": {
          "iopub.status.busy": "2023-01-12T04:34:05.479696Z",
          "iopub.execute_input": "2023-01-12T04:34:05.480407Z",
          "iopub.status.idle": "2023-01-12T04:34:05.74393Z",
          "shell.execute_reply.started": "2023-01-12T04:34:05.480369Z",
          "shell.execute_reply": "2023-01-12T04:34:05.743076Z"
        },
        "trusted": true,
        "id": "z59bxn-h-eQT"
      },
      "execution_count": null,
      "outputs": []
    },
    {
      "cell_type": "markdown",
      "source": [
        "Note:\n",
        "\n",
        "* According to this dataset, 26% of females have developed Heart Disease, and 74% Have not. and\n",
        "\n",
        "* 63% of Males have developed Heart Disease, and 37% have not."
      ],
      "metadata": {
        "id": "aZXGpe82-eQT"
      }
    },
    {
      "cell_type": "markdown",
      "source": [
        "#### Lets check the maximum heart rate by age and Sex using FacetGrid"
      ],
      "metadata": {
        "id": "5fYP3K8W-eQT"
      }
    },
    {
      "cell_type": "code",
      "source": [
        "heart_df_fg = sns.FacetGrid(\n",
        "    data=heart_dft_chol_n0,\n",
        "    col=\"Sex\",\n",
        "    hue=\"Sex\",\n",
        "    row=\"HeartDisease\",\n",
        "    height=4,\n",
        "    aspect=1.3,\n",
        "    palette=sex_color,\n",
        "    col_order=[\"Male\", \"Female\"],\n",
        ")\n",
        "heart_df_fg.map_dataframe(sns.regplot, \"Age\", \"MaxHR\")\n",
        "plt.show()"
      ],
      "metadata": {
        "execution": {
          "iopub.status.busy": "2023-01-12T04:34:05.745153Z",
          "iopub.execute_input": "2023-01-12T04:34:05.746007Z",
          "iopub.status.idle": "2023-01-12T04:34:06.94047Z",
          "shell.execute_reply.started": "2023-01-12T04:34:05.745969Z",
          "shell.execute_reply": "2023-01-12T04:34:06.939312Z"
        },
        "trusted": true,
        "id": "HYWnkC_p-eQU"
      },
      "execution_count": null,
      "outputs": []
    },
    {
      "cell_type": "markdown",
      "source": [
        "Note:\n",
        "\n",
        "* We can see that the correlation between Age and MaxHR in Males is negative in both heart disease categories\n",
        "\n",
        "* Females have got positive correlation between Age and MaxHR in the heart disease category Yes, and a negative correlation in the heart disease category \"No\"\n",
        "\n",
        "* It is worth noting that the range of Age range of females in category Yes is from ~ 30 to ~65, and it is from ~30 to ~ 75 in category No\n",
        "\n",
        "* The range Age of Males in the category Yes is from ~ 30 to ~70, however it is from ~30 to ~ 77 in the category No"
      ],
      "metadata": {
        "id": "zgXv3Pdl-eQU"
      }
    },
    {
      "cell_type": "markdown",
      "source": [
        "#### Lets find the mean of Age, Cholesterol, MaxHR and RestingBP, by sex and HeartDisease vars!"
      ],
      "metadata": {
        "id": "1C5ENvKk-eQU"
      }
    },
    {
      "cell_type": "code",
      "source": [
        "heart_dft_chol_n0.groupby([\"Sex\", \"HeartDisease\"]).agg(\n",
        "    Age_mean=pd.NamedAgg(\"Age\", \"mean\"),\n",
        "    Cholesterol_mean=pd.NamedAgg(\"Cholesterol\", \"mean\"),\n",
        "    MaxHR_mean=pd.NamedAgg(\"MaxHR\", \"mean\"),\n",
        "    RestingBP_mean=pd.NamedAgg(\"RestingBP\", \"mean\"),\n",
        ").reset_index().round(2)"
      ],
      "metadata": {
        "execution": {
          "iopub.status.busy": "2023-01-12T04:34:06.945523Z",
          "iopub.execute_input": "2023-01-12T04:34:06.945967Z",
          "iopub.status.idle": "2023-01-12T04:34:06.994141Z",
          "shell.execute_reply.started": "2023-01-12T04:34:06.945922Z",
          "shell.execute_reply": "2023-01-12T04:34:06.992839Z"
        },
        "trusted": true,
        "id": "1gWI25Ed-eQU"
      },
      "execution_count": null,
      "outputs": []
    },
    {
      "cell_type": "markdown",
      "source": [
        "Observations:\n",
        "\n",
        "Females:\n",
        "\n",
        "* The Cholesterol_mean value in females who developed heart disease is higher (279) than in those who did not (249)\n",
        "\n",
        "* The RestingBP_mean value in females who developed heart disease is also higher (143) than in those who did not (128.7)\n",
        "\n",
        "* MaxHR_mean in females who did develop heart disease is LOWER (139) than in those who did not (149)\n",
        "\n",
        "Males:\n",
        "\n",
        "* The Cholesterol_mean value in Males who developed heart disease is higher (247) than in those who did not (232)\n",
        "\n",
        "* The RestingBP_mean value in Males who developed heart disease is slightly higher (135) than in those who did not (130.9)\n",
        "\n",
        "* MaxHR_mean in Males who did develop heart disease is LOWER (129) than in those who did not (148.9)"
      ],
      "metadata": {
        "id": "6xLzdkiX-eQU"
      }
    },
    {
      "cell_type": "markdown",
      "source": [
        "Thank you for reading, and your comments are greatly appreciated."
      ],
      "metadata": {
        "id": "gBIJ-A5F-eQV"
      }
    }
  ]
}