{
  "nbformat": 4,
  "nbformat_minor": 0,
  "metadata": {
    "colab": {
      "provenance": [],
      "include_colab_link": true
    },
    "kernelspec": {
      "name": "python3",
      "display_name": "Python 3"
    },
    "language_info": {
      "name": "python"
    }
  },
  "cells": [
    {
      "cell_type": "markdown",
      "metadata": {
        "id": "view-in-github",
        "colab_type": "text"
      },
      "source": [
        "<a href=\"https://colab.research.google.com/github/docdecoder/javainfant/blob/master/Copy_of_DHAI_B7_M3_AST_01_Basic_Probability_A.ipynb\" target=\"_parent\"><img src=\"https://colab.research.google.com/assets/colab-badge.svg\" alt=\"Open In Colab\"/></a>"
      ]
    },
    {
      "cell_type": "markdown",
      "metadata": {
        "id": "timuV6PR5zOW"
      },
      "source": [
        "# Digital Health and Imaging\n",
        "## A program by IISc and TalentSprint\n",
        "### Assignment 1: Probability basics"
      ]
    },
    {
      "cell_type": "markdown",
      "metadata": {
        "id": "Gxx6U-UOap7k"
      },
      "source": [
        "## Learning Objectives"
      ]
    },
    {
      "cell_type": "markdown",
      "metadata": {
        "id": "xxBNbT2kbDJq"
      },
      "source": [
        "   \n",
        "  At the end of the experiment, you will be able to understand about:\n",
        "  * Conditional probability and chain rule\n",
        "  * Bayes theorem\n",
        "  * Maximum Likelihood Estimation\n",
        "  * Prior and Posterior Distribution\n"
      ]
    },
    {
      "cell_type": "markdown",
      "source": [
        "## Assignment walkthrough video(Introduction to notebook)\n",
        "\n",
        "[Please click here](https://cdn.exec.talentsprint.com/content/DHAI_B5_M3_AST_01_Basic_Probability_C_ipynb_Colaboratory_and_1_more_page_Personal_Microsoft_Edge_2022_12_11_17_14_23.mp4)"
      ],
      "metadata": {
        "id": "KMV-x490tgVU"
      }
    },
    {
      "cell_type": "markdown",
      "metadata": {
        "id": "BNLA8HiKxQhc"
      },
      "source": [
        "### Setup Steps:"
      ]
    },
    {
      "cell_type": "code",
      "metadata": {
        "id": "2YzfoPvJDiTX"
      },
      "source": [
        "#@title Please enter your registration id to start: { run: \"auto\", display-mode: \"form\" }\n",
        "Id = \"\" #@param {type:\"string\"}"
      ],
      "execution_count": null,
      "outputs": []
    },
    {
      "cell_type": "code",
      "metadata": {
        "id": "AjoZJWGErxGf"
      },
      "source": [
        "#@title Please enter your password (your registered phone number) to continue: { run: \"auto\", display-mode: \"form\" }\n",
        "password = \"\" #@param {type:\"string\"}"
      ],
      "execution_count": null,
      "outputs": []
    },
    {
      "cell_type": "code",
      "metadata": {
        "id": "WBPPuGmBlDIN",
        "colab": {
          "base_uri": "https://localhost:8080/"
        },
        "outputId": "74d5eb1f-1187-4176-fdc1-232eef89f609",
        "cellView": "form"
      },
      "source": [
        "#@title Run this cell to complete the setup for this Notebook\n",
        "from IPython import get_ipython\n",
        "\n",
        "ipython = get_ipython()\n",
        "\n",
        "notebook= \"DHAI_B7_M3_AST_01_Basic_Probability_A\" #name of the notebook\n",
        "\n",
        "def setup():\n",
        "#  ipython.magic(\"sx pip3 install torch\")\n",
        "    from IPython.display import HTML, display\n",
        "    display(HTML('<script src=\"https://dashboard.talentsprint.com/aiml/record_ip.html?traineeId={0}&recordId={1}\"></script>'.format(getId(),submission_id)))\n",
        "    print(\"Setup completed successfully\")\n",
        "    return\n",
        "\n",
        "def submit_notebook():\n",
        "    ipython.magic(\"notebook -e \"+ notebook + \".ipynb\")\n",
        "\n",
        "    import requests, json, base64, datetime\n",
        "\n",
        "    url = \"https://dashboard.talentsprint.com/xp/app/save_notebook_attempts\"\n",
        "    if not submission_id:\n",
        "      data = {\"id\" : getId(), \"notebook\" : notebook, \"mobile\" : getPassword()}\n",
        "      r = requests.post(url, data = data)\n",
        "      r = json.loads(r.text)\n",
        "\n",
        "      if r[\"status\"] == \"Success\":\n",
        "          return r[\"record_id\"]\n",
        "      elif \"err\" in r:\n",
        "        print(r[\"err\"])\n",
        "        return None\n",
        "      else:\n",
        "        print (\"Something is wrong, the notebook will not be submitted for grading\")\n",
        "        return None\n",
        "\n",
        "    elif getAnswer() and getComplexity() and getAdditional() and getConcepts() and getComments() and getMentorSupport():\n",
        "      f = open(notebook + \".ipynb\", \"rb\")\n",
        "      file_hash = base64.b64encode(f.read())\n",
        "\n",
        "      data = {\"complexity\" : Complexity, \"additional\" :Additional,\n",
        "              \"concepts\" : Concepts, \"record_id\" : submission_id,\n",
        "              \"answer\" : Answer, \"id\" : Id, \"file_hash\" : file_hash,\n",
        "              \"notebook\" : notebook,\n",
        "              \"feedback_experiments_input\" : Comments,\n",
        "              \"feedback_mentor_support\": Mentor_support}\n",
        "      r = requests.post(url, data = data)\n",
        "      r = json.loads(r.text)\n",
        "      if \"err\" in r:\n",
        "        print(r[\"err\"])\n",
        "        return None\n",
        "      else:\n",
        "        print(\"Your submission is successful.\")\n",
        "        print(\"Ref Id:\", submission_id)\n",
        "        print(\"Date of submission: \", r[\"date\"])\n",
        "        print(\"Time of submission: \", r[\"time\"])\n",
        "        print(\"View your submissions: https://dhai-iisc.talentsprint.com/notebook_submissions\")\n",
        "        #print(\"For any queries/discrepancies, please connect with mentors through the chat icon in LMS dashboard.\")\n",
        "        return submission_id\n",
        "    else: submission_id\n",
        "\n",
        "\n",
        "def getAdditional():\n",
        "  try:\n",
        "    if not Additional:\n",
        "      raise NameError\n",
        "    else:\n",
        "      return Additional\n",
        "  except NameError:\n",
        "    print (\"Please answer Additional Question\")\n",
        "    return None\n",
        "\n",
        "def getComplexity():\n",
        "  try:\n",
        "    if not Complexity:\n",
        "      raise NameError\n",
        "    else:\n",
        "      return Complexity\n",
        "  except NameError:\n",
        "    print (\"Please answer Complexity Question\")\n",
        "    return None\n",
        "\n",
        "def getConcepts():\n",
        "  try:\n",
        "    if not Concepts:\n",
        "      raise NameError\n",
        "    else:\n",
        "      return Concepts\n",
        "  except NameError:\n",
        "    print (\"Please answer Concepts Question\")\n",
        "    return None\n",
        "\n",
        "\n",
        "# def getWalkthrough():\n",
        "#   try:\n",
        "#     if not Walkthrough:\n",
        "#       raise NameError\n",
        "#     else:\n",
        "#       return Walkthrough\n",
        "#   except NameError:\n",
        "#     print (\"Please answer Walkthrough Question\")\n",
        "#     return None\n",
        "\n",
        "def getComments():\n",
        "  try:\n",
        "    if not Comments:\n",
        "      raise NameError\n",
        "    else:\n",
        "      return Comments\n",
        "  except NameError:\n",
        "    print (\"Please answer Comments Question\")\n",
        "    return None\n",
        "\n",
        "\n",
        "def getMentorSupport():\n",
        "  try:\n",
        "    if not Mentor_support:\n",
        "      raise NameError\n",
        "    else:\n",
        "      return Mentor_support\n",
        "  except NameError:\n",
        "    print (\"Please answer Mentor support Question\")\n",
        "    return None\n",
        "\n",
        "def getAnswer():\n",
        "  try:\n",
        "    if not Answer:\n",
        "      raise NameError\n",
        "    else:\n",
        "      return Answer\n",
        "  except NameError:\n",
        "    print (\"Please answer Question\")\n",
        "    return None\n",
        "\n",
        "\n",
        "def getId():\n",
        "  try:\n",
        "    return Id if Id else None\n",
        "  except NameError:\n",
        "    return None\n",
        "\n",
        "def getPassword():\n",
        "  try:\n",
        "    return password if password else None\n",
        "  except NameError:\n",
        "    return None\n",
        "\n",
        "submission_id = None\n",
        "### Setup\n",
        "if getPassword() and getId():\n",
        "  submission_id = submit_notebook()\n",
        "  if submission_id:\n",
        "    setup()\n",
        "else:\n",
        "  print (\"Please complete Id and Password cells before running setup\")\n",
        "\n"
      ],
      "execution_count": null,
      "outputs": [
        {
          "output_type": "stream",
          "name": "stdout",
          "text": [
            "Please enter valid Id\n"
          ]
        }
      ]
    },
    {
      "cell_type": "markdown",
      "metadata": {
        "id": "gYmaR2DMuv21"
      },
      "source": [
        "### Conditional Probability"
      ]
    },
    {
      "cell_type": "markdown",
      "metadata": {
        "id": "mB7lR-PBwdD3"
      },
      "source": [
        "The probability of the occurence of an event A given a condition that event B occurs is known as conditional probability.\n",
        "\n",
        "This can be written as : P(A | B) or P(A given B)\n",
        "\n",
        "Furthermore, the conditional probability for events A given event B is calculated as follows:\n",
        "\n",
        "$P(A | B)$ = $\\frac{P(A \\cap B)}{P(B)}$ , where $P(B)\\neq0$\n",
        "\n",
        "**Special Cases of Conditional Probability**\n",
        "\n",
        "1. A and B are disjoint: Here $A \\cap B = \\Phi $, this denotes that A and B cannot occur at the same time.\n",
        "\n",
        "  $P(A|B) = \\frac{P(A \\cap B)} {P(B)}= 0$\n",
        "\n",
        "\n",
        "\n",
        "2. B is a subset of A: If B is a subset of A, then whenever B happens, definitely A must have happened too. Therefore, $A \\cap B = B$\n",
        "\n",
        "  $P(A|B) = \\frac{P(A \\cap B)} {P(B)}$\n",
        "\n",
        "  $P(A|B) = \\frac{P(B)} {P(B)} = 1$, since $A \\cap B = B$\n",
        "\n",
        "\n",
        "3. A is a subset of B: Here, $A \\cap B = A$\n",
        "\n",
        "  $P(A|B) = \\frac{P(A \\cap B)} {P(B)}$\n",
        "\n",
        "  $P(A|B) = \\frac{P(A)} {P(B)} $, since $A \\cap B = A$\n"
      ]
    },
    {
      "cell_type": "markdown",
      "metadata": {
        "id": "qguVOVGIBpdB"
      },
      "source": [
        "1. A fair die is rolled. Assume, A is an event that the outcome is an even number, i.e., A={2,4,6}. Next, let B be the event where the outcome is greater than or equal to 4, i.e., B={4,5,6}. Find the following:\n",
        "\n",
        "  a. Probability of A\n",
        "  \n",
        "  b. Probability of A given B"
      ]
    },
    {
      "cell_type": "markdown",
      "metadata": {
        "id": "VR6l7m3t9dxy"
      },
      "source": [
        "  Calculating probability of occurence of event A i.e.$P(A)$"
      ]
    },
    {
      "cell_type": "code",
      "metadata": {
        "id": "aYNC4chFuyb-",
        "outputId": "2afa2658-a44f-430c-f1a4-1ef00726a602",
        "colab": {
          "base_uri": "https://localhost:8080/"
        }
      },
      "source": [
        "# Total number of outcomes of a die is 6\n",
        "S = 6\n",
        "# Total number of outcomes of event A having even numbers i.e. A = {2, 4, 6} is 3.\n",
        "A = 3\n",
        "# Probability of getting an even number when a die is rolled\n",
        "P_A = A/S\n",
        "print(P_A)"
      ],
      "execution_count": null,
      "outputs": [
        {
          "output_type": "stream",
          "name": "stdout",
          "text": [
            "0.5\n"
          ]
        }
      ]
    },
    {
      "cell_type": "markdown",
      "metadata": {
        "id": "8xZZRTON_Wxz"
      },
      "source": [
        "Calculating probability of event A given B i.e. $P(A|B)$\n",
        "\n",
        "To calculate conditional probability we can use the formula as $P(A | B)$ = $\\frac{\\left | A \\cap B \\right |}{\\left | B \\right |}$      \n",
        "\n",
        "Further, as event B has already occured, the outcome of B is {4,5,6}. Also, event A's outcome is {2,4,6}. Therefore, the outcome of the event A when B has already occured will be $A \\cap B$ which is {4,6}"
      ]
    },
    {
      "cell_type": "code",
      "metadata": {
        "id": "BfXeqKWY_XM6",
        "outputId": "a31a743a-4d9d-4312-e88b-92692df6fea5",
        "colab": {
          "base_uri": "https://localhost:8080/"
        }
      },
      "source": [
        "# Declaring number of events of |A intersection B|=2 as A_B\n",
        "A_B = 2\n",
        "# Declaring number of events of |B| = 3\n",
        "B = 3\n",
        "# Probability of event A given B is calculated as follows\n",
        "P_AB = (A_B)/B\n",
        "print(P_AB)"
      ],
      "execution_count": null,
      "outputs": [
        {
          "output_type": "stream",
          "name": "stdout",
          "text": [
            "0.6666666666666666\n"
          ]
        }
      ]
    },
    {
      "cell_type": "markdown",
      "metadata": {
        "id": "MuSckHwquyxe"
      },
      "source": [
        "### Chain Rule of Conditional Probabilities"
      ]
    },
    {
      "cell_type": "markdown",
      "metadata": {
        "id": "PqtW6DAnwd-C"
      },
      "source": [
        "By now, we know about conditional probability. Further, what if we are interested in knowing the probability of intersections like $A \\cap B$ or $A_{1} \\cap A_{2} \\cap A_{3} \\cap,....,A_{n}$. For this, let us take the formula of conditional probability to derive \"**chain rule of conditional probability**\".\n",
        "\n",
        "Rewriting Conditional Probability in the below format:\n",
        "\n",
        "  $P(A \\cap B)=P(A)P(B|A)=P(B)P(A|B)$.........................(1)\n",
        "\n",
        "  Above formula for three events will be:\n",
        "\n",
        "  $P(A \\cap B \\cap C)= P(A \\cap (B \\cap C))= P(A)P(B \\cap C |A)$\n",
        "\n",
        "  Now, as we know $P(B \\cap C) = P(B)P(C|B)$  (from equation 1)\n",
        "\n",
        "  Apply the condition A on both the sides, we get\n",
        "\n",
        "  $P(B \\cap C|A)=P(B|A)P(C|A,B)$...............................(2)\n",
        "\n",
        "  From equation 1 and 2, we get\n",
        "\n",
        "  $P(A \\cap B \\cap C)=P(A)P(B|A)P(C|A,B)$\n",
        "\n",
        "\n",
        "\n"
      ]
    },
    {
      "cell_type": "markdown",
      "metadata": {
        "id": "DhI8I1mgbiAh"
      },
      "source": [
        "\n",
        "  Finally, the general formula for n events will be\n",
        "\n",
        "  $P(A_{1} \\cap A_{2} \\cap....\\cap A_{n}) = P(A_{1})P(A_{2}|A_{1})P(A_{3}|A_{2}A_{1}).....P(A_{n}|A_{n-1}A_{n-2}....A_{1})$\n"
      ]
    },
    {
      "cell_type": "markdown",
      "metadata": {
        "id": "6LrJ2QJ_DmdS"
      },
      "source": [
        "1. There is a tyre manufacturing factory that produces 250 units per month, 17 of which are defective. We pick 3 units out of 250 units at random. What is the probability that none of them are defective?\n",
        "\n",
        "  **Explanation**: Here, we are picking up 3 units at random. This can be considered as 3 events $A_{1}$, $A_{2}$, and $A_{3}$ of picking up non-defective units. Thus, we have to find the $P(A_{1} \\cap A_{2} \\cap A_{3})$."
      ]
    },
    {
      "cell_type": "markdown",
      "metadata": {
        "id": "F5Hl20t4efyJ"
      },
      "source": [
        "Let us first find the probability of event $A_{1}$"
      ]
    },
    {
      "cell_type": "code",
      "metadata": {
        "id": "oDY_27Gvu4gi",
        "outputId": "5ea6aa08-bc34-4786-b6b1-115edfe702de",
        "colab": {
          "base_uri": "https://localhost:8080/"
        }
      },
      "source": [
        "# Declaring units of production, total number of non-defective units, and number of defective units\n",
        "total_units = 250\n",
        "defec_u = 17\n",
        "n_defec = total_units - defec_u # There are 233 not defective units\n",
        "print(n_defec)\n",
        "# Probability of picking up the non-defective units for the first time (Event A1)\n",
        "P1=n_defec/total_units\n",
        "P1"
      ],
      "execution_count": null,
      "outputs": [
        {
          "output_type": "stream",
          "name": "stdout",
          "text": [
            "233\n"
          ]
        },
        {
          "output_type": "execute_result",
          "data": {
            "text/plain": [
              "0.932"
            ]
          },
          "metadata": {},
          "execution_count": 20
        }
      ]
    },
    {
      "cell_type": "markdown",
      "metadata": {
        "id": "TcwlagAthg2Z"
      },
      "source": [
        "Now, the next item will be chosen from 232 not defective units and 17 defective units. This means we have to calculate $P(A_{2}|A_{1})$"
      ]
    },
    {
      "cell_type": "code",
      "metadata": {
        "id": "dJacbIOqifqG",
        "outputId": "504b1533-78f2-44d4-8f2f-51168988d0e7",
        "colab": {
          "base_uri": "https://localhost:8080/"
        }
      },
      "source": [
        "# The non-defective units will be 1 less than the previous one as we have already picked up one unit\n",
        "n_defec_2 = n_defec - 1\n",
        "# Probability of picking up the non-defective units for the second time (Event A2)\n",
        "total_units_1=249\n",
        "print(n_defec_2)\n",
        "P2 = n_defec_2 / (total_units-1)\n",
        "P2"
      ],
      "execution_count": null,
      "outputs": [
        {
          "output_type": "stream",
          "name": "stdout",
          "text": [
            "232\n"
          ]
        },
        {
          "output_type": "execute_result",
          "data": {
            "text/plain": [
              "0.9317269076305221"
            ]
          },
          "metadata": {},
          "execution_count": 19
        }
      ]
    },
    {
      "cell_type": "markdown",
      "metadata": {
        "id": "vaHGjXNUj-xL"
      },
      "source": [
        "Further, given that $A_{1}$ and $A_{2}$ has occured, we have to find the probability of chosing the 3rd unit.\n",
        "\n",
        "The third unit will be chosen from 231 not defective units and 17 defective units."
      ]
    },
    {
      "cell_type": "code",
      "metadata": {
        "id": "oYZMMlZFTl2a",
        "outputId": "9e3c6726-b886-4717-9d54-6d462c9a3a5a",
        "colab": {
          "base_uri": "https://localhost:8080/"
        }
      },
      "source": [
        "# Again, the non-defective units will be 1 less than the previous one (Event A2)\n",
        "n_defec_3 = n_defec_2 - 1\n",
        "total_units_2= 248\n",
        "print(n_defec_3)\n",
        "P3 = n_defec_3/(total_units-2)\n",
        "P3"
      ],
      "execution_count": null,
      "outputs": [
        {
          "output_type": "stream",
          "name": "stdout",
          "text": [
            "231\n"
          ]
        },
        {
          "output_type": "execute_result",
          "data": {
            "text/plain": [
              "0.9314516129032258"
            ]
          },
          "metadata": {},
          "execution_count": 21
        }
      ]
    },
    {
      "cell_type": "markdown",
      "metadata": {
        "id": "Zmw4OLUYUoxW"
      },
      "source": [
        "The final probability will be calculated as per the below formula:\n",
        "\n",
        " $P(A_{1} \\cap A_{2} \\cap A_{3})$ = $P(A_{1})P(A_{2}|A_{1})P(A_{3}|A_{2},A_{1})$"
      ]
    },
    {
      "cell_type": "code",
      "metadata": {
        "id": "OZqjWbE5VaUG",
        "outputId": "b34ba689-c8b6-4eed-fd30-9b15747928b6",
        "colab": {
          "base_uri": "https://localhost:8080/"
        }
      },
      "source": [
        "# Final probability as per the condition\n",
        "P1 = 233 / 250\n",
        "P2 = 232/ 249\n",
        "P3 = 231 / 248\n",
        "P = P1 * P2 * P3\n",
        "print(f\"Probability that none of the 3 units out of 250 units picked at random are defective is: {P}\")"
      ],
      "execution_count": null,
      "outputs": [
        {
          "output_type": "stream",
          "name": "stdout",
          "text": [
            "Probability that none of the 3 units out of 250 units picked at random are defective is: 0.8088441507967353\n"
          ]
        }
      ]
    },
    {
      "cell_type": "markdown",
      "metadata": {
        "id": "ycL6Vpz_vdxx"
      },
      "source": [
        "### Bayes Theorem"
      ]
    },
    {
      "cell_type": "markdown",
      "metadata": {
        "id": "IdYC5ueBwhJ3"
      },
      "source": [
        "By now, we already know about conditional probability and how to calculate it. Further, suppose that we know P(A|B), but we are interested in the probability P(B|A). We can calculate it using the below formula derived for Bayes Theorem:\n",
        "\n",
        "$P(B|A) = \\frac {P(A|B)P(B)}{P(A)}$ where $P(A)\\neq0$\n",
        "\n",
        "It can also be written as:\n",
        "\n",
        "$P(B_{j}|A) = \\frac {P(A|B_{j})P(B_{j})}{\\sum_{i} P(A|B_{i})P(B_{i})}$\n",
        "\n",
        "where $B_{1},B_{2},...,B_{n}$ form a partition of the sample space.\n",
        "\n"
      ]
    },
    {
      "cell_type": "markdown",
      "metadata": {
        "id": "-avfAxTbtm4L"
      },
      "source": [
        "1. Suppose there are three bags where each bag contains 100 marbles:\n",
        "\n",
        "  a). Bag 1 has 75 red and 25 blue marbles\n",
        "\n",
        "  b). Bag 2 has 60 red and 40 blue marbles\n",
        "\n",
        "  c). Bag 3 has 45 red and 55 blue marbles\n",
        "\n",
        "  We choose one of the bags at random and then pick a random marble from the chosen bag. Further, we observe that the chosen marble is red. What is the probability that the bag chosen was Bag 1?\n",
        "\n"
      ]
    },
    {
      "cell_type": "code",
      "metadata": {
        "id": "Aa2LAbC2vkdG",
        "outputId": "37295cd4-d74e-4e96-dca2-1f6ebec11019",
        "colab": {
          "base_uri": "https://localhost:8080/"
        }
      },
      "source": [
        "from os import P_ALL\n",
        "# Probability of picking up the marbles from Bag 1, Bag 2, and Bag 3\n",
        "P_B1 = 1/3\n",
        "P_B2 = 1/3\n",
        "P_B3 = 1/3\n",
        "# Probability of picking up the red marbles from Bag 1, Bag 2, and Bag 3\n",
        "PR_B1 = 0.75\n",
        "PR_B2 = 0.60\n",
        "PR_B3 = 0.45\n",
        "\n",
        "# Probability of the event where chosen marble is red\n",
        "P_Red= (PR_B1*P_B1+ PR_B2*P_B2+ PR_B3*P_B3)\n",
        "print (P_Red)\n",
        "# YOUR CODE HERE"
      ],
      "execution_count": null,
      "outputs": [
        {
          "output_type": "stream",
          "name": "stdout",
          "text": [
            "0.6\n"
          ]
        }
      ]
    },
    {
      "cell_type": "markdown",
      "metadata": {
        "id": "hy2kJCyPxqlQ"
      },
      "source": [
        "Here, we know $P(R|B_{i})$, but, to calculate the probability that Bag 1 was chosen $P(B_{1}|R)$ we will follow the **Bayes rule**.\n",
        "\n",
        "$P(B_{1}|R) = \\frac{P(R|B_{1})P(B_{1})}{P(R)}$"
      ]
    },
    {
      "cell_type": "code",
      "metadata": {
        "id": "ZL1SL5TRwd6e",
        "outputId": "e2f5b030-c12a-424b-cdc4-49d8bba73cc9",
        "colab": {
          "base_uri": "https://localhost:8080/"
        }
      },
      "source": [
        "# Probability that Bag 1 was chosen\n",
        "# YOUR CODE HERE\n",
        "\n",
        "P_B1R = (PR_B1*P_B1)/P_Red\n",
        "P_B1R"
      ],
      "execution_count": null,
      "outputs": [
        {
          "output_type": "execute_result",
          "data": {
            "text/plain": [
              "0.4166666666666667"
            ]
          },
          "metadata": {},
          "execution_count": 26
        }
      ]
    },
    {
      "cell_type": "markdown",
      "metadata": {
        "id": "l6ZMBUuEN_zf"
      },
      "source": [
        "### Maximum Likelihood Estimation"
      ]
    },
    {
      "cell_type": "markdown",
      "metadata": {
        "id": "VjGSs8O9OBwc"
      },
      "source": [
        "**Maximum Likelihood Estimation:** Maximum likelihood estimation is a method that determines maximum values for the parameter of a model."
      ]
    },
    {
      "cell_type": "markdown",
      "metadata": {
        "id": "ZZz5fFwOOEdp"
      },
      "source": [
        "9. Build 1000 data points from the normal distribution with  mean = 1 and standard deviation = 5. Estimate their maximum likelihood of mean, variance, and standard deviation from the data."
      ]
    },
    {
      "cell_type": "code",
      "source": [
        "import numpy as np\n",
        "import seaborn as sns"
      ],
      "metadata": {
        "id": "QDOHXURW2nol"
      },
      "execution_count": null,
      "outputs": []
    },
    {
      "cell_type": "code",
      "metadata": {
        "id": "WNLcwPvYOGdS",
        "outputId": "38e9985a-ff66-4db1-cc39-409fe5173d86",
        "colab": {
          "base_uri": "https://localhost:8080/",
          "height": 430
        }
      },
      "source": [
        "# Building the distributed data from mean and standard deviation\n",
        "mean = 1\n",
        "std = 5\n",
        "N_points = 1000\n",
        "\n",
        "#  Finding the random normal distributed data\n",
        "data = np.random.normal(mean, std, N_points)\n",
        "sns.histplot(data, kde=True, color=\"red\", stat=\"density\", linewidth=0);"
      ],
      "execution_count": null,
      "outputs": [
        {
          "output_type": "display_data",
          "data": {
            "text/plain": [
              "<Figure size 640x480 with 1 Axes>"
            ],
            "image/png": "[encoded data removed]"
          },
          "metadata": {}
        }
      ]
    },
    {
      "cell_type": "code",
      "metadata": {
        "id": "Inp5af9gOIau",
        "outputId": "e6e9d09e-13fa-469d-d206-8f25995bac08",
        "colab": {
          "base_uri": "https://localhost:8080/"
        }
      },
      "source": [
        "# Printing the original mean and variance\n",
        "print('Original mean is '+str(mean) + ', variance is ' + str(std**2),\" and standard deviation is \" +str(std))"
      ],
      "execution_count": null,
      "outputs": [
        {
          "output_type": "stream",
          "name": "stdout",
          "text": [
            "Original mean is 1, variance is 25  and standard deviation is 5\n"
          ]
        }
      ]
    },
    {
      "cell_type": "code",
      "metadata": {
        "id": "JAxlMkzvONuV",
        "outputId": "8a95972c-db6b-4df6-d9d4-336bc07aaffa",
        "colab": {
          "base_uri": "https://localhost:8080/"
        }
      },
      "source": [
        "# Calculating the mean from the data\n",
        "mu_ML = 1/N_points * sum(data)\n",
        "print('Maximum likelihood estimation of mean from the normal distributed data is '+str(mu_ML))"
      ],
      "execution_count": null,
      "outputs": [
        {
          "output_type": "stream",
          "name": "stdout",
          "text": [
            "Maximum likelihood estimation of mean from the normal distributed data is 1.0420122944478145\n"
          ]
        }
      ]
    },
    {
      "cell_type": "code",
      "metadata": {
        "id": "frylF700OPSA",
        "outputId": "a8ba03fd-24e7-4a2f-ea7b-5688951d632f",
        "colab": {
          "base_uri": "https://localhost:8080/"
        }
      },
      "source": [
        "# Calculating the variance from the data\n",
        "var_ML = (1/(N_points-1)) * sum([(x-mu_ML) ** 2 for x in data])\n",
        "print('Maximum likelihood estimation of variance from the normal distributed data is ' + str(var_ML))"
      ],
      "execution_count": null,
      "outputs": [
        {
          "output_type": "stream",
          "name": "stdout",
          "text": [
            "Maximum likelihood estimation of variance from the normal distributed data is 25.312199854268485\n"
          ]
        }
      ]
    },
    {
      "cell_type": "code",
      "metadata": {
        "id": "CyJ8_Yi6ORds",
        "outputId": "0722e0dd-c634-4541-89db-3875a0d33061",
        "colab": {
          "base_uri": "https://localhost:8080/"
        }
      },
      "source": [
        "import math\n",
        "# Calculating the standard deviation from the data\n",
        "std_ML = math.sqrt(var_ML)\n",
        "print(\"Maximum likelihood estimation of standard deviation from the normal distributed data is  \"+str(std_ML))"
      ],
      "execution_count": null,
      "outputs": [
        {
          "output_type": "stream",
          "name": "stdout",
          "text": [
            "Maximum likelihood estimation of standard deviation from the normal distributed data is  5.031123120563487\n"
          ]
        }
      ]
    },
    {
      "cell_type": "markdown",
      "metadata": {
        "id": "oBGn2dPCapoZ"
      },
      "source": [
        "### Bayesian inference"
      ]
    },
    {
      "cell_type": "markdown",
      "metadata": {
        "id": "jLsEzKdcar0Q"
      },
      "source": [
        "**Bayesian inference :**- Bayesian inference is a method of statistical inference in which Baye's theorem is used to update the probability for a hypothesis as more evidence or information becomes available. Bayesian inference is an important technique in statistics, and especially in mathematical statistics.\n",
        "\n",
        "The core of Bayesian Inference is to combine two different distributions (likelihood and prior) into one “smarter” distribution (posterior). Posterior is **“smarter” in the sense that the classic maximum likelihood estimation (MLE) doesn’t take into account a prior**. Once we calculate the posterior, we use it to find the “best” parameters and the **“best” is in terms of maximizing the posterior probability**, given the data. This process is called Maximum A Posteriori (MAP).\n",
        "\n",
        "Bayesian Inference has three steps.\n",
        "\n",
        "Step 1. **[Prior] Choose a PDF to model your parameter θ**, aka the prior distribution **P(θ)**. This is **your best guess** about parameters **before** seeing the data **X**.\n",
        "\n",
        "Step 2. **[Likelihood] Choose a PDF for $P(X|θ)$**. Basically you are modeling how the data **$X$** will look like given the parameter **$θ$**.\n",
        "\n",
        "Step 3. **[Posterior] Calculate the posterior** distribution **$P(θ|X)$** and pick the **$θ$ that has the highest $P(θ|X)$**.\n",
        "\n",
        "And the posterior becomes the new prior. Repeat step 3 as you get more data.\n",
        "\n",
        "\n",
        "**Formula for calculating Posterior**\n",
        "\n",
        "$P(θ|X) = \\frac{P(X|θ).P(θ)}{\\int P(X|θ).P(θ).dθ}$\n",
        "\n",
        "where, $P(θ|X)$ = Posterior, $P(X|θ)$ = Sampling, $P(θ)$ = Prior, $dθ$ = Normalizing constant\n"
      ]
    },
    {
      "cell_type": "markdown",
      "metadata": {
        "id": "LeqpePDLaveP"
      },
      "source": [
        "10. Bob is selecting one marble from two bowls of marbles. The first bowl has 75 red marbles and 25 blue marbles. The second bowl has 50 red marbles and 50 blue marbles. Given that Bob is equally likely to choose from either bowl and does not discriminate between the marbles themselves, Bob in fact chooses a red marble. What is the probability Bob picked the marble from bowl 1 and bowl 2?"
      ]
    },
    {
      "cell_type": "code",
      "metadata": {
        "id": "g6-fP5raayPb",
        "outputId": "ed68f97a-1b30-4911-9d28-54f1e54957ad",
        "colab": {
          "base_uri": "https://localhost:8080/"
        }
      },
      "source": [
        "# Probability of fetching the marble from bowl\n",
        "P_H_1 = P_H_2 = 0.5\n",
        "\n",
        "# Probability of fetching the red marble from first bowl\n",
        "P_E_H_1 = 75/100\n",
        "\n",
        "# Probability of fetching the marble from second bowl\n",
        "P_E_H_2 = 50/100\n",
        "\n",
        "# Applying the Bayesian formula to pick the red marble from first bowl\n",
        "# YOUR CODE HERE\n",
        "P_H_1_E = (P_E_H_1*P_H_1)/((P_E_H_1*P_H_1)+(P_E_H_2*P_H_2))\n",
        "P_H_2_E = (P_E_H_2*P_H_2)/((P_E_H_1*P_H_1)+(P_E_H_2*P_H_2))\n",
        "print(\"The probability of fetching the red marble from bowl 1 is \"+str(P_H_1_E)+ \" and from bowl 2 is \"+str(P_H_2_E))\n"
      ],
      "execution_count": null,
      "outputs": [
        {
          "output_type": "stream",
          "name": "stdout",
          "text": [
            "The probability of fetching the red marble from bowl 1 is 0.6 and from bowl 2 is 0.4\n"
          ]
        }
      ]
    },
    {
      "cell_type": "markdown",
      "metadata": {
        "id": "bTCNpvaZa16i"
      },
      "source": [
        "### Prior and Posterior distribution"
      ]
    },
    {
      "cell_type": "markdown",
      "metadata": {
        "id": "I-2iTwz8a57C"
      },
      "source": [
        "**Prior distribution:**\n",
        "A Prior distribution represents your belief about the true or false value of a parameter. It shows your “best guess.”"
      ]
    },
    {
      "cell_type": "markdown",
      "metadata": {
        "id": "ZvgASXe4a77D"
      },
      "source": [
        "**Posterior distribution:**  The posterior distribution summarizes what you know after the data has been observed. The summary of the evidence from the new observations is the likelihood function.\n",
        "It is represented as $Posterior$ $Distribution$ $=$ $Prior$ $Distribution + Likelihood$ $Function (“new$ $evidence”)$"
      ]
    },
    {
      "cell_type": "markdown",
      "source": [
        "11. Consider a scenario, where, an education management company conducts free sessions on YouTube on various topics related to Deep Learning. Everytime a session is conducted, around 4000 people actively attends it. After the experts closes the session, a feedback is asked from the attendees. Some people liked the session and some don't. Now, we would like to make predictions about what percentage of people will engage and like when we conduct a session in the future, so that the company can understand about the potential participants willing to continue learning by enrolling in their professional courses.\n",
        "\n"
      ],
      "metadata": {
        "id": "yRLt6LchmNRz"
      }
    },
    {
      "cell_type": "markdown",
      "source": [
        "Let's generate the data X."
      ],
      "metadata": {
        "id": "GgJFH9rznfm4"
      }
    },
    {
      "cell_type": "code",
      "execution_count": null,
      "metadata": {
        "id": "BP3hxvzLsebe"
      },
      "outputs": [],
      "source": [
        "np.set_printoptions(threshold=100)\n",
        "\n",
        "# Generating 4,000 participants reponse.\n",
        "# Assuming the 'likes' or 'dislikes' follow a Bernoulli process - a sequence of binary (success/failure) random variables.\n",
        "# 1 means liked. 0 means dislike.\n",
        "\n",
        "# We pick the success rate of 30%.\n",
        "liked_prob = 0.3\n",
        "\n",
        "# IID (independent and identically distributed) assumption\n",
        "liked_data = np.random.binomial(n=1, p=liked_prob, size=4000)"
      ]
    },
    {
      "cell_type": "markdown",
      "source": [
        "Let us have a look at liked data."
      ],
      "metadata": {
        "id": "9Iu5QZzVogbk"
      }
    },
    {
      "cell_type": "code",
      "source": [
        "print(liked_data)"
      ],
      "metadata": {
        "id": "alGLsVtd1nkz",
        "outputId": "d7f3672a-8cc7-4009-a6f1-2e59c01a4207",
        "colab": {
          "base_uri": "https://localhost:8080/"
        }
      },
      "execution_count": null,
      "outputs": [
        {
          "output_type": "stream",
          "name": "stdout",
          "text": [
            "[0 0 0 ... 0 0 0]\n"
          ]
        }
      ]
    },
    {
      "cell_type": "code",
      "source": [
        "len(liked_data)"
      ],
      "metadata": {
        "id": "gES95aP_1sGs",
        "outputId": "251c8a27-22fa-47c4-ede1-3009525590b0",
        "colab": {
          "base_uri": "https://localhost:8080/"
        }
      },
      "execution_count": null,
      "outputs": [
        {
          "output_type": "execute_result",
          "data": {
            "text/plain": [
              "4000"
            ]
          },
          "metadata": {},
          "execution_count": 36
        }
      ]
    },
    {
      "cell_type": "markdown",
      "source": [
        "Firstly, we will choose the PDF to model the parameter $\\theta$.\n",
        "\n",
        "Note : $\\theta$ is the **'liking'** probability.\n"
      ],
      "metadata": {
        "id": "5pxBSfnBqQzL"
      }
    },
    {
      "cell_type": "markdown",
      "source": [
        "`i) What kind of probability distributions should we use to model a probability?`\n",
        "\n",
        "**Explaination**: Since, we have only one thing to predict, we will use a Beta distribution. It has two parameters, $α$ & $β$, that we need to decide. You can think of $α$ as How many people liked (the number of successes) and $β$ as how many people did’t liked (the number of failures). These parameters — how big or small $α$ & $β$ are — will determine the shape of the distribution."
      ],
      "metadata": {
        "id": "KGtDV0WYvWk2"
      }
    },
    {
      "cell_type": "markdown",
      "source": [
        "`ii) Let us assume that we have 800 people out of 4000 who liked the session. Write this in terms of beta distribution and plot the prior distribution with respect to all` $\\theta$ `values`."
      ],
      "metadata": {
        "id": "TgMS9sfGvufx"
      }
    },
    {
      "cell_type": "code",
      "source": [
        "from scipy import stats\n",
        "# Declaring alpha and beta\n",
        "alpha = 800\n",
        "beta = 4000 - alpha\n",
        "\n",
        "# domain θ\n",
        "theta_range = np.linspace(0, 1, 2000)\n",
        "\n",
        "# prior distribution P(θ)\n",
        "prior = stats.beta.pdf(x = theta_range, a=alpha, b=beta)"
      ],
      "metadata": {
        "id": "kkRa4KY21xA_"
      },
      "execution_count": null,
      "outputs": []
    },
    {
      "cell_type": "markdown",
      "source": [
        "Plotting the distribution"
      ],
      "metadata": {
        "id": "ZYtL7DFkzTCz"
      }
    },
    {
      "cell_type": "code",
      "source": [
        "import matplotlib.pyplot as plt\n",
        "# Plotting the prior distribution\n",
        "plt.rcParams['figure.figsize'] = [20, 7]\n",
        "fig, ax = plt.subplots()\n",
        "plt.plot(theta_range, prior, linewidth=3, color='palegreen')\n",
        "\n",
        "# Add a title\n",
        "plt.title('[Prior] PDF of \"Probability of Claps\"', fontsize=20)\n",
        "\n",
        "# Add X and y Label\n",
        "plt.xlabel('θ', fontsize=16)\n",
        "plt.ylabel('Density', fontsize=16)\n",
        "\n",
        "# Add a grid\n",
        "plt.grid(alpha=.4, linestyle='--')\n",
        "\n",
        "# Show the plot\n",
        "plt.show()"
      ],
      "metadata": {
        "id": "hIA9sLIz10Ut",
        "outputId": "4486a2b0-3be0-48cd-a2d9-55067ab37ea6",
        "colab": {
          "base_uri": "https://localhost:8080/",
          "height": 383
        }
      },
      "execution_count": null,
      "outputs": [
        {
          "output_type": "display_data",
          "data": {
            "text/plain": [
              "<Figure size 2000x700 with 1 Axes>"
            ],
            "image/png": "[encoded data removed]"
          },
          "metadata": {}
        }
      ]
    },
    {
      "cell_type": "markdown",
      "source": [
        "We can observe from the above plot that it spikes at 20% (800 likes / 4000 participants) as expected."
      ],
      "metadata": {
        "id": "mTj_2qES0f-m"
      }
    },
    {
      "cell_type": "markdown",
      "source": [
        "Further, lets get into step 2 which is Likelihood $P(X|θ)$.\n",
        "\n",
        "Choose a probability model for $P(X|θ)$, the probability of seeing the data $X$ given a particular parameter $θ$. We can also call Likelihood as a sampling distribution."
      ],
      "metadata": {
        "id": "fpobrWWr1pqC"
      }
    },
    {
      "cell_type": "markdown",
      "source": [
        "`iii) Find out which probability distribution should be used to model the sampling distribution and the likelihood?`\n",
        "\n",
        "\n"
      ],
      "metadata": {
        "id": "8fZtoqoK68eq"
      }
    },
    {
      "cell_type": "markdown",
      "source": [
        "**Hint:** Since $X$ is binary, and we also have the total number of participants $(n)$ and we want the probability of liked $(p)$. So, we can use Binomial Distribution with $n$ and $p$."
      ],
      "metadata": {
        "id": "L7b4_6F_3VC4"
      }
    },
    {
      "cell_type": "code",
      "source": [
        "# The sampling dist P(X|θ) with a prior θ\n",
        "likelihood = stats.binom.pmf(k = np.sum(liked_data), n = len(liked_data), p = alpha/(alpha+beta))\n",
        "print(likelihood)"
      ],
      "metadata": {
        "id": "htP_gOW_15NW",
        "outputId": "5fd3b8c5-b0b6-4fc8-bdf7-5546a8eb7ea9",
        "colab": {
          "base_uri": "https://localhost:8080/"
        }
      },
      "execution_count": null,
      "outputs": [
        {
          "output_type": "stream",
          "name": "stdout",
          "text": [
            "7.928302349605436e-46\n"
          ]
        }
      ]
    },
    {
      "cell_type": "markdown",
      "source": [
        "`iv)` `Plot the graph for` $P(X|θ)$ `for all possible` $θ$.\n",
        "\n",
        "\n",
        "\n",
        "\n",
        "\n",
        "\n",
        "\n",
        "\n",
        "\n",
        "\n"
      ],
      "metadata": {
        "id": "m17Tg1uV4BqI"
      }
    },
    {
      "cell_type": "code",
      "source": [
        "# Likelihood P(X|θ) for all θ's\n",
        "likelihood = stats.binom.pmf(k = np.sum(liked_data), n = len(liked_data), p = theta_range)\n",
        "\n",
        "# Create the plot\n",
        "fig, ax = plt.subplots()\n",
        "plt.plot(theta_range, likelihood, linewidth=3, color='yellowgreen')\n",
        "\n",
        "# Add a title\n",
        "plt.title('[Likelihood] Probability of people who liked the session' , fontsize=20)\n",
        "\n",
        "# Add X and y Label\n",
        "plt.xlabel('θ', fontsize=16)\n",
        "plt.ylabel('Probability', fontsize=16)\n",
        "\n",
        "# Add a grid\n",
        "plt.grid(alpha=.4, linestyle='--')\n",
        "\n",
        "# Show the plot\n",
        "plt.show()"
      ],
      "metadata": {
        "id": "CGkQt0Fc2D9c",
        "outputId": "9e841031-cb2b-4482-c2f6-3f4faa4ad1eb",
        "colab": {
          "base_uri": "https://localhost:8080/",
          "height": 378
        }
      },
      "execution_count": null,
      "outputs": [
        {
          "output_type": "display_data",
          "data": {
            "text/plain": [
              "<Figure size 2000x700 with 1 Axes>"
            ],
            "image/png": "[encoded data removed]"
          },
          "metadata": {}
        }
      ]
    },
    {
      "cell_type": "markdown",
      "source": [
        "Now, we will try to calculate the posterior distribution.\n",
        "\n",
        "Even though there are thousands of data points, we can convert them into a single scalar — the likelihood **$P(X|θ)$ — by plugging data into the model that you choose** (in this example, the binomial distribution).\n",
        "\n",
        "Then, we calculate **$P(θ)$ & $P(X|θ)$** for a specific **$θ$** and multiply them together. If you do this for every possible **$θ$**, you can pick the highest **$P(θ)$ * $P(X|θ)$** among different **$θ’s$**.\n",
        "\n",
        "Your initial guess about parameters was **$P(θ)$**. Now you are **upgrading a simple $P(θ)$ into something more informative — $P(θ|X)$ — as more data become available.**\n",
        "**$P(θ|X)$** is still the probability of **$θ$**, just like **$P(θ)$** is. However, **$P(θ|X)$** is a smarter version of **$P(θ)$**."
      ],
      "metadata": {
        "id": "OebbkziVDnMM"
      }
    },
    {
      "cell_type": "markdown",
      "source": [
        "`v). Calculate the Posterior Distribution` $P(θ|X)$?"
      ],
      "metadata": {
        "id": "k2CyayTtH_GV"
      }
    },
    {
      "cell_type": "code",
      "source": [
        "# Finding the Prior\n",
        "theta_range_e = theta_range + 0.001\n",
        "prior = stats.beta.cdf(x = theta_range_e, a=alpha, b=beta) - stats.beta.cdf(x = theta_range, a=alpha, b=beta)\n",
        "# prior = stats.beta.pdf(x = theta_range, a=alpha, b=beta)\n",
        "\n",
        "# Finding likelihood\n",
        "likelihood = stats.binom.pmf(k = np.sum(liked_data), n = len(liked_data), p = theta_range)\n",
        "\n",
        "# Element-wise multiplication\n",
        "posterior = likelihood * prior\n",
        "normalized_posterior = posterior / np.sum(posterior)"
      ],
      "metadata": {
        "id": "UdWj32-135ep"
      },
      "execution_count": null,
      "outputs": []
    },
    {
      "cell_type": "markdown",
      "source": [
        "**Note:** We calculated the prior by subtracting two `stats.beta.cdf` instead of using `stats.beta.pdf` because the likelihood `stats.binom.pmf` is a probability while `stats.beta.pdf` returns a density. Even if we use the density to calculate the posterior, it won’t change the optimization result. However, if you want the units to match, converting a density into a probability is necessary."
      ],
      "metadata": {
        "id": "E6jczph5I3gs"
      }
    },
    {
      "cell_type": "markdown",
      "source": [
        "`vi). Plot the graph for Prior, Likelihood, and Posterior together.`"
      ],
      "metadata": {
        "id": "yjbzrjg6HL2u"
      }
    },
    {
      "cell_type": "code",
      "source": [
        "# Plotting all three together\n",
        "fig, axes = plt.subplots(3, 1, sharex=True, figsize=(20,7))\n",
        "plt.xlabel('θ', fontsize=24)\n",
        "axes[0].plot(theta_range, prior, label=\"Prior\", linewidth=3, color='palegreen')\n",
        "axes[0].set_title(\"Prior\", fontsize=16)\n",
        "axes[1].plot(theta_range, likelihood, label=\"Likelihood\", linewidth=3, color='yellowgreen')\n",
        "axes[1].set_title(\"Sampling (Likelihood)\", fontsize=16)\n",
        "axes[2].plot(theta_range, posterior, label='Posterior', linewidth=3, color='olivedrab')\n",
        "axes[2].set_title(\"Posterior\", fontsize=16)\n",
        "plt.show()"
      ],
      "metadata": {
        "id": "wsr9LhoP4F4a",
        "outputId": "6d4255ec-528b-4159-e105-51c49477c492",
        "colab": {
          "base_uri": "https://localhost:8080/",
          "height": 388
        }
      },
      "execution_count": null,
      "outputs": [
        {
          "output_type": "display_data",
          "data": {
            "text/plain": [
              "<Figure size 2000x700 with 3 Axes>"
            ],
            "image/png": "[encoded data removed]"
          },
          "metadata": {}
        }
      ]
    },
    {
      "cell_type": "markdown",
      "source": [
        "When you look at the posterior graph (the 3rd one), **notice it is where the likelihood shifted toward the prior**. The **liked** probability for the prior was 20%. The **liked** probability for the data was given as 30%. Now, the posterior has its peak around 0.25%.\n",
        "\n",
        "Also, notice the width of the bell curves in prior/likelihood has shrunk in the posterior. Because we incorporated more information through sampling, the range of possible parameters is now narrower.\n",
        "\n",
        "The more data you gather, the graph of the posterior will look more like that of the likelihood and less like that of the prior. In other words, as you get more data, the original prior distribution matters less.\n",
        "\n",
        "Finally, we can pick **$\\theta$ that gives the highest posterior** computed by numerical optimization, such as the Gradient Descent or newton method. This whole iterative procedure is called **Maximum A Posteriori estimation (MAP)**."
      ],
      "metadata": {
        "id": "hn_DYtKLJOBh"
      }
    },
    {
      "cell_type": "markdown",
      "metadata": {
        "id": "Q0vkPqqia-RK"
      },
      "source": [
        "12. Construct a prior and posterior distribution with some binominal random distribution techniques."
      ]
    },
    {
      "cell_type": "code",
      "metadata": {
        "id": "8DQzNpiRbBXD"
      },
      "source": [
        "def bern_post(n_params=1000, n_sample=1000, true_p=.5, prior_p=.5, n_prior=1000):\n",
        "    # Creating the samples\n",
        "    params = np.linspace(0, 1, n_params)\n",
        "    sample = np.random.binomial(n=1, p=true_p, size=n_sample)\n",
        "\n",
        "    # Calculating the Likelihood\n",
        "    likelihood = np.array([np.product(stats.bernoulli.pmf(sample, p)) for p in params])\n",
        "    likelihood = likelihood / np.sum(likelihood)\n",
        "\n",
        "    # Prior sample\n",
        "    prior_sample = np.random.binomial(n=1, p=prior_p, size=n_prior)\n",
        "    prior = np.array([np.product(stats.bernoulli.pmf(prior_sample, p)) for p in params])\n",
        "    prior = prior / np.sum(prior)\n",
        "\n",
        "    # Finding the posterior\n",
        "    posterior = [prior[i] * likelihood[i] for i in range(prior.shape[0])]\n",
        "    posterior = posterior / np.sum(posterior)\n",
        "\n",
        "    # Plotting the graph\n",
        "    fig, axes = plt.subplots(3, 1, sharex=True, figsize=(8,8))\n",
        "    axes[0].plot(params, likelihood)\n",
        "    axes[0].set_title(\"Sampling Distribution\")\n",
        "    axes[1].plot(params, prior)\n",
        "    axes[1].set_title(\"Prior Distribution\")\n",
        "    axes[2].plot(params, posterior)\n",
        "    axes[2].set_title(\"Posterior Distribution\")\n",
        "    sns.despine()\n",
        "    plt.tight_layout()\n",
        "\n",
        "    return posterior"
      ],
      "execution_count": null,
      "outputs": []
    },
    {
      "cell_type": "code",
      "metadata": {
        "id": "U9eRUzYobFcP",
        "outputId": "8f7e64e8-351e-403a-9006-3cce36e3f12b",
        "colab": {
          "base_uri": "https://localhost:8080/",
          "height": 898
        }
      },
      "source": [
        "moredata_post = bern_post(n_sample=1000)"
      ],
      "execution_count": null,
      "outputs": [
        {
          "output_type": "stream",
          "name": "stderr",
          "text": [
            "<ipython-input-43-b4336b45ee65>:7: DeprecationWarning: `product` is deprecated as of NumPy 1.25.0, and will be removed in NumPy 2.0. Please use `prod` instead.\n",
            "  likelihood = np.array([np.product(stats.bernoulli.pmf(sample, p)) for p in params])\n",
            "<ipython-input-43-b4336b45ee65>:12: DeprecationWarning: `product` is deprecated as of NumPy 1.25.0, and will be removed in NumPy 2.0. Please use `prod` instead.\n",
            "  prior = np.array([np.product(stats.bernoulli.pmf(prior_sample, p)) for p in params])\n"
          ]
        },
        {
          "output_type": "display_data",
          "data": {
            "text/plain": [
              "<Figure size 800x800 with 3 Axes>"
            ],
            "image/png": "[encoded data removed]"
          },
          "metadata": {}
        }
      ]
    },
    {
      "cell_type": "markdown",
      "metadata": {
        "id": "VHfHdGCP_n6Y"
      },
      "source": [
        "### Please answer the questions below to complete the experiment:\n",
        "\n",
        "\n"
      ]
    },
    {
      "cell_type": "code",
      "metadata": {
        "id": "VgSwVENIPcM6"
      },
      "source": [
        "# @title    A man is known to speak truth 5 out of 8 times. He throws a die and reports that it is a four. Find the probability that it is actually a four. { run: \"auto\", form-width: \"500px\", display-mode: \"form\" }\n",
        "Answer = \"1/4\" #@param [\"\",\"1/8\",\"3/8\", \"1/4\",\"3/4\"]"
      ],
      "execution_count": null,
      "outputs": []
    },
    {
      "cell_type": "code",
      "metadata": {
        "id": "NMzKSbLIgFzQ"
      },
      "source": [
        "#@title How was the experiment? { run: \"auto\", form-width: \"500px\", display-mode: \"form\" }\n",
        "Complexity = \"Good and Challenging for me\" #@param [\"\",\"Too Simple, I am wasting time\", \"Good, But Not Challenging for me\", \"Good and Challenging for me\", \"Was Tough, but I did it\", \"Too Difficult for me\"]\n"
      ],
      "execution_count": null,
      "outputs": []
    },
    {
      "cell_type": "code",
      "metadata": {
        "id": "DjcH1VWSFI2l"
      },
      "source": [
        "#@title If it was too easy, what more would you have liked to be added? If it was very difficult, what would you have liked to have been removed? { run: \"auto\", display-mode: \"form\" }\n",
        "Additional = \"not too easy\" #@param {type:\"string\"}\n"
      ],
      "execution_count": null,
      "outputs": []
    },
    {
      "cell_type": "code",
      "metadata": {
        "id": "4VBk_4VTAxCM"
      },
      "source": [
        "#@title Can you identify the concepts from the lecture which this experiment covered? { run: \"auto\", vertical-output: true, display-mode: \"form\" }\n",
        "Concepts = \"Yes\" #@param [\"\",\"Yes\", \"No\"]\n"
      ],
      "execution_count": null,
      "outputs": []
    },
    {
      "cell_type": "code",
      "metadata": {
        "id": "XH91cL1JWH7m"
      },
      "source": [
        "#@title  Text and image description/explanation and code comments within the experiment: { run: \"auto\", vertical-output: true, display-mode: \"form\" }\n",
        "Comments = \"Very Useful\" #@param [\"\",\"Very Useful\", \"Somewhat Useful\", \"Not Useful\", \"Didn't use\"]\n"
      ],
      "execution_count": null,
      "outputs": []
    },
    {
      "cell_type": "code",
      "metadata": {
        "id": "z8xLqj7VWIKW"
      },
      "source": [
        "#@title Mentor Support: { run: \"auto\", vertical-output: true, display-mode: \"form\" }\n",
        "Mentor_support = \"Very Useful\" #@param [\"\",\"Very Useful\", \"Somewhat Useful\", \"Not Useful\", \"Didn't use\"]\n"
      ],
      "execution_count": null,
      "outputs": []
    },
    {
      "cell_type": "code",
      "metadata": {
        "id": "FzAZHt1zw-Y-",
        "cellView": "form"
      },
      "source": [
        "#@title Run this cell to submit your notebook for grading { vertical-output: true }\n",
        "try:\n",
        "  if submission_id:\n",
        "      return_id = submit_notebook()\n",
        "      if return_id : submission_id = return_id\n",
        "  else:\n",
        "      print(\"Please complete the setup first.\")\n",
        "except NameError:\n",
        "  print (\"Please complete the setup first.\")"
      ],
      "execution_count": null,
      "outputs": []
    }
  ]
}